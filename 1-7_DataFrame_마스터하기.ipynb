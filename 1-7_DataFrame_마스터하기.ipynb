{
  "cells": [
    {
      "cell_type": "markdown",
      "id": "8b45fe0a",
      "metadata": {},
      "source": [
        "#  데이터 다듬기와 가공 (Pandas 심화)\n",
        "\n",
        "## 학습 목표\n",
        "이 토픽을 수강한 뒤, 수강생은 다음을 할 수 있어야 합니다:\n",
        "\n",
        "- 데이터 프레임과 시리즈를 탐색하고 설정할 수 있다.  \n",
        "- 결측값, 중복값, 이상점을 처리할 수 있다.  \n",
        "- 문자 및 숫자 데이터를 가공할 수 있다.  \n",
        "- 날짜와 시간 데이터를 다룰 수 있다.  \n",
        "- 데이터를 합치고 그룹화하여 분석할 수 있다.\n"
      ]
    },
    {
      "cell_type": "markdown",
      "id": "4fe16a74",
      "metadata": {},
      "source": [
        "# 0. 들어가기\n",
        "\n",
        "데이터 분석에서 가장 중요한 첫 단계는 **데이터 클리닝(data cleaning)** 입니다.  \n",
        "- 결측값, 중복값, 이상점을 처리하지 않으면 잘못된 결론에 도달할 수 있습니다.  \n",
        "- 깨끗하고 구조화된 데이터만이 **믿을 수 있는 통계와 모델**을 만들어 줍니다.  \n",
        "\n",
        "👉 이번 파트에서는 Pandas를 활용해 DataFrame을 다루는 기초부터 시작합니다.  \n",
        "\n",
        "# 1. DataFrame 기본기\n",
        "\n",
        "## 1.1 DataFrame과 Series\n",
        "- **Series**: 1차원 데이터 (열 하나)\n",
        "- **DataFrame**: 2차원 데이터 (행 + 열)"
      ]
    },
    {
      "cell_type": "code",
      "execution_count": null,
      "id": "939b2fed",
      "metadata": {},
      "outputs": [],
      "source": [
        "import pandas as pd\n",
        "\n",
        "# Series 예시\n",
        "ages = pd.Series([22, 35, 58, 42])\n",
        "print(ages)\n",
        "\n",
        "# DataFrame 예시\n",
        "data = {\n",
        "    \"Name\": [\"Alice\", \"Bob\", \"Charlie\", \"Diana\"],\n",
        "    \"Age\": [22, 35, 58, 42],\n",
        "    \"Gender\": [\"female\", \"male\", \"male\", \"female\"]\n",
        "}\n",
        "df = pd.DataFrame(data)\n",
        "df"
      ]
    },
    {
      "cell_type": "markdown",
      "id": "7e3f525b",
      "metadata": {},
      "source": [
        "## 1.2 데이터 탐색 함수\n",
        "- `head()` : 상위 5행 미리보기\n",
        "- `tail()` : 하위 5행 미리보기\n",
        "- `shape` : (행 개수, 열 개수)\n",
        "- `columns` : 열 이름 리스트\n",
        "- `info()` : 데이터 타입과 결측치 확인\n",
        "- `describe()` : 기초 통계량 요약"
      ]
    },
    {
      "cell_type": "code",
      "execution_count": null,
      "id": "c1871ff1",
      "metadata": {},
      "outputs": [],
      "source": [
        "import pandas as pd\n",
        "\n",
        "# Titanic 데이터 불러오기\n",
        "titanic = pd.read_csv(\"data/titanic.csv\")\n",
        "\n",
        "# Bike Sharing 데이터 불러오기\n",
        "bike = pd.read_csv(\"data/bike_sharing.csv\")\n",
        "\n",
        "print(titanic.head())\n",
        "print(titanic.tail())\n",
        "print(titanic.shape)\n",
        "print(titanic.columns)\n",
        "print(titanic.info())\n",
        "print(titanic.describe())"
      ]
    },
    {
      "cell_type": "markdown",
      "id": "22ce79dd",
      "metadata": {},
      "source": [
        "## 1.3 인덱스와 컬럼 이름 설정\n",
        "- `set_index(\"컬럼명\")`: 특정 열을 인덱스로 지정\n",
        "- `reset_index()`: 기존 인덱스를 다시 숫자형으로 리셋\n",
        "- `rename(columns={...})`: 열 이름 변경"
      ]
    },
    {
      "cell_type": "code",
      "execution_count": null,
      "id": "9df5ea81",
      "metadata": {},
      "outputs": [],
      "source": [
        "titanic2 = titanic.set_index(\"Name\")\n",
        "print(titanic2.head())\n",
        "\n",
        "titanic2 = titanic2.reset_index()\n",
        "print(titanic2.head())\n",
        "\n",
        "titanic3 = titanic.rename(columns={\"Sex\": \"Gender\"})\n",
        "print(titanic3.head())"
      ]
    },
    {
      "cell_type": "markdown",
      "id": "7e3781c6",
      "metadata": {},
      "source": [
        "## 1.4 데이터 타입 변환\n",
        "- `astype()` : 데이터 타입 변경"
      ]
    },
    {
      "cell_type": "code",
      "execution_count": null,
      "id": "08d6f869",
      "metadata": {},
      "outputs": [],
      "source": [
        "# Age를 float형으로 변환\n",
        "titanic[\"Age\"] = titanic[\"Age\"].astype(float)\n",
        "print(titanic.info())"
      ]
    },
    {
      "cell_type": "markdown",
      "id": "9464715c",
      "metadata": {},
      "source": [
        "## 1.5 불린 인덱싱 (조건으로 행 선택)\n",
        "- 특정 조건을 만족하는 행만 선택할 수 있음\n",
        "- 여러 조건은 **논리 연산자**(`&`, `|`, `~`)로 조합"
      ]
    },
    {
      "cell_type": "code",
      "execution_count": null,
      "id": "51d475ca",
      "metadata": {},
      "outputs": [],
      "source": [
        "# 나이가 30 이상인 행 선택\n",
        "print(titanic[titanic[\"Age\"] >= 30])\n",
        "\n",
        "# 성별이 female이고 나이가 30 이상인 경우\n",
        "print(titanic[(titanic[\"Sex\"] == \"female\") & (titanic[\"Age\"] >= 30)])"
      ]
    },
    {
      "cell_type": "markdown",
      "id": "953e49e8",
      "metadata": {},
      "source": [
        "## 1.6 행과 열 삭제\n",
        "- `drop(\"열이름\", axis=1)`: 열 삭제\n",
        "- `drop(행인덱스, axis=0)`: 행 삭제"
      ]
    },
    {
      "cell_type": "code",
      "execution_count": null,
      "id": "822c3ac5",
      "metadata": {},
      "outputs": [],
      "source": [
        "# 열 삭제\n",
        "titanic_drop_col = titanic.drop(\"Sex\", axis=1)\n",
        "print(titanic_drop_col.head())\n",
        "\n",
        "# 행 삭제 (0번째 행)\n",
        "titanic_drop_row = titanic.drop(0, axis=0)\n",
        "print(titanic_drop_row.head())"
      ]
    },
    {
      "cell_type": "markdown",
      "id": "da2b2711",
      "metadata": {},
      "source": [
        "### ✅ 체크포인트\n",
        "- Pandas의 기본 단위는 **Series(1차원)** 와 **DataFrame(2차원)**  \n",
        "- 데이터 탐색: `head()`, `tail()`, `shape`, `columns`, `info()`, `describe()`  \n",
        "- 인덱스와 컬럼명을 자유롭게 설정 가능 (`set_index`, `reset_index`, `rename`)  \n",
        "- 데이터 타입 변환은 `astype()`  \n",
        "- 불린 인덱싱으로 조건을 만족하는 행 선택 가능  \n",
        "- `drop()`으로 행/열을 삭제할 수 있다."
      ]
    },
    {
      "cell_type": "markdown",
      "id": "ddb26ee9",
      "metadata": {},
      "source": [
        "# 2. 데이터 다듬기\n",
        "\n",
        "데이터는 항상 깨끗하지 않습니다.  \n",
        "- **결측값 (missing values)**: 데이터가 비어 있는 값  \n",
        "- **중복값 (duplicates)**: 동일한 데이터가 여러 번 등장  \n",
        "- **이상점 (outliers)**: 다른 값들과 동떨어진 극단적인 값  \n",
        "\n",
        "이러한 문제를 처리해야 **신뢰할 수 있는 분석**을 할 수 있습니다.  \n",
        "\n",
        "\n",
        "\n",
        "## 2.1 결측값 처리\n",
        "\n",
        "### 결측값 확인\n",
        "- `isna()`: 값이 NaN인지 True/False 반환  \n",
        "- `sum()`: 결측치 개수 세기"
      ]
    },
    {
      "cell_type": "code",
      "execution_count": null,
      "id": "2c0c18a5",
      "metadata": {},
      "outputs": [],
      "source": [
        "# Titanic 데이터 예시\n",
        "print(titanic.isna().sum())"
      ]
    },
    {
      "cell_type": "markdown",
      "id": "0867db81",
      "metadata": {},
      "source": [
        "### 결측값 제거\n",
        "- `dropna()`: 결측치가 있는 행/열 삭제  "
      ]
    },
    {
      "cell_type": "code",
      "execution_count": null,
      "id": "e4895862",
      "metadata": {},
      "outputs": [],
      "source": [
        "titanic_drop = titanic.dropna(subset=[\"Age\"])  # Age가 NaN인 행 제거\n",
        "print(titanic_drop.shape)"
      ]
    },
    {
      "cell_type": "markdown",
      "id": "0ed6c91b",
      "metadata": {},
      "source": [
        "### 결측값 대체\n",
        "- `fillna(값)`: 결측치를 특정 값으로 채우기"
      ]
    },
    {
      "cell_type": "code",
      "execution_count": null,
      "id": "2947fcdc",
      "metadata": {},
      "outputs": [],
      "source": [
        "# Bike Sharing 예시: 기온/습도 결측치를 평균값이나 중간값으로 채울 수 있음  \n",
        "# 평균 나이로 채우기\n",
        "mean_age = titanic[\"Age\"].mean()\n",
        "titanic[\"Age_filled\"] = titanic[\"Age\"].fillna(mean_age)"
      ]
    },
    {
      "cell_type": "markdown",
      "id": "dceb1acd",
      "metadata": {},
      "source": [
        "## 2.2 중복값 처리\n",
        "\n",
        "### 중복 확인\n",
        "- `duplicated()`: 각 행이 중복인지 True/False 반환  \n",
        "- `sum()`: 중복 개수 세기"
      ]
    },
    {
      "cell_type": "code",
      "execution_count": null,
      "id": "64218c92",
      "metadata": {},
      "outputs": [],
      "source": [
        "print(titanic.duplicated().sum())"
      ]
    },
    {
      "cell_type": "markdown",
      "id": "1e61cbb8",
      "metadata": {},
      "source": [
        "### 중복 제거\n",
        "- `drop_duplicates()`: 중복 행 제거  \n"
      ]
    },
    {
      "cell_type": "code",
      "execution_count": null,
      "id": "859dc3e9",
      "metadata": {},
      "outputs": [],
      "source": [
        "titanic_unique = titanic.drop_duplicates()\n",
        "print(titanic_unique.shape)"
      ]
    },
    {
      "cell_type": "markdown",
      "id": "8cf01e8c",
      "metadata": {},
      "source": [
        "## 2.3 이상점 처리\n",
        "\n",
        "### 이상점이란?\n",
        "- 데이터 분포에서 일반적인 범위에서 크게 벗어난 값  \n",
        "- 분석 결과를 왜곡할 수 있으므로 확인이 필요  \n",
        "\n",
        "### 박스플롯으로 이상점 시각화\n",
        "- 박스플롯은 사분위수를 기반으로 이상치를 확인  "
      ]
    },
    {
      "cell_type": "code",
      "execution_count": null,
      "id": "a6f4da0b",
      "metadata": {},
      "outputs": [],
      "source": [
        "import seaborn as sns\n",
        "import matplotlib.pyplot as plt\n",
        "\n",
        "sns.boxplot(x=titanic[\"Age\"])\n",
        "plt.show()\n"
      ]
    },
    {
      "cell_type": "markdown",
      "id": "f5a50a86",
      "metadata": {},
      "source": [
        "\n",
        "\n",
        "\n",
        "\n",
        "### IQR(사분위 범위) 방식으로 이상점 탐지\n",
        "- IQR = Q3 - Q1  \n",
        "- 하한 = Q1 - 1.5 × IQR  \n",
        "- 상한 = Q3 + 1.5 × IQR  \n",
        "- 범위를 벗어난 값 = 이상점  \n",
        "\n"
      ]
    },
    {
      "cell_type": "code",
      "execution_count": null,
      "id": "0eaff428",
      "metadata": {},
      "outputs": [],
      "source": [
        "# Bike Sharing 예시: 대여량(`count`)이 너무 비정상적으로 큰 날을 탐지할 수 있음  \n",
        "\n",
        "Q1 = titanic[\"Age\"].quantile(0.25)\n",
        "Q3 = titanic[\"Age\"].quantile(0.75)\n",
        "IQR = Q3 - Q1\n",
        "\n",
        "lower_bound = Q1 - 1.5 * IQR\n",
        "upper_bound = Q3 + 1.5 * IQR\n",
        "\n",
        "outliers = titanic[(titanic[\"Age\"] < lower_bound) | (titanic[\"Age\"] > upper_bound)]\n",
        "print(outliers[[\"Age\"]])"
      ]
    },
    {
      "cell_type": "markdown",
      "id": "c7f8d561",
      "metadata": {},
      "source": [
        "### ✅ 체크포인트\n",
        "- **결측값**: `isna()`, `dropna()`, `fillna()`로 확인·삭제·대체할 수 있다.  \n",
        "- **중복값**: `duplicated()`, `drop_duplicates()`로 처리할 수 있다.  \n",
        "- **이상점**: 박스플롯과 IQR 방식을 활용해 탐지할 수 있다.  \n"
      ]
    },
    {
      "cell_type": "markdown",
      "id": "88a6e66e",
      "metadata": {},
      "source": [
        "# 3. 문자 데이터 가공\n",
        "\n",
        "데이터 분석에서는 **문자열 처리**가 매우 자주 필요합니다.  \n",
        "예를 들어, 승객 이름에서 호칭(Mr, Mrs 등)을 추출하거나, 텍스트 데이터를 정리할 때 사용됩니다.  \n",
        "\n",
        "## 3.1 대소문자 처리\n",
        "- `str.lower()` : 모두 소문자로 변환  \n",
        "- `str.upper()` : 모두 대문자로 변환  \n",
        "- `str.title()` : 단어의 첫 글자만 대문자로 변환  "
      ]
    },
    {
      "cell_type": "code",
      "execution_count": null,
      "id": "79daeb6b",
      "metadata": {},
      "outputs": [],
      "source": [
        "names = pd.Series([\" Alice \", \"BOB\", \"cHaRlIe \"])\n",
        "\n",
        "print(names.str.lower())   # 소문자 변환\n",
        "print(names.str.upper())   # 대문자 변환\n",
        "print(names.str.title())   # 첫 글자만 대문자"
      ]
    },
    {
      "cell_type": "markdown",
      "id": "97c2da96",
      "metadata": {},
      "source": [
        "## 3.2 문자열 공백 제거\n",
        "- `str.strip()` : 앞뒤 공백 제거  \n",
        "- `str.lstrip()` : 왼쪽 공백 제거  \n",
        "- `str.rstrip()` : 오른쪽 공백 제거  "
      ]
    },
    {
      "cell_type": "code",
      "execution_count": null,
      "id": "930af662",
      "metadata": {},
      "outputs": [],
      "source": [
        "print(names.str.strip())"
      ]
    },
    {
      "cell_type": "markdown",
      "id": "cafd3791",
      "metadata": {},
      "source": [
        "## 3.3 문자열 분리\n",
        "- `str.split(\"구분자\")` : 구분자를 기준으로 분리 → 리스트 반환  \n",
        "- `str.get(인덱스)` 또는 `.str[인덱스]`로 특정 위치 추출  "
      ]
    },
    {
      "cell_type": "code",
      "execution_count": null,
      "id": "9de32f8a",
      "metadata": {},
      "outputs": [],
      "source": [
        "# Titanic 예시: 승객 이름에서 호칭(Mr, Mrs, Miss 등)을 추출  \n",
        "titanic[\"Title\"] = titanic[\"Name\"].str.split(\",\").str[1].str.split(\".\").str[0].str.strip()\n",
        "print(titanic[[\"Name\", \"Title\"]].head())\n"
      ]
    },
    {
      "cell_type": "markdown",
      "id": "64ec0a5c",
      "metadata": {},
      "source": [
        "## 3.4 문자열 대체\n",
        "- `str.replace(\"찾을문자\", \"바꿀문자\")`  "
      ]
    },
    {
      "cell_type": "code",
      "execution_count": null,
      "id": "2d7c0e23",
      "metadata": {},
      "outputs": [],
      "source": [
        "city = pd.Series([\"New York\", \"Los Angeles\", \"new york\"])\n",
        "\n",
        "print(city.str.replace(\"New York\", \"NYC\", case=False))"
      ]
    },
    {
      "cell_type": "markdown",
      "id": "4ccdbe6d",
      "metadata": {},
      "source": [
        "## 3.5 조건 필터링 (문자열 포함 여부)\n",
        "- `str.contains(\"문자열\")`: 특정 문자가 포함된 행만 True  "
      ]
    },
    {
      "cell_type": "code",
      "execution_count": null,
      "id": "10dab7f1",
      "metadata": {},
      "outputs": [],
      "source": [
        "mask = titanic[\"Name\"].str.contains(\"Smith\")\n",
        "print(titanic[mask][[\"Name\", \"Age\"]])"
      ]
    },
    {
      "cell_type": "markdown",
      "id": "ad864e14",
      "metadata": {},
      "source": [
        "### ✅ 체크포인트\n",
        "- 문자열을 소문자/대문자/타이틀 케이스로 변환할 수 있다.  \n",
        "- 공백 제거, 문자열 분리(split), 대체(replace) 등의 전처리 작업이 가능하다.  \n",
        "- `.str.contains()`로 특정 문자를 포함한 행을 쉽게 찾을 수 있다.  \n",
        "- Titanic 데이터에서는 이름(`Name`)에서 호칭 추출, 특정 성씨 검색 등에 활용할 수 있다.  \n"
      ]
    },
    {
      "cell_type": "markdown",
      "id": "e0d8ad1f",
      "metadata": {},
      "source": [
        "# 4. 숫자 데이터 가공\n",
        "\n",
        "숫자 데이터는 단순 계산뿐 아니라, **정규화/표준화**, **구간화(binning)**, **사용자 정의 함수 적용** 등의 작업이 자주 필요합니다.  \n",
        "\n",
        "\n",
        "\n",
        "## 4.1 기본 연산\n",
        "DataFrame/Series는 벡터 연산이 가능하므로, 사칙연산을 바로 적용할 수 있습니다."
      ]
    },
    {
      "cell_type": "code",
      "execution_count": null,
      "id": "b5a00015",
      "metadata": {},
      "outputs": [],
      "source": [
        "numbers = pd.Series([10, 20, 30, 40])\n",
        "\n",
        "print(numbers + 5)   # 모든 원소에 +5\n",
        "print(numbers * 2)   # 모든 원소에 ×2\n",
        "print(numbers / 10)  # 모든 원소에 ÷10"
      ]
    },
    {
      "cell_type": "markdown",
      "id": "70f35325",
      "metadata": {},
      "source": [
        "## 4.2 정규화 (Normalization)\n",
        "데이터를 **0~1 사이 값**으로 바꿔 비교 가능하게 함.  \n",
        "\n",
        "$$\n",
        "x' = \\frac{x - \\min(x)}{\\max(x) - \\min(x)}\n",
        "$$"
      ]
    },
    {
      "cell_type": "code",
      "execution_count": null,
      "id": "35de8f4c",
      "metadata": {},
      "outputs": [],
      "source": [
        "age = titanic[\"Age\"].dropna()\n",
        "age_norm = (age - age.min()) / (age.max() - age.min())\n",
        "print(age_norm.head())"
      ]
    },
    {
      "cell_type": "markdown",
      "id": "45d0f46a",
      "metadata": {},
      "source": [
        "## 4.3 표준화 (Standardization)\n",
        "데이터를 **평균 0, 표준편차 1**로 맞춤.  \n",
        "\n",
        "$$\n",
        "z = \\frac{x - \\mu}{\\sigma}\n",
        "$$"
      ]
    },
    {
      "cell_type": "code",
      "execution_count": null,
      "id": "33844236",
      "metadata": {},
      "outputs": [],
      "source": [
        "age_std = (age - age.mean()) / age.std()\n",
        "print(age_std.head())"
      ]
    },
    {
      "cell_type": "markdown",
      "id": "607b0a0d",
      "metadata": {},
      "source": [
        "## 4.4 구간화 (Binning)\n",
        "연속형 데이터를 범주형 데이터로 변환  \n",
        "\n",
        "- `pd.cut()` : 구간 기준으로 나누기  \n",
        "- `pd.qcut()` : 분위수(quantile) 기준으로 나누기  "
      ]
    },
    {
      "cell_type": "code",
      "execution_count": null,
      "id": "e436e0d0",
      "metadata": {},
      "outputs": [],
      "source": [
        "# 나이를 연령대 구간으로 나누기\n",
        "bins = [0, 12, 18, 30, 50, 80]\n",
        "labels = [\"Child\", \"Teen\", \"Young\", \"Adult\", \"Senior\"]\n",
        "\n",
        "titanic[\"AgeGroup\"] = pd.cut(titanic[\"Age\"], bins=bins, labels=labels)\n",
        "print(titanic[[\"Age\", \"AgeGroup\"]].head())\n"
      ]
    },
    {
      "cell_type": "markdown",
      "id": "77324c9c",
      "metadata": {},
      "source": [
        "## 4.5 apply() 함수\n",
        "복잡한 연산을 함수로 정의하고 적용 가능  "
      ]
    },
    {
      "cell_type": "code",
      "execution_count": null,
      "id": "c0428cd7",
      "metadata": {},
      "outputs": [],
      "source": [
        "def age_category(age):\n",
        "    if pd.isna(age):\n",
        "        return \"Unknown\"\n",
        "    elif age < 18:\n",
        "        return \"Child\"\n",
        "    else:\n",
        "        return \"Adult\"\n",
        "\n",
        "titanic[\"AgeCategory\"] = titanic[\"Age\"].apply(age_category)\n",
        "print(titanic[[\"Age\", \"AgeCategory\"]].head())"
      ]
    },
    {
      "cell_type": "markdown",
      "id": "71ab97b9",
      "metadata": {},
      "source": [
        "### ✅ 체크포인트\n",
        "- 숫자 데이터는 사칙연산으로 쉽게 벡터 연산 가능하다.  \n",
        "- **정규화**는 0~1 범위로, **표준화**는 평균0/표준편차1로 맞춘다.  \n",
        "- `pd.cut()`, `pd.qcut()`으로 구간화가 가능하다.  \n",
        "- `apply()`를 사용하면 사용자 정의 함수를 각 값에 적용할 수 있다.  \n"
      ]
    },
    {
      "cell_type": "markdown",
      "id": "f112d724",
      "metadata": {},
      "source": [
        "# 5. 날짜와 시간 데이터 다루기\n",
        "\n",
        "데이터 분석에서는 **시간 정보**가 매우 중요합니다.  \n",
        "예: 주문 시간, 탑승일, 자전거 대여 일자 등.  \n",
        "Pandas는 `datetime` 타입을 활용하여 날짜와 시간을 쉽게 다룰 수 있습니다.  \n",
        "\n",
        "\n",
        "\n",
        "## 5.1 문자열을 날짜로 변환\n",
        "- `pd.to_datetime()` : 문자열 → 날짜/시간 데이터 변환  "
      ]
    },
    {
      "cell_type": "code",
      "execution_count": null,
      "id": "e5b94f1e",
      "metadata": {},
      "outputs": [],
      "source": [
        "bike[\"datetime\"] = pd.to_datetime(bike[\"datetime\"])\n",
        "print(bike[\"datetime\"].head())\n",
        "print(bike[\"datetime\"].dtype)  # datetime64[ns]"
      ]
    },
    {
      "cell_type": "markdown",
      "id": "d93fd25b",
      "metadata": {},
      "source": [
        "## 5.2 날짜 속성 추출\n",
        "- `.dt.year`, `.dt.month`, `.dt.day`, `.dt.weekday`, `.dt.hour` 등으로 세부 요소 추출 가능"
      ]
    },
    {
      "cell_type": "code",
      "execution_count": null,
      "id": "469be749",
      "metadata": {},
      "outputs": [],
      "source": [
        "bike[\"year\"] = bike[\"datetime\"].dt.year\n",
        "bike[\"month\"] = bike[\"datetime\"].dt.month\n",
        "bike[\"weekday\"] = bike[\"datetime\"].dt.weekday\n",
        "bike[\"hour\"] = bike[\"datetime\"].dt.hour\n",
        "\n",
        "print(bike[[\"datetime\", \"year\", \"month\", \"weekday\", \"hour\"]].head())"
      ]
    },
    {
      "cell_type": "markdown",
      "id": "b7ded4fd",
      "metadata": {},
      "source": [
        "## 5.3 날짜를 인덱스로 설정\n",
        "- `set_index()`로 datetime 컬럼을 인덱스로 지정하면 시계열 데이터 분석에 유용  "
      ]
    },
    {
      "cell_type": "code",
      "execution_count": null,
      "id": "8011983e",
      "metadata": {},
      "outputs": [],
      "source": [
        "bike = bike.set_index(\"datetime\")\n",
        "print(bike.head())"
      ]
    },
    {
      "cell_type": "markdown",
      "id": "5cc6669b",
      "metadata": {},
      "source": [
        "## 5.4 리샘플링 (Resampling)\n",
        "- `resample(\"규칙\")` : 특정 단위(일, 주, 월 등)로 데이터 묶기  \n",
        "- 규칙 예시: `\"D\"`=일, `\"W\"`=주, `\"M\"`=월"
      ]
    },
    {
      "cell_type": "code",
      "execution_count": null,
      "id": "91f323a9",
      "metadata": {},
      "outputs": [],
      "source": [
        "# 일별 평균 대여량\n",
        "daily_mean = bike[\"count\"].resample(\"D\").mean()\n",
        "print(daily_mean.head())\n",
        "\n",
        "# 월별 평균 대여량\n",
        "monthly_mean = bike[\"count\"].resample(\"M\").mean()\n",
        "print(monthly_mean.head())"
      ]
    },
    {
      "cell_type": "markdown",
      "id": "c2c59617",
      "metadata": {},
      "source": [
        "## 5.5 시각화와 함께 활용"
      ]
    },
    {
      "cell_type": "code",
      "execution_count": null,
      "id": "552771de",
      "metadata": {},
      "outputs": [],
      "source": [
        "\n",
        "import matplotlib.pyplot as plt\n",
        "\n",
        "monthly_mean.plot(kind=\"line\", title=\"Monthly Average Bike Demand\")\n",
        "plt.ylabel(\"count\")\n",
        "plt.show()"
      ]
    },
    {
      "cell_type": "markdown",
      "id": "9c2479c5",
      "metadata": {},
      "source": [
        "### ✅ 체크포인트\n",
        "- `pd.to_datetime()`으로 문자열을 datetime 타입으로 변환할 수 있다.  \n",
        "- `.dt.year`, `.dt.month`, `.dt.weekday`, `.dt.hour` 등으로 세부 시간 정보를 추출할 수 있다.  \n",
        "- datetime을 인덱스로 설정하면 시계열 분석에 유리하다.  \n",
        "- `resample()`로 원하는 주기(일, 주, 월) 단위로 데이터 집계가 가능하다.  \n"
      ]
    },
    {
      "cell_type": "markdown",
      "id": "96997e75",
      "metadata": {},
      "source": [
        "# 6. 데이터 합치기\n",
        "\n",
        "분석을 하다 보면 데이터를 여러 개의 테이블(파일)로 나누어 관리하는 경우가 많습니다.  \n",
        "이때 Pandas의 **concat, merge, join**을 사용하여 데이터를 합칠 수 있습니다.  \n",
        "\n",
        "\n",
        "\n",
        "## 6.1 concat()\n",
        "- 여러 DataFrame을 **위아래(행)** 또는 **옆으로(열)** 단순하게 이어 붙임  \n",
        "- 인덱스를 기준으로 맞춤"
      ]
    },
    {
      "cell_type": "code",
      "execution_count": null,
      "id": "f0d50593",
      "metadata": {},
      "outputs": [],
      "source": [
        "import pandas as pd\n",
        "\n",
        "df1 = pd.DataFrame({\"ID\": [1, 2, 3], \"Name\": [\"Alice\", \"Bob\", \"Charlie\"]})\n",
        "df2 = pd.DataFrame({\"ID\": [4, 5], \"Name\": [\"Diana\", \"Evan\"]})\n",
        "\n",
        "# 위아래로 합치기 (행 기준)\n",
        "df_row = pd.concat([df1, df2], axis=0)\n",
        "print(df_row)\n",
        "\n",
        "# 옆으로 합치기 (열 기준)\n",
        "df_col = pd.concat([df1, pd.DataFrame({\"Age\": [22, 35, 40]})], axis=1)\n",
        "print(df_col)"
      ]
    },
    {
      "cell_type": "markdown",
      "id": "7440ff09",
      "metadata": {},
      "source": [
        "## 6.2 merge()\n",
        "- SQL의 JOIN처럼 **공통된 열(키)**를 기준으로 합침  \n",
        "- `how` 옵션: `\"inner\"`, `\"outer\"`, `\"left\"`, `\"right\"`"
      ]
    },
    {
      "cell_type": "code",
      "execution_count": null,
      "id": "313c07c1",
      "metadata": {},
      "outputs": [],
      "source": [
        "df_left = pd.DataFrame({\"ID\": [1, 2, 3], \"Age\": [22, 35, 58]})\n",
        "df_right = pd.DataFrame({\"ID\": [2, 3, 4], \"City\": [\"Seoul\", \"Busan\", \"Incheon\"]})"
      ]
    },
    {
      "cell_type": "code",
      "execution_count": null,
      "id": "08beab30",
      "metadata": {},
      "outputs": [],
      "source": [
        "# 기본은 inner join\n",
        "df_inner = pd.merge(df_left, df_right, on=\"ID\", how=\"inner\")\n",
        "print(df_inner)"
      ]
    },
    {
      "cell_type": "code",
      "execution_count": null,
      "id": "88b50984",
      "metadata": {},
      "outputs": [],
      "source": [
        "# outer join\n",
        "df_outer = pd.merge(df_left, df_right, on=\"ID\", how=\"outer\")\n",
        "print(df_outer)"
      ]
    },
    {
      "cell_type": "markdown",
      "id": "30753e72",
      "metadata": {},
      "source": [
        "## 6.3 join()\n",
        "- 인덱스를 기준으로 결합  \n",
        "- 기본적으로 왼쪽 DataFrame의 인덱스를 기준"
      ]
    },
    {
      "cell_type": "code",
      "execution_count": null,
      "id": "e1054c99",
      "metadata": {},
      "outputs": [],
      "source": [
        "df_left = df_left.set_index(\"ID\")\n",
        "df_right = df_right.set_index(\"ID\")\n",
        "\n",
        "df_join = df_left.join(df_right, how=\"inner\")\n",
        "print(df_join)"
      ]
    },
    {
      "cell_type": "markdown",
      "id": "1115507c",
      "metadata": {},
      "source": [
        "### ✅ 체크포인트\n",
        "- `concat()`은 단순히 행이나 열을 이어 붙이는 방식  \n",
        "- `merge()`는 SQL JOIN처럼 키를 기준으로 데이터 병합  \n",
        "- `join()`은 인덱스를 기준으로 결합  \n"
      ]
    },
    {
      "cell_type": "markdown",
      "id": "6f6ca176",
      "metadata": {},
      "source": [
        "# 7. Groupby와 피벗 테이블\n",
        "\n",
        "데이터를 그룹별로 나누어 집계하거나, 행/열 기준으로 재구조화하여 요약할 때  \n",
        "**groupby()** 와 **pivot_table()** 을 사용합니다.  \n",
        "\n",
        "\n",
        "\n",
        "## 7.1 groupby()\n",
        "\n",
        "- 특정 컬럼을 기준으로 데이터를 그룹화한 뒤, **집계 함수**(mean, sum, count 등)를 적용\n",
        "- `df.groupby(\"컬럼\")[다른컬럼].집계함수()`"
      ]
    },
    {
      "cell_type": "code",
      "execution_count": null,
      "id": "ece33d38",
      "metadata": {},
      "outputs": [],
      "source": [
        "# Titanic: 성별별 평균 나이\n",
        "print(titanic.groupby(\"Sex\")[\"Age\"].mean())\n",
        "\n",
        "# Bike Sharing: 요일별 평균 대여량\n",
        "print(bike.groupby(\"weekday\")[\"count\"].mean())"
      ]
    },
    {
      "cell_type": "markdown",
      "id": "15b621f5",
      "metadata": {},
      "source": [
        "## 7.2 여러 컬럼으로 그룹화\n",
        "\n",
        "- 리스트 형태로 여러 컬럼을 넣으면 다중 그룹화 가능"
      ]
    },
    {
      "cell_type": "code",
      "execution_count": null,
      "id": "c5c29069",
      "metadata": {},
      "outputs": [],
      "source": [
        "# Titanic: 성별 + 객실 등급별 평균 생존율\n",
        "print(titanic.groupby([\"Sex\", \"Pclass\"])[\"Survived\"].mean())"
      ]
    },
    {
      "cell_type": "markdown",
      "id": "b172c85f",
      "metadata": {},
      "source": [
        "## 7.3 pivot_table()\n",
        "\n",
        "- groupby와 비슷하지만, **행/열**을 동시에 지정 가능  \n",
        "- Excel의 피벗 테이블과 유사  \n"
      ]
    },
    {
      "cell_type": "code",
      "execution_count": null,
      "id": "e32a61bb",
      "metadata": {},
      "outputs": [],
      "source": [
        "# Titanic: 성별(Pclass) × 객실 등급별 평균 생존율\n",
        "pivot = titanic.pivot_table(values=\"Survived\", index=\"Sex\", columns=\"Pclass\", aggfunc=\"mean\")\n",
        "print(pivot)"
      ]
    },
    {
      "cell_type": "markdown",
      "id": "b12ec6c0",
      "metadata": {},
      "source": [
        "## 7.4 집계 함수 응용\n",
        "\n",
        "- `agg()`를 사용하면 여러 개의 집계 함수를 한 번에 적용 가능  "
      ]
    },
    {
      "cell_type": "code",
      "execution_count": null,
      "id": "a30f11d2",
      "metadata": {},
      "outputs": [],
      "source": [
        "# Titanic: 성별별 나이의 평균과 중앙값 동시 계산\n",
        "print(titanic.groupby(\"Sex\")[\"Age\"].agg([\"mean\", \"median\"]))"
      ]
    },
    {
      "cell_type": "markdown",
      "id": "43dd3a7f",
      "metadata": {},
      "source": [
        "## 7.5 시각화와 함께 활용"
      ]
    },
    {
      "cell_type": "code",
      "execution_count": null,
      "id": "4918ef62",
      "metadata": {},
      "outputs": [],
      "source": [
        "# 성별/등급별 생존율을 시각화\n",
        "pivot.plot(kind=\"bar\", title=\"Survival Rate by Sex and Pclass\")\n",
        "plt.ylabel(\"Survival Rate\")\n",
        "plt.show()"
      ]
    },
    {
      "cell_type": "markdown",
      "id": "839845c8",
      "metadata": {},
      "source": [
        "### ✅ 체크포인트\n",
        "- `groupby()`는 그룹별 집계 → 단일/다중 컬럼 기준 가능  \n",
        "- `pivot_table()`은 행/열을 동시에 지정하는 요약 테이블  \n",
        "- `agg()`로 여러 통계치를 한 번에 계산 가능  \n",
        "- groupby, pivot_table은 데이터 분석에서 패턴 파악에 필수적인 도구  \n"
      ]
    },
    {
      "cell_type": "markdown",
      "id": "e1253535",
      "metadata": {},
      "source": [
        "### 실습 문제\n",
        "\n",
        "### 문제 1. 결측값 처리\n",
        "Titanic 데이터의 `Age` 컬럼에서 결측치 개수를 확인하고, 평균값으로 채우세요.  \n",
        "\n",
        "<details>\n",
        "<summary>정답 보기</summary>\n",
        "\n",
        "```python\n",
        "# 결측치 개수 확인\n",
        "print(titanic[\"Age\"].isna().sum())\n",
        "\n",
        "# 평균값으로 채우기\n",
        "mean_age = titanic[\"Age\"].mean()\n",
        "titanic[\"Age_filled\"] = titanic[\"Age\"].fillna(mean_age)\n",
        "```\n",
        "</details>"
      ]
    },
    {
      "cell_type": "code",
      "execution_count": null,
      "id": "736ba89f",
      "metadata": {},
      "outputs": [],
      "source": [
        "# 여기에 작성하세요"
      ]
    },
    {
      "cell_type": "markdown",
      "id": "fe7a0b8c",
      "metadata": {},
      "source": [
        "### 문제 2. 중복값 제거\n",
        "Titanic 데이터에서 중복된 행의 개수를 확인하고, 제거한 뒤 남은 데이터 크기를 출력하세요.  \n",
        "\n",
        "<details>\n",
        "<summary>정답 보기</summary>\n",
        "\n",
        "```python\n",
        "print(titanic.duplicated().sum())   # 중복 행 개수\n",
        "titanic_unique = titanic.drop_duplicates()\n",
        "print(titanic_unique.shape)\n",
        "```\n",
        "</details>"
      ]
    },
    {
      "cell_type": "code",
      "execution_count": null,
      "id": "ca44bb26",
      "metadata": {},
      "outputs": [],
      "source": [
        "# 여기에 작성하세요"
      ]
    },
    {
      "cell_type": "markdown",
      "id": "24141bf7",
      "metadata": {},
      "source": [
        "### 문제 3. 이상점 탐지\n",
        "Titanic 데이터에서 `Fare` 컬럼의 이상점을 IQR 방식을 사용해 탐지하세요.  \n",
        "\n",
        "<details>\n",
        "<summary>정답 보기</summary>\n",
        "\n",
        "```python\n",
        "Q1 = titanic[\"Fare\"].quantile(0.25) # 하위 25%\n",
        "Q3 = titanic[\"Fare\"].quantile(0.75) # 상위 25%\n",
        "IQR = Q3 - Q1\n",
        "\n",
        "lower_bound = Q1 - 1.5 * IQR\n",
        "upper_bound = Q3 + 1.5 * IQR\n",
        "\n",
        "outliers = titanic[(titanic[\"Fare\"] < lower_bound) | (titanic[\"Fare\"] > upper_bound)]\n",
        "print(outliers[[\"Fare\"]].head())\n",
        "```\n",
        "</details>"
      ]
    },
    {
      "cell_type": "code",
      "execution_count": null,
      "id": "bed05916",
      "metadata": {},
      "outputs": [],
      "source": [
        "# 여기에 작성하세요"
      ]
    },
    {
      "cell_type": "markdown",
      "id": "3831d053",
      "metadata": {},
      "source": [
        "### 문제 4. 문자열 가공\n",
        "Titanic 데이터의 `Name` 컬럼에서 승객 호칭(예: Mr, Mrs, Miss)을 추출하여 새로운 컬럼 `Title`을 만드세요.  \n",
        "\n",
        "<details>\n",
        "<summary>정답 보기</summary>\n",
        "\n",
        "```python\n",
        "titanic[\"Title\"] = titanic[\"Name\"].str.split(\",\").str[1].str.split(\".\").str[0].str.strip()\n",
        "print(titanic[[\"Name\", \"Title\"]].head())\n",
        "```\n",
        "</details>\n",
        "\n"
      ]
    },
    {
      "cell_type": "code",
      "execution_count": null,
      "id": "3f4251f1",
      "metadata": {},
      "outputs": [],
      "source": [
        "# 여기에 작성하세요\n"
      ]
    },
    {
      "cell_type": "markdown",
      "id": "53774859",
      "metadata": {},
      "source": [
        "### 문제 5. 구간화\n",
        "Titanic 데이터의 `Age` 컬럼을 기준으로 나이를 `Child(0-12), Teen(13-19), Adult(20-64), Senior(65+)` 구간으로 나누어 새로운 컬럼을 추가하세요.  \n",
        "\n",
        "<details>\n",
        "<summary>정답 보기</summary>\n",
        "\n",
        "```python\n",
        "bins = [0, 12, 19, 64, 100]\n",
        "labels = [\"Child\", \"Teen\", \"Adult\", \"Senior\"]\n",
        "\n",
        "titanic[\"AgeGroup\"] = pd.cut(titanic[\"Age\"], bins=bins, labels=labels)\n",
        "print(titanic[[\"Age\", \"AgeGroup\"]].head())\n",
        "```\n",
        "</details>"
      ]
    },
    {
      "cell_type": "code",
      "execution_count": null,
      "id": "446212d0",
      "metadata": {},
      "outputs": [],
      "source": [
        "# 여기에 작성하세요\n",
        "bins = [0, 12, 19, 64, 100]\n",
        "labels = [\"Child\", \"Teen\", \"Adult\", \"Senior\"]"
      ]
    },
    {
      "cell_type": "markdown",
      "id": "b5f02910",
      "metadata": {},
      "source": [
        "### 문제 6. 날짜 처리\n",
        "Bike Sharing 데이터에서 `datetime` 컬럼을 datetime 타입으로 변환하고, `year`, `month`, `weekday` 컬럼을 추출하세요.  \n",
        "\n",
        "<details>\n",
        "<summary>정답 보기</summary>\n",
        "\n",
        "```python\n",
        "bike[\"datetime\"] = pd.to_datetime(bike[\"datetime\"])\n",
        "bike[\"year\"] = bike[\"datetime\"].dt.year\n",
        "bike[\"month\"] = bike[\"datetime\"].dt.month\n",
        "bike[\"weekday\"] = bike[\"datetime\"].dt.weekday\n",
        "\n",
        "print(bike[[\"datetime\", \"year\", \"month\", \"weekday\"]].head())\n",
        "```\n",
        "</details>"
      ]
    },
    {
      "cell_type": "code",
      "execution_count": null,
      "id": "f93afe96",
      "metadata": {},
      "outputs": [],
      "source": [
        "# 여기에 작성하세요"
      ]
    },
    {
      "cell_type": "markdown",
      "id": "49fd81a3",
      "metadata": {},
      "source": [
        "### 문제 7. 데이터 합치기\n",
        "아래 두 DataFrame을 `ID` 컬럼을 기준으로 merge하세요.  \n",
        "\n",
        "\n",
        "df_left = pd.DataFrame({\"ID\": [1, 2, 3], \"Age\": [22, 35, 58]})\n",
        "df_right = pd.DataFrame({\"ID\": [2, 3, 4], \"City\": [\"Seoul\", \"Busan\", \"Incheon\"]})\n",
        "\n",
        "\n",
        "<details>\n",
        "<summary>정답 보기</summary>\n",
        "\n",
        "```python\n",
        "df_merge = pd.merge(df_left, df_right, on=\"ID\", how=\"inner\")\n",
        "print(df_merge)\n",
        "```\n",
        "</details>"
      ]
    },
    {
      "cell_type": "code",
      "execution_count": null,
      "id": "b41f45c1",
      "metadata": {},
      "outputs": [],
      "source": [
        "# 여기에 작성하세요"
      ]
    },
    {
      "cell_type": "markdown",
      "id": "a05399a1",
      "metadata": {},
      "source": [
        "### 문제 8. 그룹화 & 피벗 테이블\n",
        "Titanic 데이터에서 성별(`Sex`)과 객실 등급(`Pclass`)별 평균 생존율을 구하고, 피벗 테이블로 요약하세요.  \n",
        "\n",
        "<details>\n",
        "<summary>정답 보기</summary>\n",
        "\n",
        "```python\n",
        "# groupby\n",
        "print(titanic.groupby([\"Sex\", \"Pclass\"])[\"Survived\"].mean())\n",
        "\n",
        "# pivot_table\n",
        "pivot = titanic.pivot_table(values=\"Survived\", index=\"Sex\", columns=\"Pclass\", aggfunc=\"mean\")\n",
        "print(pivot)\n",
        "```\n",
        "</details>"
      ]
    },
    {
      "cell_type": "code",
      "execution_count": null,
      "id": "e04e6d32",
      "metadata": {},
      "outputs": [],
      "source": []
    },
    {
      "cell_type": "markdown",
      "id": "66b466d7",
      "metadata": {},
      "source": [
        "### 문제 9. 다중 조건 불린 인덱싱\n",
        "Titanic 데이터에서 Age >= 30 이고 Sex == \"male\" 인 행만 선택하여 Name, Age, Sex, Fare 컬럼만 보여주세요.\n",
        "\n",
        "<details>\n",
        "<summary>정답 보기</summary>\n",
        "\n",
        "```python\n",
        "mask = (titanic[\"Age\"] >= 30) & (titanic[\"Sex\"] == \"male\")\n",
        "print(titanic.loc[mask, [\"Name\", \"Age\", \"Sex\", \"Fare\"]].head())\n",
        "```\n",
        "</details>"
      ]
    },
    {
      "cell_type": "code",
      "execution_count": null,
      "id": "4519298c",
      "metadata": {},
      "outputs": [],
      "source": [
        "# 여기에 작성하세요"
      ]
    },
    {
      "cell_type": "markdown",
      "id": "92579f1f",
      "metadata": {},
      "source": [
        "### 문제 10. 다중 기준 정렬\n",
        "Titanic 데이터를 Age 오름차순, Fare 내림차순으로 동시에 정렬하고 상위 10행을 출력하세요.\n",
        "\n",
        "<details>\n",
        "<summary>정답 보기</summary>\n",
        "\n",
        "```python\n",
        "sorted_df = titanic.sort_values(by=[\"Age\", \"Fare\"], ascending=[True, False])\n",
        "print(sorted_df.head(10))\n",
        "```\n",
        "</details>"
      ]
    },
    {
      "cell_type": "code",
      "execution_count": null,
      "id": "6c49214c",
      "metadata": {},
      "outputs": [],
      "source": [
        "# 여기에 작성하세요"
      ]
    },
    {
      "cell_type": "markdown",
      "id": "a4ad451e",
      "metadata": {},
      "source": [
        "### 문제 11. 인덱스 설정/리셋\n",
        "Titanic 데이터에서 Name을 인덱스로 설정한 후, 다시 기본 정수 인덱스로 리셋하세요.\n",
        "<details>\n",
        "<summary>정답 보기</summary>\n",
        "\n",
        "```python\n",
        "titanic_idx = titanic.set_index(\"Name\")\n",
        "print(titanic_idx.head())\n",
        "\n",
        "titanic_reset = titanic_idx.reset_index()\n",
        "print(titanic_reset.head())\n",
        "```\n",
        "</details>"
      ]
    },
    {
      "cell_type": "code",
      "execution_count": null,
      "id": "ed3ff300",
      "metadata": {},
      "outputs": [],
      "source": [
        "# 여기에 작성하세요"
      ]
    },
    {
      "cell_type": "markdown",
      "id": "2f20f481",
      "metadata": {},
      "source": [
        "### 문제 12. 카테고리형 변환\n",
        "Pclass와 Sex 컬럼을 범주형(category)으로 변환하고 info()로 타입 변화를 확인하세요.\n",
        "\n",
        "<details>\n",
        "<summary>정답 보기</summary>\n",
        "\n",
        "```python\n",
        "titanic[\"Pclass\"] = titanic[\"Pclass\"].astype(\"category\")\n",
        "titanic[\"Sex\"] = titanic[\"Sex\"].astype(\"category\")\n",
        "titanic.info()\n",
        "```\n",
        "</details>"
      ]
    },
    {
      "cell_type": "code",
      "execution_count": null,
      "id": "2ff14599",
      "metadata": {},
      "outputs": [],
      "source": [
        "# 여기에 작성하세요"
      ]
    },
    {
      "cell_type": "markdown",
      "id": "fdedae5e",
      "metadata": {},
      "source": [
        "### 문제 13. 사용자 정의 함수 적용\n",
        "Age를 이용해 성인/미성년 여부를 표시하는 IsAdult 컬럼을 생성하세요. (나이 < 18 → 0, 그 외 → 1. 결측치는 -1)\n",
        "\n",
        "<details>\n",
        "<summary>정답 보기</summary>\n",
        "\n",
        "```python\n",
        "def is_adult(age):\n",
        "    if pd.isna(age):\n",
        "        return -1\n",
        "    return 1 if age >= 18 else 0\n",
        "\n",
        "titanic[\"IsAdult\"] = titanic[\"Age\"].apply(is_adult)\n",
        "print(titanic[[\"Age\", \"IsAdult\"]].head())\n",
        "\n",
        "```\n",
        "</details>"
      ]
    },
    {
      "cell_type": "code",
      "execution_count": null,
      "id": "5881523b",
      "metadata": {},
      "outputs": [],
      "source": [
        "# 여기에 작성하세요"
      ]
    },
    {
      "cell_type": "markdown",
      "id": "5cfc0d36",
      "metadata": {},
      "source": [
        "### 문제 14. 분위수 기반 구간화(qcut)\n",
        "Fare를 사분위수 기준 4개 구간으로 나누어 FareQuartile 컬럼을 생성하세요.\n",
        "\n",
        "<details>\n",
        "<summary>정답 보기</summary>\n",
        "\n",
        "```python\n",
        "titanic[\"FareQuartile\"] = pd.qcut(titanic[\"Fare\"], q=4, labels=[\"Q1\",\"Q2\",\"Q3\",\"Q4\"])\n",
        "print(titanic[[\"Fare\", \"FareQuartile\"]].head())\n",
        "\n",
        "```\n",
        "</details>"
      ]
    },
    {
      "cell_type": "code",
      "execution_count": null,
      "id": "20ab3678",
      "metadata": {},
      "outputs": [],
      "source": [
        "# 여기에 작성하세요"
      ]
    },
    {
      "cell_type": "markdown",
      "id": "6bffe8e9",
      "metadata": {},
      "source": [
        "### 문제 15. 중복값 처리(부분 컬럼 기준)\n",
        "\n",
        "Name과 Ticket 조합이 중복된 행을 제거하세요(첫 번째만 남김). 제거 전/후 행 수를 출력하세요.\n",
        "\n",
        "<details>\n",
        "<summary>정답 보기</summary>\n",
        "\n",
        "```python\n",
        "before = len(titanic)\n",
        "titanic_dedup = titanic.drop_duplicates(subset=[\"Name\", \"Ticket\"])\n",
        "after = len(titanic_dedup)\n",
        "print(\"제거 전:\", before, \"제거 후:\", after)\n",
        "```\n",
        "</details>"
      ]
    },
    {
      "cell_type": "code",
      "execution_count": null,
      "id": "218ddb10",
      "metadata": {},
      "outputs": [],
      "source": [
        "# 여기에 작성하세요"
      ]
    },
    {
      "cell_type": "markdown",
      "id": "61a0060c",
      "metadata": {},
      "source": [
        "### 문제 16. 문자열 처리(덱 정보 추출)\n",
        "\n",
        "Cabin 결측치는 \"Unknown\"으로 채우고, CabinDeck(첫 문자만 추출) 컬럼을 만드세요.\n",
        "\n",
        "<details>\n",
        "<summary>정답 보기</summary>\n",
        "\n",
        "```python\n",
        "titanic[\"Cabin\"] = titanic[\"Cabin\"].fillna(\"Unknown\")\n",
        "titanic[\"CabinDeck\"] = titanic[\"Cabin\"].astype(str).str[0]\n",
        "print(titanic[[\"Cabin\", \"CabinDeck\"]].head())\n",
        "\n",
        "```\n",
        "</details>"
      ]
    },
    {
      "cell_type": "code",
      "execution_count": null,
      "id": "8a60ad49",
      "metadata": {},
      "outputs": [],
      "source": [
        "# 여기에 작성하세요"
      ]
    },
    {
      "cell_type": "markdown",
      "id": "92c68b67",
      "metadata": {},
      "source": [
        "### 문제 17. 시계열 리샘플링\n",
        "\n",
        "Bike Sharing 데이터에서 datetime을 인덱스로 설정한 뒤, count의 월별 평균을 계산하세요.\n",
        "\n",
        "<details>\n",
        "<summary>정답 보기</summary>\n",
        "\n",
        "```python\n",
        "7. 시계열 리샘플링\n",
        "\n",
        "Bike Sharing 데이터에서 datetime을 인덱스로 설정한 뒤, count의 월별 평균을 계산하세요.\n",
        "```\n",
        "</details>"
      ]
    },
    {
      "cell_type": "code",
      "execution_count": null,
      "id": "1f9c23a4",
      "metadata": {},
      "outputs": [],
      "source": [
        "# 여기에 작성하세요"
      ]
    },
    {
      "cell_type": "markdown",
      "id": "93a2aabb",
      "metadata": {},
      "source": [
        "### 문제 18. 다양한 조인 실습\n",
        "\n",
        "아래 두 DataFrame으로 left join과 outer join 결과를 각각 만드세요.\n",
        "\n",
        "```python\n",
        "A = pd.DataFrame({\"ID\":[1,2,3], \"City\":[\"Seoul\",\"Busan\",\"Daegu\"]})\n",
        "B = pd.DataFrame({\"ID\":[2,3,4], \"Income\":[50,60,70]})\n",
        "```\n",
        "\n",
        "<details>\n",
        "<summary>정답 보기</summary>\n",
        "\n",
        "```python\n",
        "A = pd.DataFrame({\"ID\":[1,2,3], \"City\":[\"Seoul\",\"Busan\",\"Daegu\"]})\n",
        "B = pd.DataFrame({\"ID\":[2,3,4], \"Income\":[50,60,70]})\n",
        "\n",
        "left_join = pd.merge(A, B, on=\"ID\", how=\"left\")\n",
        "outer_join = pd.merge(A, B, on=\"ID\", how=\"outer\")\n",
        "\n",
        "print(left_join)\n",
        "print(outer_join)\n",
        "```\n",
        "</details>"
      ]
    },
    {
      "cell_type": "code",
      "execution_count": null,
      "id": "ed3cb0ab",
      "metadata": {},
      "outputs": [],
      "source": [
        "# 여기에 작성하세요\n",
        "A = pd.DataFrame({\"ID\":[1,2,3], \"City\":[\"Seoul\",\"Busan\",\"Daegu\"]})\n",
        "B = pd.DataFrame({\"ID\":[2,3,4], \"Income\":[50,60,70]})"
      ]
    },
    {
      "cell_type": "markdown",
      "id": "9eb9cee0",
      "metadata": {},
      "source": [
        "### 문제 19. 그룹 집계 다중 통계\n",
        "\n",
        "Titanic 데이터에서 Sex별 Age의 평균·중앙값, Fare의 평균·최대값을 한 번에 구하세요.\n",
        "\n",
        "<details>\n",
        "<summary>정답 보기</summary>\n",
        "\n",
        "```python\n",
        "agg_df = titanic.groupby(\"Sex\").agg({\n",
        "    \"Age\": [\"mean\", \"median\"],\n",
        "    \"Fare\": [\"mean\", \"max\"]\n",
        "})\n",
        "print(agg_df)\n",
        "\n",
        "```\n",
        "</details>"
      ]
    },
    {
      "cell_type": "code",
      "execution_count": null,
      "id": "1db39a3c",
      "metadata": {},
      "outputs": [],
      "source": [
        "# 여기에 작성하세요"
      ]
    },
    {
      "cell_type": "markdown",
      "id": "42fb3c4c",
      "metadata": {},
      "source": [
        "### 문제 20. 피벗 테이블 + 합계(margins)\n",
        "\n",
        "Pclass(행) × Sex(열) 기준 Survived 평균을 피벗 테이블로 만들고, 행/열 합계를 포함하여 출력하세요.\n",
        "\n",
        "<details>\n",
        "<summary>정답 보기</summary>\n",
        "\n",
        "```python\n",
        "pivot = titanic.pivot_table(\n",
        "    values=\"Survived\",\n",
        "    index=\"Pclass\",\n",
        "    columns=\"Sex\",\n",
        "    aggfunc=\"mean\",\n",
        "    margins=True,        # 합계(평균) 행/열\n",
        "    margins_name=\"Total\" # 합계 라벨명\n",
        ")\n",
        "print(pivot)\n",
        "\n",
        "```\n",
        "</details>"
      ]
    },
    {
      "cell_type": "code",
      "execution_count": null,
      "id": "c1a079d8",
      "metadata": {},
      "outputs": [],
      "source": [
        "# 여기에 작성하세요\n",
        "pivot = titanic.pivot_table # 코드를 이어서 완성하세요"
      ]
    },
    {
      "cell_type": "markdown",
      "id": "ad26efd5",
      "metadata": {},
      "source": [
        "### ✅ 체크포인트\n",
        "- 결측값, 중복값, 이상점은 반드시 확인 후 처리해야 한다.  \n",
        "- 문자열, 숫자, 날짜 데이터를 가공하여 분석에 적합한 형태로 바꿀 수 있다.  \n",
        "- `merge()`, `groupby()`, `pivot_table()`은 데이터 분석 실무에서 자주 쓰이는 핵심 기능이다."
      ]
    },
    {
      "cell_type": "markdown",
      "id": "03dd0724",
      "metadata": {},
      "source": [
        "# 정리\n",
        "\n",
        "### 1. DataFrame 기본기\n",
        "- **DataFrame, Series 탐색하기**  \n",
        "  - `head()`, `tail()`, `shape`, `columns`, `info()`\n",
        "- **데이터 타입 설정하기**  \n",
        "  - `astype()`으로 형 변환\n",
        "- **인덱스와 컬럼명 다루기**  \n",
        "  - `set_index()`, `reset_index()`, `rename()`\n",
        "- **다중 조건 불린 인덱싱**  \n",
        "  - `(조건1) & (조건2)`, `(조건1) | (조건2)`\n",
        "- **데이터 삭제하기**  \n",
        "  - `drop()`으로 행/열 삭제\n",
        "\n",
        "\n",
        "### 2. 데이터 다듬기\n",
        "- **결측값 처리**  \n",
        "  - `isna()`, `dropna()`, `fillna()`  \n",
        "- **중복값 처리**  \n",
        "  - `duplicated()`, `drop_duplicates()`  \n",
        "- **이상점 처리**  \n",
        "  - 박스플롯 활용 → IQR 방식으로 이상치 탐색 및 제거  \n",
        "\n",
        "👉 Titanic 예시: 나이(`Age`) 결측치 처리  \n",
        "👉 Bike Sharing 예시: 이상적으로 큰 대여량 탐지  \n",
        "\n",
        "\n",
        "### 3. 문자 데이터 가공\n",
        "- **대소문자 처리**: `str.lower()`, `str.upper()`, `str.title()`  \n",
        "- **문자열 분리**: `str.split()`  \n",
        "- **공백 제거**: `str.strip()`  \n",
        "- **값 대체**: `str.replace()`  \n",
        "\n",
        "👉 Titanic 예시: 승객 이름(`Name`)에서 호칭(Mr, Mrs, Miss) 추출  \n",
        "👉 Gapminder 예시: 국가 이름 전처리  \n",
        "\n",
        "\n",
        "### 4. 숫자 데이터 가공\n",
        "- **사칙연산**: 기본 연산자 활용  \n",
        "- **정규화/표준화**: (x-min)/(max-min), (x-mean)/std  \n",
        "- **구간화(Binning)**: `pd.cut()`, `pd.qcut()`  \n",
        "- **apply 함수**: 행/열 단위 사용자 정의 연산  \n",
        "\n",
        "👉 Bike Sharing 예시: 대여량(`count`)을 “Low/Medium/High” 등급으로 구간화  \n",
        "\n",
        "\n",
        "### 5. 날짜와 시간 데이터\n",
        "- `pd.to_datetime()`으로 문자열 → 날짜 변환  \n",
        "- 속성: `.dt.year`, `.dt.month`, `.dt.weekday`  \n",
        "- 시계열 인덱스: `set_index(datetime)`  \n",
        "- 리샘플링: `resample(\"D\")`, `resample(\"M\")`  \n",
        "\n",
        "👉 Bike Sharing 예시: 요일별/월별 수요 비교  \n",
        "\n",
        "\n",
        "### 6. 데이터 합치기\n",
        "- **concat()**: 위/옆으로 단순 연결  \n",
        "- **merge()**: SQL의 join과 비슷 (키 기준으로 병합)  \n",
        "- **join()**: 인덱스 기준 결합  \n",
        "\n",
        "👉 Titanic 예시: 승객 데이터 + 추가 데이터셋 합치기  \n",
        "👉 Gapminder 예시: 인구 데이터와 GDP 데이터 병합  \n",
        "\n",
        "\n",
        "### 7. Groupby와 피벗 테이블\n",
        "- **groupby()**: 그룹별 집계 (예: 평균, 합계)  \n",
        "- **pivot_table()**: 행/열 기준 집계 결과를 표 형태로 변환  \n",
        "\n",
        "\n",
        "### ✅ 체크포인트\n",
        "- Pandas DataFrame은 탐색 → 클리닝 → 가공 → 분석 → 시각화까지 한 번에 이어진다.  \n",
        "- 결측값/중복값/이상점 처리는 데이터 분석의 기본기다.  \n",
        "- 문자열과 숫자 데이터를 가공하는 다양한 방법이 존재한다.  \n",
        "- 날짜/시간 데이터와 그룹화 기능을 활용하면 시계열 분석까지 가능하다.  \n",
        "- `concat()`, `merge()`, `groupby()`, `pivot_table()`은 데이터 분석 실무에서 반드시 익혀야 하는 핵심 함수다.  "
      ]
    },
    {
      "cell_type": "markdown",
      "id": "dfa7d415",
      "metadata": {},
      "source": [
        "### 실전형 추가 5문제"
      ]
    },
    {
      "cell_type": "code",
      "execution_count": null,
      "id": "520a4535",
      "metadata": {},
      "outputs": [],
      "source": [
        "import pandas as pd # Titanic 데이터 불러오기\n",
        "titanic = pd.read_csv(\"data/titanic.csv\") \n",
        "# Bike Sharing 데이터 불러오기\n",
        "bike = pd.read_csv(\"data/bike_sharing.csv\")"
      ]
    },
    {
      "cell_type": "markdown",
      "id": "36548c10",
      "metadata": {},
      "source": [
        "### 문제 1. 성별과 생존률 관계 분석 (Titanic)\n",
        "Titanic 데이터에서 성별(`Sex`)에 따른 생존률을 비교하세요.  \n",
        "- 각 성별 그룹별 생존률을 계산하세요.  \n",
        "- 결과를 DataFrame 형태(`sex`, `survival_rate`)로 출력하세요.  \n",
        "- 어떤 성별이 더 높은 생존률을 보였는지도 분석해 보세요.\n",
        "\n",
        "<details><summary>정답</summary>\n",
        "\n",
        "```python\n",
        "# 성별별 생존률 계산\n",
        "survival_by_sex = titanic.groupby(\"Sex\")[\"Survived\"].mean().reset_index()\n",
        "survival_by_sex.columns = [\"sex\", \"survival_rate\"]\n",
        "\n",
        "print(survival_by_sex)\n",
        "\n",
        "# 분석: female의 생존률이 훨씬 높음\n",
        "```\n",
        "\n",
        "</details>"
      ]
    },
    {
      "cell_type": "code",
      "execution_count": null,
      "id": "9b6aebc6",
      "metadata": {},
      "outputs": [],
      "source": [
        "# 여기에 작성하세요"
      ]
    },
    {
      "cell_type": "markdown",
      "id": "1efe8440",
      "metadata": {},
      "source": [
        "### 문제 2. 객실 등급과 나이의 관계 (Titanic)\n",
        "Titanic 데이터에서 객실 등급(`Pclass`)별 승객의 평균 나이를 구하세요.  \n",
        "- 결측치는 제외하고 계산하세요.  \n",
        "- 결과를 `pclass`, `mean_age` 형태로 출력하세요.  \n",
        "- 결과를 보고, 등급별 나이에 어떤 경향이 있는지 해석해 보세요.\n",
        "\n",
        "<details><summary>정답</summary>\n",
        "\n",
        "```python\n",
        "# 결측치 제외 후 평균 나이 계산\n",
        "age_by_class = titanic.groupby(\"Pclass\")[\"Age\"].mean().reset_index()\n",
        "age_by_class.columns = [\"pclass\", \"mean_age\"]\n",
        "\n",
        "print(age_by_class)\n",
        "\n",
        "# 분석: 보통 상위 등급(Pclass=1)이 평균 나이가 높음\n",
        "```\n",
        "\n",
        "</details>"
      ]
    },
    {
      "cell_type": "code",
      "execution_count": null,
      "id": "cc22ae37",
      "metadata": {},
      "outputs": [],
      "source": [
        "# 여기에 작성하세요"
      ]
    },
    {
      "cell_type": "markdown",
      "id": "0cb2a060",
      "metadata": {},
      "source": [
        "### 문제 3. 요일별 자전거 대여량 패턴 (Bike Sharing)\n",
        "Bike Sharing 데이터에서 날짜(`dteday`)를 기준으로 요일별(`weekday`) 평균 대여량(`cnt`)을 구하세요.  \n",
        "- 요일은 0=일요일, 6=토요일입니다.  \n",
        "- 결과를 요일 오름차순으로 출력하세요.  \n",
        "- 가장 대여량이 많은 요일과 적은 요일을 분석하세요.\n",
        "\n",
        "<details><summary>정답</summary>\n",
        "\n",
        "```python\n",
        "# 요일별 평균 대여량\n",
        "bike['weekday'] = pd.to_datetime(bike['datetime']).dt.weekday\n",
        "\n",
        "cnt_by_weekday = bike.groupby(\"weekday\")[\"count\"].mean().reset_index()\n",
        "\n",
        "print(cnt_by_weekday)\n",
        "\n",
        "# 분석: 주말(토/일)보다 평일 특정 요일(예: 목/금)에 더 많을 수도 있음\n",
        "```\n",
        "\n",
        "</details>"
      ]
    },
    {
      "cell_type": "code",
      "execution_count": null,
      "id": "2fe8193f",
      "metadata": {},
      "outputs": [],
      "source": [
        "# 여기에 작성하세요"
      ]
    },
    {
      "cell_type": "code",
      "execution_count": null,
      "id": "0477deaa",
      "metadata": {},
      "outputs": [],
      "source": [
        "bike['weather'].unique()"
      ]
    },
    {
      "cell_type": "markdown",
      "id": "0bb8808d",
      "metadata": {},
      "source": [
        "### 문제 4. 날씨가 대여량에 미치는 영향 (Bike Sharing)\n",
        "Bike Sharing 데이터에서 날씨 상황(`weather`)에 따라 평균 대여량(`count`)을 구하세요.  \n",
        "- `weather`: 1=맑음, 2=흐림, 3=비/눈, 4=심각한 날씨로 가정\n",
        "- 평균 대여량 차이를 막대그래프로 시각화하세요.  \n",
        "- 날씨가 자전거 대여량에 미치는 영향에 대해 해석해 보세요.\n",
        "\n",
        "<details><summary>정답</summary>\n",
        "\n",
        "```python\n",
        "import matplotlib.pyplot as plt\n",
        "\n",
        "count_by_weather = bike.groupby(\"weather\")[\"count\"].mean().reset_index()\n",
        "\n",
        "# 시각화\n",
        "plt.bar(count_by_weather[\"weather\"], count_by_weather[\"count\"])\n",
        "plt.xlabel(\"Weather Situation\")\n",
        "plt.ylabel(\"Average Rentals\")\n",
        "plt.title(\"Bike Rentals by Weather\")\n",
        "plt.show()\n",
        "\n",
        "# 분석: 맑을 때 대여량이 가장 많고, 나쁠수록 급감\n",
        "```\n",
        "\n",
        "</details>"
      ]
    },
    {
      "cell_type": "code",
      "execution_count": null,
      "id": "9ff6845a",
      "metadata": {},
      "outputs": [],
      "source": [
        "# 여기에 작성하세요"
      ]
    },
    {
      "cell_type": "markdown",
      "id": "02c28bee",
      "metadata": {},
      "source": [
        "### 문제 5. 다중 조건 분석 - 생존률 & 나이 (Titanic)\n",
        "Titanic 데이터에서 승객을 두 그룹으로 나눠서 생존률을 비교하세요.  \n",
        "- 그룹 1: 18세 이하 승객 (Children)  \n",
        "- 그룹 2: 19세 이상 승객 (Adults)  \n",
        "- 각 그룹을 성별(`Sex`)까지 나눠서 생존률을 계산하세요.  \n",
        "- 결과를 `group`, `sex`, `survival_rate` 형태로 출력하고, 어떤 그룹이 가장 높은 생존률을 보이는지 해석하세요.\n",
        "\n",
        "<details><summary>정답</summary>\n",
        "\n",
        "```python\n",
        "# 나이 그룹 컬럼 생성\n",
        "titanic[\"AgeGroup\"] = titanic[\"Age\"].apply(\n",
        "    lambda x: \"Child\" if x <= 18 else \"Adult\"\n",
        ")\n",
        "\n",
        "# 그룹별 + 성별 생존률\n",
        "survival = titanic.groupby([\"AgeGroup\", \"Sex\"])[\"Survived\"].mean().reset_index()\n",
        "survival.columns = [\"group\", \"sex\", \"survival_rate\"]\n",
        "\n",
        "print(survival)\n",
        "\n",
        "# 분석: female children의 생존률이 가장 높음\n",
        "```\n",
        "\n",
        "</details>"
      ]
    },
    {
      "cell_type": "code",
      "execution_count": null,
      "id": "15fb70ee",
      "metadata": {},
      "outputs": [],
      "source": [
        "# 여기에 작성하세요"
      ]
    }
  ],
  "metadata": {
    "encoded_email": [
      "cmxhYWxzdG4xNTA0QG5hdmVyLmNvbQ=="
    ],
    "filename": "MS03X0RhdGFGcmFtZV/rp4jsiqTthLDtlZjquLAuaXB5bmI=",
    "inserted_date": [
      "2025-09-19"
    ],
    "kernelspec": {
      "display_name": "Python 3",
      "language": "python",
      "name": "python3"
    },
    "language_info": {
      "codemirror_mode": {
        "name": "ipython",
        "version": 3
      },
      "file_extension": ".py",
      "mimetype": "text/x-python",
      "name": "python",
      "nbconvert_exporter": "python",
      "pygments_lexer": "ipython3",
      "version": "3.9.13"
    }
  },
  "nbformat": 4,
  "nbformat_minor": 5
}
