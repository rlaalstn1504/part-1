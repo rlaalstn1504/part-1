{
  "cells": [
    {
      "cell_type": "markdown",
      "metadata": {
        "id": "jnKOMlhUuxQR"
      },
      "source": [
        "# 파이썬 모듈과 패키지, 라이브러리 활용"
      ]
    },
    {
      "cell_type": "markdown",
      "metadata": {
        "id": "vvma2Z4Eu0sr"
      },
      "source": [
        "## 1. 모듈(Module)과 패키지(Package)\n",
        "### 모듈\n",
        "- **파이썬 코드(.py 파일) 하나**가 모듈\n",
        "- 다른 파일에서 불러와서 사용할 수 있음\n",
        "\n",
        "예시: `math` 모듈\n",
        "\n",
        "```python\n",
        "import math\n",
        "\n",
        "print(math.sqrt(16))   # 제곱근 → 4.0\n",
        "print(math.pi)         # 원주율 π\n",
        "```"
      ]
    },
    {
      "cell_type": "markdown",
      "metadata": {},
      "source": [
        "### 직접 모듈 작성하고 import 하기"
      ]
    },
    {
      "cell_type": "code",
      "execution_count": null,
      "metadata": {
        "id": "11ziQb6dyoWy"
      },
      "outputs": [],
      "source": [
        "# calculator.py 에 아래 코드 삽입\n",
        "\n",
        "# 더하기\n",
        "def add(x, y):\n",
        "    return x + y\n",
        "\n",
        "# 빼기\n",
        "def subtract(x , y):\n",
        "    return x - y\n",
        "\n",
        "# 곱하기\n",
        "def multiply(x, y):\n",
        "    return x * y\n",
        "\n",
        "# 나누기\n",
        "def devide(x, y):\n",
        "    return x / y"
      ]
    },
    {
      "cell_type": "code",
      "execution_count": null,
      "metadata": {
        "id": "ArSasypT0Bw1"
      },
      "outputs": [],
      "source": [
        "# calculator 모듈 불러오기\n",
        "import calculator\n",
        "\n",
        "print(calculator.add(2, 5))\n",
        "print(calculator.multiply(3, 4))\n",
        "\n",
        "import calculator as calc\n",
        "\n",
        "print(calc.add(2, 5))\n",
        "print(calc.multiply(3, 4))"
      ]
    },
    {
      "cell_type": "markdown",
      "metadata": {},
      "source": [
        "### 패키지\n",
        "\n",
        "- 여러 모듈을 모아 놓은 디렉토리\n",
        "- 폴더 구조로 관리, import로 불러 사용\n",
        "\n",
        "예시: collections 패키지\n",
        "```python\n",
        "from collections import Counter\n",
        "\n",
        "data = [\"a\", \"b\", \"a\", \"c\", \"a\", \"b\"]\n",
        "count = Counter(data)\n",
        "print(count)   # Counter({'a': 3, 'b': 2, 'c': 1})\n",
        "```"
      ]
    },
    {
      "cell_type": "code",
      "execution_count": null,
      "metadata": {
        "id": "uCvrKVYN1CjL"
      },
      "outputs": [],
      "source": [
        "# calculator 모듈에서 개별 함수 불러오기\n",
        "from calculator import add, multiply, subtract\n",
        "\n",
        "print(add(2, 5))\n",
        "print(multiply(3, 4))\n",
        "print(subtract(9, 2))"
      ]
    },
    {
      "cell_type": "code",
      "execution_count": null,
      "metadata": {
        "id": "8E6FpCj61OGk"
      },
      "outputs": [],
      "source": [
        "# calculator 모듈에서 모든 함수를 불러오는 방식이지만, 이렇게 했을 때 함수의 출처가 불분명하므로 권장되지 않음\n",
        "from calculator import *"
      ]
    },
    {
      "cell_type": "markdown",
      "metadata": {
        "id": "-yUtcH2uvCUp"
      },
      "source": [
        "### 표준 라이브러리 (Standard Library)\n",
        "- 파이썬은 기본으로 제공되는 **표준 라이브러리(standard library)** 가 매우 풍부합니다."
      ]
    },
    {
      "cell_type": "code",
      "execution_count": null,
      "metadata": {
        "colab": {
          "base_uri": "https://localhost:8080/"
        },
        "id": "1fLhevTS2S09",
        "outputId": "410df9f7-6718-4887-d352-e62d7bc15529"
      },
      "outputs": [],
      "source": [
        "# os : 운영체제와 상호작용\n",
        "import os\n",
        "\n",
        "print(os.getcwd())          # 현재 작업 디렉토리\n",
        "print(os.listdir(\".\"))      # 현재 디렉토리의 파일 목록"
      ]
    },
    {
      "cell_type": "code",
      "execution_count": null,
      "metadata": {},
      "outputs": [],
      "source": [
        "# sys : 파이썬 인터프리터 관련 기능\n",
        "import sys\n",
        "\n",
        "print(sys.version)          # 파이썬 버전\n",
        "print(sys.path)             # 모듈 검색 경로"
      ]
    },
    {
      "cell_type": "markdown",
      "metadata": {
        "id": "VVhJ9nuWvF3K"
      },
      "source": [
        "### random 모듈\n",
        "- 랜덤으로 숫자를 생성하는 다양한 함수들을 제공"
      ]
    },
    {
      "cell_type": "code",
      "execution_count": null,
      "metadata": {
        "colab": {
          "base_uri": "https://localhost:8080/"
        },
        "id": "pTXbgt-a2lCg",
        "outputId": "10eea5bf-c0db-4295-9509-4a256b02b062"
      },
      "outputs": [],
      "source": [
        "# randint() : 두 수 사이의 어떤 랜덤한 정수를 리턴하는 함수\n",
        "import random\n",
        "\n",
        "print(random.randint(1, 20))\n",
        "print(random.randint(1, 20))\n",
        "print(random.randint(1, 20))\n",
        "print(random.randint(1, 20))\n",
        "print(random.randint(1, 20))"
      ]
    },
    {
      "cell_type": "code",
      "execution_count": null,
      "metadata": {
        "colab": {
          "base_uri": "https://localhost:8080/"
        },
        "id": "S1QoBhlw2s_7",
        "outputId": "3055dbe5-b3ac-4b06-e657-c49b5c43e6da"
      },
      "outputs": [],
      "source": [
        "# uniform() : 두 수 사이의 랜덤한 소수를 리턴하는 함수\n",
        "import random\n",
        "\n",
        "print(random.uniform(0, 1))\n",
        "print(random.uniform(0, 1))\n",
        "print(random.uniform(0, 1))\n",
        "print(random.uniform(0, 1))\n",
        "print(random.uniform(0, 1))"
      ]
    },
    {
      "cell_type": "markdown",
      "metadata": {
        "id": "j3TIW3V3vKzz"
      },
      "source": [
        "### datetime 모듈\n",
        "- 날짜와 시간을 다루기 위한 다양한 클래스를 갖추고 있음"
      ]
    },
    {
      "cell_type": "code",
      "execution_count": null,
      "metadata": {
        "colab": {
          "base_uri": "https://localhost:8080/"
        },
        "id": "BHLBtf3V22d9",
        "outputId": "6844a5ee-8bc3-443a-9f9d-0e6db9221463"
      },
      "outputs": [],
      "source": [
        "import datetime\n",
        "\n",
        "pi_day = datetime.datetime(2020, 3, 14)\n",
        "print(pi_day)\n",
        "print(type(pi_day))"
      ]
    },
    {
      "cell_type": "code",
      "execution_count": null,
      "metadata": {
        "colab": {
          "base_uri": "https://localhost:8080/"
        },
        "id": "Vivpf1663GIe",
        "outputId": "2e8fd231-34dc-44e9-9a1e-76014a5174e2"
      },
      "outputs": [],
      "source": [
        "# 오늘 날짜 : 지금 이 순간의 날짜와 시간을 받아오는 함수\n",
        "today = datetime.datetime.now()\n",
        "print(today)\n",
        "print(type(today))"
      ]
    },
    {
      "cell_type": "code",
      "execution_count": null,
      "metadata": {
        "colab": {
          "base_uri": "https://localhost:8080/"
        },
        "id": "b2Oh2ctk3M9h",
        "outputId": "ba8c64e1-1aa5-4b9e-a307-5f4e6bc6de99"
      },
      "outputs": [],
      "source": [
        "# timedelta : 두 datetime 값 사이의 기간\n",
        "today = datetime.datetime.now()\n",
        "pi_day = datetime.datetime(2020, 3, 14, 13, 6, 15)\n",
        "print(today - pi_day)\n",
        "print(type(today - pi_day))"
      ]
    },
    {
      "cell_type": "code",
      "execution_count": null,
      "metadata": {
        "colab": {
          "base_uri": "https://localhost:8080/"
        },
        "id": "VURdVs6s3lip",
        "outputId": "0c0ac1c0-a10d-4338-a833-28f8fcee0d93"
      },
      "outputs": [],
      "source": [
        "today = datetime.datetime.now()\n",
        "my_timedelta = datetime.timedelta(days=5, hours=3, minutes=10, seconds=50)\n",
        "\n",
        "print(today)\n",
        "print(today + my_timedelta)"
      ]
    },
    {
      "cell_type": "code",
      "execution_count": null,
      "metadata": {
        "colab": {
          "base_uri": "https://localhost:8080/"
        },
        "id": "4izHSgeF3x3E",
        "outputId": "994e46f6-45c1-42fc-ebfe-7448115a2bd7"
      },
      "outputs": [],
      "source": [
        "# datetime 해부하기\n",
        "today = datetime.datetime.now()\n",
        "\n",
        "print(today)\n",
        "print(today.year)\n",
        "print(today.month)\n",
        "print(today.day)\n",
        "print(today.hour)\n",
        "print(today.minute)\n",
        "print(today.second)\n",
        "print(today.microsecond)"
      ]
    },
    {
      "cell_type": "code",
      "execution_count": null,
      "metadata": {
        "colab": {
          "base_uri": "https://localhost:8080/"
        },
        "id": "F9V_-T8139CI",
        "outputId": "009e0a9f-e73f-43ee-9bde-8a4406f08e0c"
      },
      "outputs": [],
      "source": [
        "# datetime 포매팅\n",
        "today = datetime.datetime.now()\n",
        "\n",
        "print(today)\n",
        "print(today.strftime(\"%A, %B %dth %Y\"))  # 포맷 코드"
      ]
    },
    {
      "cell_type": "markdown",
      "metadata": {
        "id": "ep5erTUevPzR"
      },
      "source": [
        "### 파이썬 내장 함수"
      ]
    },
    {
      "cell_type": "markdown",
      "metadata": {
        "id": "_wJ6nrQPvSbY"
      },
      "source": [
        "### input\n",
        "- 사용자의 입력을 받는다"
      ]
    },
    {
      "cell_type": "code",
      "execution_count": null,
      "metadata": {
        "colab": {
          "base_uri": "https://localhost:8080/",
          "height": 53
        },
        "id": "Do17AXQ24pEB",
        "outputId": "0a3f708c-8aa4-4ea7-e5bc-59655391a163"
      },
      "outputs": [],
      "source": [
        "input(\"이름을 입력하세요: \")"
      ]
    },
    {
      "cell_type": "code",
      "execution_count": null,
      "metadata": {
        "colab": {
          "base_uri": "https://localhost:8080/"
        },
        "id": "GxR7Q0bq4vgQ",
        "outputId": "0308ed05-41bb-40a6-d686-c96f12521bcf"
      },
      "outputs": [],
      "source": [
        "name = input(\"이름을 입력하세요: \")\n",
        "print(name)"
      ]
    },
    {
      "cell_type": "code",
      "execution_count": null,
      "metadata": {
        "colab": {
          "base_uri": "https://localhost:8080/",
          "height": 181
        },
        "id": "1ZI6G-pD49DX",
        "outputId": "edd86d54-7bfe-42d9-9c0f-387efd7fb251"
      },
      "outputs": [],
      "source": [
        "# 문제가 될 만한 상황\n",
        "x = input(\"숫자를 입력하세요: \")\n",
        "print(x + 5)"
      ]
    },
    {
      "cell_type": "code",
      "execution_count": null,
      "metadata": {
        "colab": {
          "base_uri": "https://localhost:8080/"
        },
        "id": "_BJas1K05Jc1",
        "outputId": "f0b33f95-950e-4c3d-83ea-977bc13074aa"
      },
      "outputs": [],
      "source": [
        "x = int(input(\"숫자를 입력하세요: \"))\n",
        "print(x + 5)"
      ]
    },
    {
      "cell_type": "markdown",
      "metadata": {},
      "source": [
        "### 서드파티 라이브러리 (외부 라이브러리)\n",
        "\n",
        "파이썬 기본에 포함되지 않고, pip으로 설치해서 사용\n",
        "\n",
        "예시: numpy, requests\n",
        "\n",
        "설치 : `pip install numpy requests`"
      ]
    },
    {
      "cell_type": "code",
      "execution_count": null,
      "metadata": {},
      "outputs": [],
      "source": [
        "# numpy : 수학/과학 연산\n",
        "import numpy as np\n",
        "\n",
        "arr = np.array([1, 2, 3, 4, 5])\n",
        "print(\"배열:\", arr)\n",
        "print(\"평균:\", np.mean(arr))\n",
        "\n",
        "# requests : 웹 요청\n",
        "import requests\n",
        "\n",
        "res = requests.get(\"https://jsonplaceholder.typicode.com/todos/1\")\n",
        "print(res.json())\n"
      ]
    },
    {
      "cell_type": "markdown",
      "metadata": {},
      "source": [
        "### 정리\n",
        "패키지(package) : 여러 모듈을 모아놓은 폴더\n",
        "→ 예: numpy, requests\n",
        "\n",
        "모듈(module) : 파이썬 코드(.py 파일) 묶음\n",
        "→ 예: math, os, sys\n",
        "\n",
        "함수(function) : 특정 기능을 수행하는 코드 블록\n",
        "→ 예: print(), len(), input()"
      ]
    },
    {
      "cell_type": "markdown",
      "metadata": {
        "id": "kxI_WlPPvZXt"
      },
      "source": [
        "### 퀴즈) 숫자 맞히기 게임\n",
        "https://www.codeit.kr/topics/making-use-of-python/lessons/2821"
      ]
    },
    {
      "cell_type": "code",
      "execution_count": null,
      "metadata": {
        "colab": {
          "base_uri": "https://localhost:8080/"
        },
        "id": "H-IxFh3g5v8z",
        "outputId": "da41d7d2-4d5f-4f7b-fa4a-8bf7777a2423"
      },
      "outputs": [],
      "source": [
        "import random  # 랜덤 숫자 생성을 위한 모듈 불러오기\n",
        "\n",
        "# 1~20 사이의 임의의 정수를 정답으로 설정\n",
        "answer = random.randint(1, 20)\n",
        "\n",
        "# 총 기회 횟수\n",
        "chances = 4\n",
        "\n",
        "# 사용자에게 주어지는 기회만큼 반복\n",
        "for attempt in range(1, chances + 1):\n",
        "    # 남은 기회 계산\n",
        "    remaining = chances - attempt + 1\n",
        "    \n",
        "    # 사용자 입력 받기 (문자열이므로 int로 변환)\n",
        "    guess = int(input(f\"기회가 {remaining}번 남았습니다. 1-20 사이의 숫자를 맞혀 보세요: \"))\n",
        "    \n",
        "    # 사용자가 정답을 맞춘 경우\n",
        "    if guess == answer:\n",
        "        print(f\"축하합니다. {attempt}번만에 숫자를 맞히셨습니다.\")\n",
        "        break  # 정답 맞히면 프로그램 종료\n",
        "    \n",
        "    # 사용자가 정답보다 작은 수를 입력한 경우\n",
        "    elif guess < answer:\n",
        "        print(\"Up\")\n",
        "    \n",
        "    # 사용자가 정답보다 큰 수를 입력한 경우\n",
        "    else:\n",
        "        print(\"Down\")\n",
        "\n",
        "    # 만약 모든 기회를 다 사용했는데도 못 맞힌 경우\n",
        "    if attempt == chances:\n",
        "        print(f\"아쉽습니다. 정답은 {answer}였습니다.\")"
      ]
    },
    {
      "cell_type": "markdown",
      "metadata": {
        "id": "ek7Q8Kocvl0R"
      },
      "source": [
        "### split\n",
        "문자열을 **기준 문자(구분자)** 로 잘라서 리스트로 만들어줌\n",
        "\n",
        "구분자를 지정하지 않으면 공백(띄어쓰기, 줄바꿈 등) 기준으로 나눔\n",
        "\n",
        "```python \n",
        "text = \"apple banana cherry\"\n",
        "print(text.split())      \n",
        "# ['apple', 'banana', 'cherry']\n",
        "\n",
        "text2 = \"a,b,c,d\"\n",
        "print(text2.split(\",\"))  \n",
        "# ['a', 'b', 'c', 'd']\n",
        "```"
      ]
    },
    {
      "cell_type": "markdown",
      "metadata": {},
      "source": [
        "### strip()\n",
        "\n",
        "문자열의 앞뒤 공백(띄어쓰기, 개행문자 \\n 등)을 제거\n",
        "\n",
        "인자로 문자를 주면, 해당 문자를 앞뒤에서 제거\n",
        "\n",
        "```python \n",
        "text = \"   hello   \"\n",
        "print(text.strip())   \n",
        "# hello\n",
        "\n",
        "text2 = \"###python###\"\n",
        "print(text2.strip(\"#\"))  \n",
        "# python\n",
        "```"
      ]
    },
    {
      "cell_type": "code",
      "execution_count": null,
      "metadata": {
        "colab": {
          "base_uri": "https://localhost:8080/"
        },
        "id": "maUyjboN9eHf",
        "outputId": "4a4dfbab-075f-4e48-f527-514e799c266b"
      },
      "outputs": [],
      "source": [
        "my_string = \"1. 2. 3. 4. 5. 6\"\n",
        "print(my_string.split(\".\"))"
      ]
    },
    {
      "cell_type": "code",
      "execution_count": null,
      "metadata": {
        "colab": {
          "base_uri": "https://localhost:8080/"
        },
        "id": "3etCm0jz906v",
        "outputId": "ced5f4a6-e985-4aef-a7e0-f0e85a3529d9"
      },
      "outputs": [],
      "source": [
        "my_string = \"1. 2. 3. 4. 5. 6\"\n",
        "print(my_string.split(\". \"))"
      ]
    },
    {
      "cell_type": "code",
      "execution_count": null,
      "metadata": {
        "colab": {
          "base_uri": "https://localhost:8080/"
        },
        "id": "HmB3QNfQ9soT",
        "outputId": "c06e7967-ba0d-4c7d-e17f-40f2fd9667c8"
      },
      "outputs": [],
      "source": [
        "full_name = \"Kim, Yuna\"\n",
        "name_data = full_name.split(\", \")\n",
        "last_name = name_data[0]\n",
        "first_name = name_data[1]\n",
        "\n",
        "print(first_name, last_name)"
      ]
    },
    {
      "cell_type": "code",
      "execution_count": null,
      "metadata": {
        "colab": {
          "base_uri": "https://localhost:8080/"
        },
        "id": "fhZdr1oJ-Nvi",
        "outputId": "613b2f91-3747-49d2-e2f4-f7da5c56ffec"
      },
      "outputs": [],
      "source": [
        "numbers = \"   \\n\\n  2   \\t  3 \\n  5 7 11  \\n\\n\".split()\n",
        "print(numbers[0] + numbers[1])"
      ]
    },
    {
      "cell_type": "code",
      "execution_count": null,
      "metadata": {
        "colab": {
          "base_uri": "https://localhost:8080/"
        },
        "id": "j_ZiqYA3-mhc",
        "outputId": "27bd8bd5-9de9-4f97-f600-2edcad0b9664"
      },
      "outputs": [],
      "source": [
        "numbers = \"   \\n\\n  2   \\t  3 \\n  5 7 11  \\n\\n\".split()\n",
        "print(int(numbers[0]) + int(numbers[1]))"
      ]
    },
    {
      "cell_type": "markdown",
      "metadata": {
        "id": "C4_pRjlFvse1"
      },
      "source": [
        "### 파일 읽기 쓰기\n",
        "\n",
        "### 1) 파일 열기 모드\n",
        "- `\"w\"` : 쓰기(write) 모드  \n",
        "  - 기존 파일이 있으면 **내용을 모두 지우고 새로 작성**  \n",
        "  - 없으면 새 파일을 만듦  \n",
        "- `\"a\"` : 추가(append) 모드  \n",
        "  - 기존 파일이 있으면 **내용 뒤에 이어서 작성**  \n",
        "  - 없으면 새 파일을 만듦  \n",
        "\n",
        "### 2) 기본 문법\n",
        "```python\n",
        "f = open(\"example.txt\", \"w\", encoding=\"utf-8\")\n",
        "f.write(\"첫 번째 줄\\n\") # 문자열을 파일에 씀\n",
        "f.close() # 파일 닫기 (꼭 필요!)"
      ]
    },
    {
      "cell_type": "code",
      "execution_count": null,
      "metadata": {},
      "outputs": [],
      "source": [
        "f = open(\"example.txt\", \"a\", encoding=\"utf-8\")\n",
        "f.write(\"첫 번째 줄\\n\") # 문자열을 파일에 씀\n",
        "f.close() # 파일 닫기 (꼭 필요!)"
      ]
    },
    {
      "cell_type": "code",
      "execution_count": null,
      "metadata": {
        "id": "8n4vDT5q_xu4"
      },
      "outputs": [],
      "source": [
        "# with 구문을 쓰면 파일을 닫을 필요가 없음\n",
        "with open('new_file.txt', 'w') as f:\n",
        "    f.write(\"Hello world!\\n\")\n",
        "    f.write(\"My name is Codeit.\\n\")"
      ]
    },
    {
      "cell_type": "code",
      "execution_count": null,
      "metadata": {
        "id": "_LDhz9eXAV_T"
      },
      "outputs": [],
      "source": [
        "with open('new_file.txt', 'a') as f:\n",
        "    f.write(\"Hello world!\\n\")\n",
        "    f.write(\"My name is Codeit.\\n\")"
      ]
    },
    {
      "cell_type": "markdown",
      "metadata": {
        "id": "o0zOw1XcvvmR"
      },
      "source": [
        "### 퀴즈) 단어장 만들기\n",
        "https://www.codeit.kr/topics/making-use-of-python/lessons/2827"
      ]
    },
    {
      "cell_type": "code",
      "execution_count": null,
      "metadata": {
        "colab": {
          "base_uri": "https://localhost:8080/"
        },
        "id": "pNenf-jwBGpt",
        "outputId": "0a8776d9-d2c2-4a94-be08-4c785a64e601"
      },
      "outputs": [],
      "source": [
        "# vocabulary.txt 파일을 'a' 모드로 열기\n",
        "# 'a' 모드: append(추가쓰기) 모드 → 기존 파일 내용 뒤에 새 내용을 계속 추가\n",
        "# 'with open(...) as f:' 구문은 자동으로 파일을 닫아주므로 close() 불필요\n",
        "with open('vocabulary.txt', 'a') as f:\n",
        "    \n",
        "    # 무한 루프 시작: 사용자가 'q'를 입력할 때까지 계속 단어 입력 받음\n",
        "    while True:\n",
        "        # 영어 단어 입력받기\n",
        "        eng = input(\"영어 단어를 입력하세요: \")\n",
        "        \n",
        "        # 만약 사용자가 'q'를 입력하면 프로그램 즉시 종료\n",
        "        if eng == \"q\":\n",
        "            break\n",
        "\n",
        "        # 한국어 뜻 입력받기\n",
        "        kor = input(\"한국어 뜻을 입력하세요: \")\n",
        "        \n",
        "        # 뜻 입력에서 'q'를 입력하면 역시 프로그램 즉시 종료\n",
        "        if kor == \"q\":\n",
        "            break\n",
        "\n",
        "        # 파일에 \"영어단어: 한국어뜻\" 형태로 기록\n",
        "        # 예: cat: 고양이\n",
        "        # f.write() 는 파일에 문자열을 작성하는 메서드\n",
        "        # \\n 은 줄바꿈(엔터) 문자 → 단어마다 새로운 줄에 기록됨\n",
        "        f.write(\"{}: {}\\n\".format(eng, kor))\n",
        "\n",
        "# with 블록 종료 시점에서 파일 자동으로 닫힘\n",
        "# 따라서 사용자가 q를 입력하고 break 되면, 파일은 더 이상 수정되지 않고 종료됨\n"
      ]
    },
    {
      "cell_type": "markdown",
      "metadata": {
        "id": "r2L7cZd7vzNm"
      },
      "source": [
        "### 퀴즈) 단어 퀴즈\n",
        "https://www.codeit.kr/topics/making-use-of-python/lessons/2828"
      ]
    },
    {
      "cell_type": "code",
      "execution_count": null,
      "metadata": {
        "colab": {
          "base_uri": "https://localhost:8080/"
        },
        "id": "zz3ADnRbGxXD",
        "outputId": "20d989cd-e339-4e8a-d08f-475d8c5522bc"
      },
      "outputs": [],
      "source": [
        "with open('/content/vocabulary.txt', 'r') as f:\n",
        "    for line in f:\n",
        "      eng = line.strip().split(\": \")[0]\n",
        "      kor = line.strip().split(\": \")[1]\n",
        "\n",
        "      question = input(\"{}: \".format(kor))\n",
        "      if question in eng:\n",
        "        print(\"맞았습니다!\\n\")\n",
        "      else:\n",
        "        print(\"아쉽습니다. 정답은 {}입니다.\\n\".format(eng))"
      ]
    },
    {
      "cell_type": "markdown",
      "metadata": {
        "id": "7vfSlEC9v2o7"
      },
      "source": [
        "### 퀴즈) 고급 단어장\n",
        "https://www.codeit.kr/topics/making-use-of-python/lessons/2829"
      ]
    },
    {
      "cell_type": "code",
      "execution_count": null,
      "metadata": {
        "colab": {
          "base_uri": "https://localhost:8080/"
        },
        "id": "sFJt9bbcKx-A",
        "outputId": "06610dc8-47f4-4d4b-cc51-86161b2a398f"
      },
      "outputs": [],
      "source": [
        "import random\n",
        "\n",
        "vocab = {}\n",
        "with open('vocabulary.txt', 'r') as f:\n",
        "    for line in f:\n",
        "        data = line.strip().split(\": \")\n",
        "        eng, kor = data[0], data[1]\n",
        "        vocab[eng] = kor\n",
        "\n",
        "keys = list(vocab.keys())\n",
        "\n",
        "while True:\n",
        "    index = random.randint(0, len(keys)-1)\n",
        "    eng_word = keys[index]\n",
        "    kor_word = vocab[eng_word]\n",
        "\n",
        "    question = input(\"{}: \".format(kor_word))\n",
        "\n",
        "    if question == \"q\":\n",
        "        break\n",
        "\n",
        "    if question in eng_word:\n",
        "        print(\"맞았습니다!\\n\")\n",
        "    else:\n",
        "        print(\"아쉽습니다. 정답은 {}입니다.\\n\".format(eng_word))"
      ]
    },
    {
      "cell_type": "markdown",
      "metadata": {},
      "source": [
        "### 문제 1. 구구단 출력\n",
        "사용자로부터 정수를 입력받아, 해당 단의 구구단을 출력하세요.  \n",
        "예: 입력 → 3 → `3 x 1 = 3 ... 3 x 9 = 27`\n",
        "\n",
        "<details><summary>정답</summary>\n",
        "\n",
        "```python\n",
        "dan = int(input(\"몇 단을 출력할까요? \"))\n",
        "\n",
        "for i in range(1, 10):  # 1부터 9까지 반복\n",
        "    print(f\"{dan} x {i} = {dan * i}\")\n",
        "```\n",
        "\n",
        "</details>"
      ]
    },
    {
      "cell_type": "code",
      "execution_count": null,
      "metadata": {},
      "outputs": [],
      "source": [
        "# 여기에 코드를 작성하세요\n"
      ]
    },
    {
      "cell_type": "markdown",
      "metadata": {},
      "source": [
        "### 문제 2. 구구단 파일 저장하기\n",
        "사용자로부터 2~9 사이의 숫자 하나를 입력받아, 해당 숫자의 구구단을 `gugudan.txt` 파일에 저장하는 프로그램을 작성하세요.  \n",
        "예: 사용자가 `3`을 입력하면 `3 x 1 = 3` … `3 x 9 = 27` 까지 저장.\n",
        "\n",
        "<details> <summary> 정답 </summary>\n",
        "\n",
        "```python\n",
        "# 사용자로부터 단 입력받기\n",
        "dan = int(input(\"몇 단을 저장할까요? (2~9): \"))\n",
        "\n",
        "# 파일을 쓰기 모드(w)로 열기 → 기존 내용은 덮어씀\n",
        "with open(\"gugudan.txt\", \"w\") as f:\n",
        "    # 1부터 9까지 곱하기 반복\n",
        "    for i in range(1, 10):\n",
        "        # 결과 문자열 만들기\n",
        "        line = f\"{dan} x {i} = {dan * i}\\n\"\n",
        "        # 파일에 쓰기\n",
        "        f.write(line)\n",
        "\n",
        "print(\"구구단이 gugudan.txt에 저장되었습니다.\")\n",
        "```\n",
        "\n",
        "</details>"
      ]
    },
    {
      "cell_type": "code",
      "execution_count": null,
      "metadata": {},
      "outputs": [],
      "source": [
        "# 여기에 코드를 작성하세요\n"
      ]
    },
    {
      "cell_type": "markdown",
      "metadata": {},
      "source": [
        "### 문제 3. 회문 판별하기\n",
        "사용자로부터 문자열을 입력받아, 공백과 대소문자를 무시하고 회문(앞뒤가 똑같은 단어/문장)인지 판별하세요.  \n",
        "예: `Level` → 회문, `Hello` → 회문 아님\n",
        "\n",
        "<details><summary>정답</summary>\n",
        "\n",
        "```python\n",
        "text = input(\"문자열을 입력하세요: \")\n",
        "\n",
        "# 공백 제거 + 소문자로 변환\n",
        "processed = text.replace(\" \", \"\").lower()\n",
        "\n",
        "# 문자열을 뒤집어서 비교\n",
        "if processed == processed[::-1]:\n",
        "    print(\"회문입니다.\")\n",
        "else:\n",
        "    print(\"회문이 아닙니다.\")\n",
        "```\n",
        "\n",
        "</details>"
      ]
    },
    {
      "cell_type": "code",
      "execution_count": null,
      "metadata": {},
      "outputs": [],
      "source": [
        "# 여기에 코드를 작성하세요"
      ]
    },
    {
      "cell_type": "markdown",
      "metadata": {},
      "source": [
        "### 문제 4. 리스트 중복 제거\n",
        "리스트 `[1, 2, 3, 2, 4, 1, 5, 3]`에서 중복된 값을 제거하고, 정렬된 새로운 리스트를 출력하세요.  \n",
        "(`set` 사용 가능, 단 최종 결과는 정렬된 리스트여야 함)\n",
        "\n",
        "<details><summary>정답</summary>\n",
        "\n",
        "```python\n",
        "numbers = [1, 2, 3, 2, 4, 1, 5, 3]\n",
        "\n",
        "# 집합(set)으로 변환하면 중복 제거됨\n",
        "unique_set = set(numbers)\n",
        "\n",
        "# 다시 리스트로 변환 후 정렬\n",
        "unique_list = sorted(list(unique_set))\n",
        "\n",
        "print(\"중복 제거 후:\", unique_list)  # [1, 2, 3, 4, 5]\n",
        "```\n",
        "\n",
        "</details>"
      ]
    },
    {
      "cell_type": "code",
      "execution_count": null,
      "metadata": {},
      "outputs": [],
      "source": [
        "# 여기에 코드를 작성하세요\n"
      ]
    },
    {
      "cell_type": "markdown",
      "metadata": {},
      "source": [
        "### 문제 5. 단어 빈도 세기\n",
        "사용자로부터 문장을 입력받아, 단어별 등장 횟수를 세어 출력하세요.  \n",
        "예: `\"I love Python and I love coding\"` →  \n",
        "`I: 2, love: 2, Python: 1, and: 1, coding: 1`\n",
        "\n",
        "<details><summary>정답</summary>\n",
        "\n",
        "```python\n",
        "sentence = input(\"문장을 입력하세요: \")\n",
        "\n",
        "words = sentence.split()  # 공백 기준으로 단어 분리\n",
        "freq = {}  # 빈 딕셔너리 생성\n",
        "\n",
        "for w in words:\n",
        "    w = w.lower()  # 대소문자 구분하지 않도록 소문자로 변환\n",
        "    if w in freq:\n",
        "        freq[w] += 1\n",
        "    else:\n",
        "        freq[w] = 1\n",
        "\n",
        "# 결과 출력\n",
        "for word, count in freq.items():\n",
        "    print(f\"{word}: {count}\")\n",
        "```\n",
        "\n",
        "</details>"
      ]
    },
    {
      "cell_type": "code",
      "execution_count": null,
      "metadata": {},
      "outputs": [],
      "source": [
        "# 여기에 코드를 작성하세요\n"
      ]
    },
    {
      "cell_type": "markdown",
      "metadata": {},
      "source": [
        "### 문제 6. 클래스 활용 - 학생 관리\n",
        "`Student` 클래스를 정의하세요.  \n",
        "- 속성: 이름(name), 점수(score)  \n",
        "- 메서드: `get_grade()` → 점수에 따라 A~F 학점 반환  \n",
        "(90↑: A, 80↑: B, 70↑: C, 60↑: D, 그 외 F)  \n",
        "학생 객체 3명을 만들어 학점을 출력하세요.\n",
        "\n",
        "<details><summary>정답</summary>\n",
        "\n",
        "```python\n",
        "class Student:\n",
        "    def __init__(self, name, score):\n",
        "        self.name = name\n",
        "        self.score = score\n",
        "    \n",
        "    def get_grade(self):\n",
        "        if self.score >= 90:\n",
        "            return \"A\"\n",
        "        elif self.score >= 80:\n",
        "            return \"B\"\n",
        "        elif self.score >= 70:\n",
        "            return \"C\"\n",
        "        elif self.score >= 60:\n",
        "            return \"D\"\n",
        "        else:\n",
        "            return \"F\"\n",
        "\n",
        "# 학생 객체 생성\n",
        "s1 = Student(\"철수\", 95)\n",
        "s2 = Student(\"영희\", 77)\n",
        "s3 = Student(\"민수\", 62)\n",
        "\n",
        "print(s1.name, \":\", s1.get_grade())  # 철수 : A\n",
        "print(s2.name, \":\", s2.get_grade())  # 영희 : C\n",
        "print(s3.name, \":\", s3.get_grade())  # 민수 : D\n",
        "```\n",
        "\n",
        "</details>"
      ]
    },
    {
      "cell_type": "code",
      "execution_count": null,
      "metadata": {},
      "outputs": [],
      "source": [
        "# 여기에 코드를 작성하세요\n"
      ]
    },
    {
      "cell_type": "markdown",
      "metadata": {},
      "source": [
        "### 문제 7. 숫자 맞히기 게임\n",
        "1~50 사이의 난수를 생성합니다.  \n",
        "사용자에게 최대 6번 기회를 주고, 입력한 숫자가 정답보다 작으면 `Up`, 크면 `Down`을 출력하세요.  \n",
        "기회를 모두 소진하면 정답을 알려주세요.\n",
        "\n",
        "<details><summary>정답</summary>\n",
        "\n",
        "```python\n",
        "import random\n",
        "\n",
        "answer = random.randint(1, 50)  # 정답 생성\n",
        "chances = 6  # 최대 시도 횟수\n",
        "\n",
        "for attempt in range(1, chances + 1):\n",
        "    guess = int(input(f\"기회가 {chances - attempt + 1}번 남았습니다. 숫자를 맞혀보세요: \"))\n",
        "    \n",
        "    if guess == answer:\n",
        "        print(f\"축하합니다! {attempt}번 만에 맞히셨습니다.\")\n",
        "        break\n",
        "    elif guess < answer:\n",
        "        print(\"Up\")\n",
        "    else:\n",
        "        print(\"Down\")\n",
        "    \n",
        "    if attempt == chances:\n",
        "        print(f\"아쉽습니다. 정답은 {answer}였습니다.\")\n",
        "```\n",
        "\n",
        "</details>"
      ]
    },
    {
      "cell_type": "code",
      "execution_count": null,
      "metadata": {},
      "outputs": [],
      "source": [
        "# 여기에 코드를 작성하세요\n"
      ]
    }
  ],
  "metadata": {
    "colab": {
      "provenance": []
    },
    "encoded_email": [
      "cmxhYWxzdG4xNTA0QG5hdmVyLmNvbQ=="
    ],
    "filename": "MS0zX+2MjOydtOyNrCDsnZHsmqkuaXB5bmI=",
    "inserted_date": [
      "2025-09-19"
    ],
    "kernelspec": {
      "display_name": "base",
      "language": "python",
      "name": "python3"
    },
    "language_info": {
      "codemirror_mode": {
        "name": "ipython",
        "version": 3
      },
      "file_extension": ".py",
      "mimetype": "text/x-python",
      "name": "python",
      "nbconvert_exporter": "python",
      "pygments_lexer": "ipython3",
      "version": "3.11.7"
    },
    "owner_email": "rlaalstn1504@naver.com"
  },
  "nbformat": 4,
  "nbformat_minor": 0
}
