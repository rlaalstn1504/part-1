{
  "cells": [
    {
      "cell_type": "markdown",
      "id": "189bd9ae",
      "metadata": {},
      "source": [
        "# 0. 들어가기\n",
        "\n",
        "데이터 분석은 크게 **세 단계**로 진행됩니다.\n",
        "\n",
        "1. **데이터 탐색**  \n",
        "   데이터를 불러오고, 구조와 크기를 확인합니다.  \n",
        "\n",
        "2. **기초 통계로 요약**  \n",
        "   평균, 중앙값, 최댓값, 최솟값 같은 수치로 데이터를 간단히 요약합니다.  \n",
        "\n",
        "3. **시각화**  \n",
        "   히스토그램, 박스플롯 같은 그래프를 통해 데이터를 직관적으로 이해합니다.  \n",
        "\n",
        "이러한 과정 전체를 **EDA(Exploratory Data Analysis, 탐색적 데이터 분석)** 라고 합니다.  \n",
        "EDA는 데이터를 처음 접했을 때 숨겨진 패턴을 찾고, 이상치를 확인하며, 가설을 세우는 데 중요한 단계입니다.\n",
        "\n",
        "이번 수업에서는 `Pandas`로 데이터를 다루고, `Matplotlib`와 `Seaborn`으로 시각화하는 방법을 배웁니다."
      ]
    },
    {
      "cell_type": "markdown",
      "id": "ebbb2c94",
      "metadata": {},
      "source": [
        "# 1. 데이터 준비 & Pandas 기초\n",
        "\n",
        "## 1.1 Pandas란?\n",
        "- 파이썬에서 데이터를 표(table) 형태로 다루는 라이브러리\n",
        "- **엑셀과 비슷한 DataFrame**을 제공\n",
        "- 데이터 탐색, 전처리, 분석의 표준 도구\n",
        "\n",
        "```python\n",
        "import pandas as pd\n",
        "```"
      ]
    },
    {
      "cell_type": "markdown",
      "id": "b9a30380",
      "metadata": {},
      "source": [
        "## 1.2 데이터 불러오기\n",
        "\n",
        "### `pd.read_csv(\"파일경로\")`\n",
        "- CSV 파일(콤마로 구분된 텍스트 파일)을 불러와서 **DataFrame**으로 변환  \n",
        "- **DataFrame**: 행(row)과 열(column)로 이루어진 2차원 데이터 구조"
      ]
    },
    {
      "cell_type": "code",
      "execution_count": null,
      "id": "5f6e8adc",
      "metadata": {},
      "outputs": [],
      "source": [
        "import pandas as pd\n",
        "\n",
        "# Titanic 데이터 불러오기 (예시)\n",
        "titanic = pd.read_csv(\"data/titanic.csv\")\n",
        "\n",
        "# Bike Sharing 데이터 불러오기 (예시)\n",
        "bike = pd.read_csv(\"data/bike_sharing.csv\")"
      ]
    },
    {
      "cell_type": "markdown",
      "id": "6c4f2b59",
      "metadata": {},
      "source": [
        "## 1.3 데이터 구조 확인\n",
        "\n",
        "### `df.shape`\n",
        "- DataFrame의 (행 개수, 열 개수)를 튜플 형태로 반환\n",
        "\n",
        "### `df.columns`\n",
        "- DataFrame의 열 이름 확인\n"
      ]
    },
    {
      "cell_type": "code",
      "execution_count": null,
      "id": "5e7dfbf3",
      "metadata": {},
      "outputs": [],
      "source": [
        "print(titanic.shape)     # (891, 12) → 891명, 12개 속성\n",
        "print(titanic.columns)   # 컬럼명 리스트"
      ]
    },
    {
      "cell_type": "markdown",
      "id": "d64b0fed",
      "metadata": {},
      "source": [
        "## 1.4 데이터 미리보기\n",
        "\n",
        "### `df.head()`\n",
        "- DataFrame의 앞부분 5행을 보여줌  \n",
        "- 데이터가 어떻게 생겼는지 빠르게 확인할 때 사용\n",
        "\n",
        "### `df.tail()`\n",
        "- DataFrame의 뒷부분 5행을 보여줌  "
      ]
    },
    {
      "cell_type": "code",
      "execution_count": null,
      "id": "f2b0e38e",
      "metadata": {},
      "outputs": [],
      "source": [
        "titanic.head()"
      ]
    },
    {
      "cell_type": "code",
      "execution_count": null,
      "id": "2bda7bb8",
      "metadata": {},
      "outputs": [],
      "source": [
        "titanic.tail()"
      ]
    },
    {
      "cell_type": "markdown",
      "id": "ed68acc6",
      "metadata": {},
      "source": [
        "## 1.5 데이터 요약 정보\n",
        "\n",
        "### `df.info()`\n",
        "- 각 열의 자료형과 결측치(null) 여부를 보여줌\n",
        "\n",
        "### `df.describe()`\n",
        "- 기본적인 통계값(평균, 표준편차, 최소/최대, 사분위수)을 수치형 데이터에 대해 요약"
      ]
    },
    {
      "cell_type": "code",
      "execution_count": null,
      "id": "596f04c7",
      "metadata": {},
      "outputs": [],
      "source": [
        "titanic.info()"
      ]
    },
    {
      "cell_type": "code",
      "execution_count": null,
      "id": "a277b089",
      "metadata": {},
      "outputs": [],
      "source": [
        "titanic.describe()"
      ]
    },
    {
      "cell_type": "markdown",
      "id": "2eb76aae",
      "metadata": {},
      "source": [
        "## 1.6 데이터 정렬\n",
        "\n",
        "### `df.sort_values(\"컬럼명\")`\n",
        "- 특정 열 기준으로 정렬  \n",
        "- 오름차순 / 내림차순 지정 가능 (`ascending=True/False`)"
      ]
    },
    {
      "cell_type": "code",
      "execution_count": null,
      "id": "893acf20",
      "metadata": {},
      "outputs": [],
      "source": [
        "# 나이를 기준으로 오름차순 정렬\n",
        "titanic.sort_values(\"Age\").head()"
      ]
    },
    {
      "cell_type": "code",
      "execution_count": null,
      "id": "20245a3c",
      "metadata": {},
      "outputs": [],
      "source": [
        "# 요금을 기준으로 내림차순 정렬\n",
        "titanic.sort_values(\"Fare\", ascending=False).head()"
      ]
    },
    {
      "cell_type": "markdown",
      "id": "3d33e07a",
      "metadata": {},
      "source": [
        "## 1.7 인덱싱 & 선택\n",
        "\n",
        "- `loc[]`: 행/열 이름(label) 기반 접근  \n",
        "- `iloc[]`: 행/열 번호(index) 기반 접근"
      ]
    },
    {
      "cell_type": "code",
      "execution_count": null,
      "id": "9cdd5e29",
      "metadata": {},
      "outputs": [],
      "source": [
        "# 특정 행 선택\n",
        "titanic.loc[titanic['PassengerId']==1]# 첫 번째 승객 정보 (이름 기반)"
      ]
    },
    {
      "cell_type": "code",
      "execution_count": null,
      "id": "c8ad38e8",
      "metadata": {},
      "outputs": [],
      "source": [
        "# 특정 행 선택\n",
        "titanic.loc[titanic['Age']==22, 'Age'] # 나이가 22인 사람의 Age 컬럼만 보기"
      ]
    },
    {
      "cell_type": "code",
      "execution_count": null,
      "id": "53668c9f",
      "metadata": {},
      "outputs": [],
      "source": [
        "titanic.iloc[0] # 첫 번째 승객 정보 (숫자 기반)"
      ]
    },
    {
      "cell_type": "code",
      "execution_count": null,
      "id": "cf055356",
      "metadata": {},
      "outputs": [],
      "source": [
        "# 특정 열 선택\n",
        "print(titanic[\"Age\"].head())   # 나이 컬럼만"
      ]
    },
    {
      "cell_type": "markdown",
      "id": "7d50a76f",
      "metadata": {},
      "source": [
        "## 1.8 데이터 수정/추가\n",
        "\n",
        "- 새로운 열을 추가하거나 값 수정 가능"
      ]
    },
    {
      "cell_type": "code",
      "execution_count": null,
      "id": "24ac0b42",
      "metadata": {},
      "outputs": [],
      "source": [
        "# 나이를 10살 단위 구간으로 나누는 새로운 열 추가\n",
        "titanic[\"AgeGroup\"] = (titanic[\"Age\"] // 10) * 10\n",
        "titanic[[\"Age\", \"AgeGroup\"]].head()"
      ]
    },
    {
      "cell_type": "markdown",
      "id": "68f3811c",
      "metadata": {},
      "source": [
        "### ✅ 체크포인트\n",
        "- `pd.read_csv()` 로 CSV 파일을 불러와 DataFrame을 만든다.  \n",
        "- `shape`, `columns`, `head()`, `tail()` 로 데이터 구조를 빠르게 파악한다.  \n",
        "- `info()`, `describe()` 로 데이터 타입과 통계 요약을 확인할 수 있다.  \n",
        "- `sort_values()` 로 정렬, `loc[]`와 `iloc[]`로 인덱싱한다.  \n",
        "- 새로운 열을 추가하거나 값 수정이 가능하다.\n"
      ]
    },
    {
      "cell_type": "markdown",
      "id": "f9197b5a",
      "metadata": {},
      "source": [
        "# 2. 기술 통계 기초\n",
        "\n",
        "## 2.1 데이터의 종류\n",
        "- **수치형 데이터 (Numerical)**  \n",
        "  → 숫자로 된 데이터 (예: 나이, 요금, 대여량)  \n",
        "\n",
        "- **범주형 데이터 (Categorical)**  \n",
        "  → 그룹/범주를 나타내는 데이터 (예: 성별, 클래스, 요일)"
      ]
    },
    {
      "cell_type": "markdown",
      "id": "9c63db29",
      "metadata": {},
      "source": [
        "## 2.2 대표값 (중심 경향)\n",
        "데이터를 대표하는 값들\n",
        "\n",
        "- **평균 (mean)**: 모든 값을 더한 뒤 개수로 나눔  \n",
        "- **중앙값 (median)**: 데이터를 크기순으로 정렬했을 때 한가운데 값  \n",
        "- **최빈값 (mode)**: 가장 많이 등장하는 값"
      ]
    },
    {
      "cell_type": "code",
      "execution_count": null,
      "id": "f8755aac",
      "metadata": {},
      "outputs": [],
      "source": [
        "print(titanic[\"Age\"].median())    # 중앙값 나이\n",
        "print(titanic[\"Age\"].mean())      # 평균 나이\n",
        "print(titanic[\"Age\"].mode())      # 최빈값 나이\n",
        "\n",
        "# 👉 승객 나이(`Age`) 평균과 중앙값은 다를 수 있다."
      ]
    },
    {
      "cell_type": "markdown",
      "id": "3f274a6e",
      "metadata": {},
      "source": [
        "## 2.3 범위와 분포\n",
        "데이터의 퍼짐 정도를 나타내는 값들\n",
        "\n",
        "- **최소값 (min)**, **최대값 (max)**  \n",
        "- **사분위수 (quantile)**  \n",
        "  - 데이터를 4등분한 구간의 경계  \n",
        "  - 25%, 50%(=중앙값), 75% 지점  \n",
        "- **분산 (variance)**: 데이터가 평균에서 얼마나 떨어져 있는지  \n",
        "- **표준편차 (std)**: 분산의 제곱근 → 데이터의 흩어진 정도  "
      ]
    },
    {
      "cell_type": "code",
      "execution_count": null,
      "id": "fa3b2b05",
      "metadata": {},
      "outputs": [],
      "source": [
        "print(titanic[\"Age\"].min())      # 최소 나이\n",
        "print(titanic[\"Age\"].max())      # 최대 나이\n",
        "print(titanic[\"Age\"].quantile([0.25, 0.5, 0.75]))  # 사분위수\n",
        "print(titanic[\"Age\"].std())      # 표준편차"
      ]
    },
    {
      "cell_type": "markdown",
      "id": "0f819d9c",
      "metadata": {},
      "source": [
        "## 2.4 Pandas describe()\n",
        "- `df.describe()` 로 한 번에 기초 통계 요약 제공\n",
        "- 기본적으로 수치형 데이터만 보여줌\n",
        "- 옵션 `include=\"all\"` → 범주형 데이터까지 요약  "
      ]
    },
    {
      "cell_type": "code",
      "execution_count": null,
      "id": "9a330e37",
      "metadata": {},
      "outputs": [],
      "source": [
        "titanic.describe()"
      ]
    },
    {
      "cell_type": "markdown",
      "id": "6a72638f",
      "metadata": {},
      "source": [
        "### ✅ 체크포인트\n",
        "- **평균, 중앙값, 최빈값**은 데이터의 중심을 요약하는 대표값이다.  \n",
        "- **최솟값, 최댓값, 사분위수, 표준편차**는 데이터의 퍼짐 정도를 설명한다.  \n",
        "- Pandas의 `describe()`는 여러 통계값을 한 번에 확인할 수 있다.  \n"
      ]
    },
    {
      "cell_type": "markdown",
      "id": "5f17d198",
      "metadata": {},
      "source": [
        "# 3. 데이터 시각화 기본 (Matplotlib & Seaborn)\n",
        "\n",
        "\n",
        "\n",
        "## 3.1 Matplotlib & Seaborn 소개\n",
        "- **Matplotlib**: 파이썬의 가장 기본적인 시각화 라이브러리  \n",
        "- **Seaborn**: Matplotlib 기반으로, 통계 시각화에 특화된 라이브러리"
      ]
    },
    {
      "cell_type": "code",
      "execution_count": null,
      "id": "f6d6a839",
      "metadata": {},
      "outputs": [],
      "source": [
        "import matplotlib.pyplot as plt\n",
        "import seaborn as sns"
      ]
    },
    {
      "cell_type": "markdown",
      "id": "22393197",
      "metadata": {},
      "source": [
        "## 3.2 히스토그램 (Histogram)\n",
        "- 데이터를 구간(bin)으로 나누어, 각 구간에 속한 데이터 개수를 세어 표시  \n",
        "- 데이터의 분포 모양을 직관적으로 확인 가능"
      ]
    },
    {
      "cell_type": "code",
      "execution_count": null,
      "id": "19757bee",
      "metadata": {},
      "outputs": [],
      "source": [
        "# Titanic 예시: 승객들의 나이 분포 확인 \n",
        "sns.histplot(titanic[\"Age\"].dropna(), bins=20, kde=False)\n",
        "plt.show()"
      ]
    },
    {
      "cell_type": "markdown",
      "id": "1c08571d",
      "metadata": {},
      "source": [
        "## 3.3 박스플롯 (Boxplot)\n",
        "- 데이터의 **사분위수(25%, 50%, 75%)**와 **이상치(outlier)**를 한눈에 보여줌  \n",
        "- 중앙값과 데이터 퍼짐 정도를 시각적으로 확인 가능  \n"
      ]
    },
    {
      "cell_type": "code",
      "execution_count": null,
      "id": "1c025205",
      "metadata": {},
      "outputs": [],
      "source": [
        "# Titanic 예시: 남성과 여성의 나이 분포 비교  \n",
        "sns.boxplot(x=\"Sex\", y=\"Age\", data=titanic)\n",
        "plt.show()"
      ]
    },
    {
      "cell_type": "markdown",
      "id": "51df2da3",
      "metadata": {},
      "source": [
        "\n",
        "\n",
        "## 3.4 KDE Plot (확률 밀도 함수)\n",
        "- 히스토그램을 부드럽게 표현한 곡선 그래프  \n",
        "- 데이터가 어느 구간에 몰려 있는지 직관적으로 파악 가능  \n"
      ]
    },
    {
      "cell_type": "code",
      "execution_count": null,
      "id": "9fc6a5a1",
      "metadata": {},
      "outputs": [],
      "source": [
        "# Titanic 예시: 승객 나이의 전체 분포 곡선  \n",
        "sns.kdeplot(titanic[\"Age\"].dropna(), shade=True)\n",
        "plt.show()"
      ]
    },
    {
      "cell_type": "markdown",
      "id": "3583ea30",
      "metadata": {},
      "source": [
        "\n",
        "\n",
        "## 3.5 여러 분포 비교\n",
        "- 그룹별로 색을 다르게 해서 히스토그램이나 KDE plot 그리기  \n"
      ]
    },
    {
      "cell_type": "code",
      "execution_count": null,
      "id": "0cd3dc70",
      "metadata": {},
      "outputs": [],
      "source": [
        "# Titanic 예시: 성별에 따른 나이 분포 비교  \n",
        "sns.histplot(data=titanic, x=\"Age\", hue=\"Sex\", bins=20, kde=True)\n",
        "plt.show()"
      ]
    },
    {
      "cell_type": "markdown",
      "id": "2c014078",
      "metadata": {},
      "source": [
        "### ✅ 체크포인트\n",
        "- **히스토그램**: 데이터의 빈도 분포 확인  \n",
        "- **박스플롯**: 사분위수와 이상치 확인  \n",
        "- **KDE plot**: 데이터 분포를 곡선으로 표현  \n",
        "- 그룹별 분포 비교 가능 (예: 성별, 등급, 계절 등)  \n"
      ]
    },
    {
      "cell_type": "markdown",
      "id": "53676039",
      "metadata": {},
      "source": [
        "# 4. 다양한 데이터 분포 살펴보기\n",
        "\n",
        "## 4.1 정규분포 (Normal Distribution)\n",
        "- 데이터가 **종 모양(bell curve)**으로 퍼져 있는 분포  \n",
        "- 평균을 중심으로 대칭  \n",
        "- 많은 자연현상과 사회현상에서 나타나는 가장 중요한 분포  \n",
        "\n",
        "예: 사람의 키, 시험 점수"
      ]
    },
    {
      "cell_type": "code",
      "execution_count": null,
      "id": "27f21bac",
      "metadata": {},
      "outputs": [],
      "source": [
        "# Titanic 예시: 승객 나이는 대체로 정규분포에 가까운 모양을 보임  \n",
        "sns.histplot(titanic[\"Age\"].dropna(), kde=True)\n",
        "plt.show()"
      ]
    },
    {
      "cell_type": "markdown",
      "id": "29bbad81",
      "metadata": {},
      "source": [
        "## 4.2 비대칭 분포 (Skewness)\n",
        "- 분포가 한쪽으로 치우쳐 있는 경우  \n",
        "- **왼쪽 꼬리(음의 왜도)**: 평균 < 중앙값  \n",
        "- **오른쪽 꼬리(양의 왜도)**: 평균 > 중앙값  \n",
        "\n",
        "예: 소득 분포 (고소득자가 소수 존재 → 오른쪽 꼬리)"
      ]
    },
    {
      "cell_type": "code",
      "execution_count": null,
      "id": "7e02b95c",
      "metadata": {},
      "outputs": [],
      "source": [
        "# Bike Sharing 예시: 특정 날씨나 계절 때문에 수요가 치우칠 수 있음  \n",
        "sns.histplot(bike[\"count\"], kde=True)\n",
        "plt.show()"
      ]
    },
    {
      "cell_type": "markdown",
      "id": "87d0dc10",
      "metadata": {},
      "source": [
        "### ✅ 체크포인트\n",
        "- **정규분포**: 평균 중심, 대칭적인 종 모양 분포  \n",
        "- **왜도(Skewness)**: 분포가 한쪽으로 치우쳐 있는 정도"
      ]
    },
    {
      "cell_type": "markdown",
      "id": "efe44fc2",
      "metadata": {},
      "source": [
        "# 5. Pandas와 시각화 연계\n",
        "\n",
        "## 5.1 DataFrame 자체로 그래프 그리기\n",
        "- Pandas는 Matplotlib을 기반으로 간단한 시각화를 지원\n",
        "- `df.plot()` 메서드 사용"
      ]
    },
    {
      "cell_type": "code",
      "execution_count": null,
      "id": "5e41440b",
      "metadata": {},
      "outputs": [],
      "source": [
        "# Bike Sharing 데이터의 월별 평균 대여량\n",
        "bike.groupby(\"month\")[\"count\"].mean().plot(kind=\"bar\")\n",
        "plt.show()"
      ]
    },
    {
      "cell_type": "markdown",
      "id": "1b73b1c1",
      "metadata": {},
      "source": [
        "## 5.2 시리즈(Series) 그래프\n",
        "- 특정 열(Series)에 대해서 바로 시각화 가능"
      ]
    },
    {
      "cell_type": "code",
      "execution_count": null,
      "id": "63f03bf8",
      "metadata": {},
      "outputs": [],
      "source": [
        "titanic[\"Age\"].plot(kind=\"hist\", bins=20, title=\"Age Distribution\")\n",
        "plt.show()"
      ]
    },
    {
      "cell_type": "markdown",
      "id": "4c587666",
      "metadata": {},
      "source": [
        "## 5.3 그룹별 집계와 시각화\n",
        "- `groupby()`로 데이터를 그룹화하고 요약 통계 계산\n",
        "- 그 결과를 시각화와 연결"
      ]
    },
    {
      "cell_type": "code",
      "execution_count": null,
      "id": "4451501e",
      "metadata": {},
      "outputs": [],
      "source": [
        "# 성별에 따른 평균 생존율\n",
        "survival_rate = titanic.groupby(\"Sex\")[\"Survived\"].mean()\n",
        "survival_rate.plot(kind=\"bar\", title=\"Survival Rate by Sex\")\n",
        "plt.show() # titanic 예시: 여성의 생존율이 남성보다 훨씬 높음 "
      ]
    },
    {
      "cell_type": "markdown",
      "id": "41775e87",
      "metadata": {},
      "source": [
        "## 5.4 Seaborn과 함께 사용하기\n",
        "- Pandas DataFrame은 Seaborn의 입력 데이터로 바로 활용 가능\n",
        "- Seaborn은 더 세련되고 다양한 시각화 제공"
      ]
    },
    {
      "cell_type": "code",
      "execution_count": null,
      "id": "0a917618",
      "metadata": {},
      "outputs": [],
      "source": [
        "# 클래스별 요금 분포\n",
        "sns.boxplot(x=\"Pclass\", y=\"Fare\", data=titanic)\n",
        "plt.show()"
      ]
    },
    {
      "cell_type": "markdown",
      "id": "96723c7d",
      "metadata": {},
      "source": [
        "### ✅ 체크포인트\n",
        "- Pandas의 `plot()`으로 DataFrame과 Series를 빠르게 시각화할 수 있다.  \n",
        "- `groupby()`를 활용하면 그룹별 통계를 계산하고 바로 그래프와 연결할 수 있다.  \n",
        "- Seaborn은 Pandas DataFrame을 직접 받아 고급 시각화를 지원한다.  \n"
      ]
    },
    {
      "cell_type": "markdown",
      "id": "18887174",
      "metadata": {},
      "source": [
        "# 6. 정리 & 실습 문제\n",
        "\n",
        "## 6.1 오늘 배운 내용 정리\n",
        "- **기술 통계**\n",
        "  - 평균, 중앙값, 최빈값으로 데이터의 중심을 요약\n",
        "  - 최소값, 최대값, 사분위수, 표준편차로 데이터의 범위와 퍼짐 확인\n",
        "- **데이터 시각화**\n",
        "  - 히스토그램: 데이터 분포 확인\n",
        "  - 박스플롯: 사분위수와 이상치 시각화\n",
        "  - KDE plot: 분포를 곡선으로 부드럽게 표현\n",
        "- **데이터 분포의 형태**\n",
        "  - 정규분포, 왜도, 이봉분포\n",
        "- **Pandas와 시각화**\n",
        "  - DataFrame의 `plot()`으로 빠른 시각화\n",
        "  - `groupby()`와 시각화를 연결하여 그룹별 비교 가능\n",
        "  - Seaborn으로 세련된 시각화 지원"
      ]
    },
    {
      "cell_type": "markdown",
      "id": "8b91d7bb",
      "metadata": {},
      "source": [
        "## 6.2 실습 문제\n",
        "\n",
        "### 문제 1\n",
        "Titanic 데이터에서 **성별별 나이 분포**를 박스플롯으로 그려보세요.  \n",
        "- `sns.boxplot()` 활용  \n",
        "- 남성과 여성의 나이 분포 차이를 관찰해보세요.\n",
        "<details>\n",
        "<summary>정답</summary>\n",
        "\n",
        "```python\n",
        "import seaborn as sns\n",
        "import matplotlib.pyplot as plt\n",
        "\n",
        "# 결측치 제거 후 시각화 (Age가 NaN인 행 제외)\n",
        "sns.boxplot(x=\"Sex\", y=\"Age\", data=titanic.dropna(subset=[\"Age\"]))\n",
        "plt.title(\"Age Distribution by Sex (Titanic)\")\n",
        "plt.xlabel(\"Sex\")\n",
        "plt.ylabel(\"Age\")\n",
        "plt.show()\n",
        "```"
      ]
    },
    {
      "cell_type": "markdown",
      "id": "199ec6b1",
      "metadata": {},
      "source": [
        "### 문제 2\n",
        "Bike Sharing 데이터에서 **월별 평균 대여량**을 막대그래프로 시각화하세요.  \n",
        "- `groupby(\"month\")[\"count\"].mean()` 활용  \n",
        "- 계절에 따른 수요 차이를 설명해보세요.\n",
        "\n",
        "\n",
        "<details>\n",
        "<summary>정답</summary>\n",
        "\n",
        "```python\n",
        "import pandas as pd\n",
        "import matplotlib.pyplot as plt\n",
        "\n",
        "# month 컬럼이 없을 수 있으므로 보강\n",
        "if \"month\" not in bike.columns:\n",
        "    # datetime에서 월 추출\n",
        "    bike[\"month\"] = pd.to_datetime(bike[\"datetime\"]).dt.month\n",
        "\n",
        "monthly_mean = bike.groupby(\"month\")[\"count\"].mean()\n",
        "\n",
        "monthly_mean.plot(kind=\"bar\")\n",
        "plt.title(\"Average Bike Demand by Month\")\n",
        "plt.xlabel(\"Month\")\n",
        "plt.ylabel(\"Average Count\")\n",
        "plt.show()\n",
        "```"
      ]
    },
    {
      "cell_type": "code",
      "execution_count": null,
      "id": "f82d4dd1",
      "metadata": {},
      "outputs": [],
      "source": [
        "# 여기에 작성하세요\n",
        "import matplotlib.pyplot as plt\n",
        "import seaborn as sns"
      ]
    },
    {
      "cell_type": "markdown",
      "id": "1d5f4ece",
      "metadata": {},
      "source": [
        "### 문제 3\n",
        "Titanic 데이터의 `Age` 컬럼에 대해 **평균, 중앙값, 최빈값**을 구하고 비교하세요.  \n",
        "- `mean()`, `median()`, `mode()` 활용  \n",
        "- 왜 이 값들이 서로 다른지 설명해보세요. (이상치나 분포의 왜도 때문일 수 있음)\n",
        "\n",
        "<details>\n",
        "<summary>정답</summary>\n",
        "\n",
        "```python\n",
        "import numpy as np\n",
        "\n",
        "age = titanic[\"Age\"].dropna()\n",
        "\n",
        "mean_age = age.mean()\n",
        "median_age = age.median()\n",
        "mode_age = age.mode()  # Series 반환(복수 최빈값 가능)\n",
        "\n",
        "print(\"평균:\", mean_age)\n",
        "print(\"중앙값:\", median_age)\n",
        "print(\"최빈값:\", list(mode_age.values))\n",
        "\n",
        "# 해석 포인트(예시)\n",
        "# - 평균과 중앙값 차이가 크면 분포가 치우쳤거나(outlier 영향) 결측치 처리 이슈가 있을 수 있음\n",
        "```"
      ]
    },
    {
      "cell_type": "code",
      "execution_count": null,
      "id": "37f81823",
      "metadata": {},
      "outputs": [],
      "source": [
        "# 여기에 작성하세요\n",
        "import matplotlib.pyplot as plt\n",
        "import seaborn as sns"
      ]
    },
    {
      "cell_type": "markdown",
      "id": "78627617",
      "metadata": {},
      "source": [
        "### 문제 4\n",
        "Bike Sharing 데이터에서 `count` 분포를 히스토그램과 KDE plot으로 시각화하세요.  \n",
        "- 두 그래프를 비교해보고, KDE가 어떤 장점을 가지는지 설명해보세요.\n",
        "\n",
        "<details>\n",
        "<summary>정답</summary>\n",
        "\n",
        "```python\n",
        "import matplotlib.pyplot as plt\n",
        "\n",
        "# 히스토그램\n",
        "sns.histplot(bike[\"count\"], bins=30, kde=False)\n",
        "plt.title(\"Histogram of Bike Demand (count)\")\n",
        "plt.xlabel(\"count\")\n",
        "plt.ylabel(\"frequency\")\n",
        "plt.show()\n",
        "\n",
        "# KDE plot\n",
        "sns.kdeplot(bike[\"count\"], shade=True)\n",
        "plt.title(\"KDE of Bike Demand (count)\")\n",
        "plt.xlabel(\"count\")\n",
        "plt.ylabel(\"density\")\n",
        "plt.show()\n",
        "\n",
        "# 비교 포인트(예시)\n",
        "# - 히스토그램: 구간별 빈도 확인에 유리 (bin 크기에 따라 모양 영향)\n",
        "# - KDE: 분포의 전반적 형태를 부드럽게 파악 (피크/꼬리 관찰에 유리)\n",
        "```"
      ]
    },
    {
      "cell_type": "code",
      "execution_count": null,
      "id": "744f7f95",
      "metadata": {},
      "outputs": [],
      "source": [
        "# 여기에 작성하세요\n",
        "import matplotlib.pyplot as plt\n",
        "import seaborn as sns"
      ]
    },
    {
      "cell_type": "markdown",
      "id": "23a0476d",
      "metadata": {},
      "source": [
        "### 문제 5 (심화)\n",
        "Titanic 데이터에서 **Pclass(객실 등급)** 에 따른 **생존율**을 계산하고, 막대그래프로 표현하세요.  \n",
        "- `groupby(\"Pclass\")[\"Survived\"].mean()` 활용  \n",
        "- 어떤 등급일수록 생존율이 높았는지 해석해보세요.\n",
        "\n",
        "<details>\n",
        "<summary>정답</summary>\n",
        "\n",
        "```python\n",
        "\n",
        "import matplotlib.pyplot as plt\n",
        "\n",
        "survival_by_pclass = titanic.groupby(\"Pclass\")[\"Survived\"].mean()\n",
        "\n",
        "survival_by_pclass.plot(kind=\"bar\")\n",
        "plt.title(\"Survival Rate by Passenger Class (Titanic)\")\n",
        "plt.xlabel(\"Pclass\")\n",
        "plt.ylabel(\"Survival Rate\")\n",
        "plt.ylim(0, 1)\n",
        "plt.show()\n",
        "\n",
        "# 해석 포인트(예시)\n",
        "# - 일반적으로 1등석의 생존율이 높게 나타나는 경향\n",
        "# - 계층/구역/구조적 요인이 결과에 반영될 수 있음\n",
        "```"
      ]
    },
    {
      "cell_type": "code",
      "execution_count": null,
      "id": "540323a3",
      "metadata": {},
      "outputs": [],
      "source": [
        "# 여기에 작성하세요\n",
        "import matplotlib.pyplot as plt"
      ]
    },
    {
      "cell_type": "markdown",
      "id": "de221817",
      "metadata": {},
      "source": [
        "### ✅ 체크포인트\n",
        "- 기술 통계와 시각화를 함께 쓰면 데이터 이해도가 크게 높아진다.  \n",
        "- Pandas와 Seaborn을 활용하면 데이터 탐색부터 시각화까지 간단하게 연결할 수 있다.  \n",
        "- 단순히 수치를 계산하는 것보다 **그래프로 확인**하면 분포와 패턴을 직관적으로 파악할 수 있다."
      ]
    },
    {
      "cell_type": "markdown",
      "id": "4f5bc4bf",
      "metadata": {},
      "source": [
        "### 다른 사람들의 EDA 참고하기!\n",
        "\n",
        "타이타닉과 자전거 수요 예측 데이터에 대해 직접 분석해보고, 전세계의 다른 데이터 과학자들은 어떻게 EDA를 했는지 참고해보세요.\n",
        "\n",
        "1. Kaggle 코드 게시판 \n",
        "https://www.kaggle.com/competitions/titanic/code?competitionId=3136&searchQuery=EDA&excludeNonAccessedDatasources=true\n",
        "\n",
        "2. 구글 검색\n",
        "https://www.google.com/search?q=titanic+eda&oq=titanic+e&gs_lcrp=EgZjaHJvbWUqBwgCEAAYgAQyBggAEEUYOTIHCAEQABiABDIHCAIQABiABDIHCAMQABiABDIHCAQQABiABDIGCAUQRRg8MgYIBhBFGDwyBggHEEUYPNIBCDg0NThqMGo3qAIAsAIA&sourceid=chrome&ie=UTF-8\n",
        " "
      ]
    }
  ],
  "metadata": {
    "encoded_email": [
      "cmxhYWxzdG4xNTA0QG5hdmVyLmNvbQ=="
    ],
    "filename": "MS02X+q4sOy0iF/thrXqs4TsmYBf642w7J207YSwX+yLnOqwge2ZlC5pcHluYg==",
    "inserted_date": [
      "2025-09-19"
    ],
    "kernelspec": {
      "display_name": "base",
      "language": "python",
      "name": "python3"
    },
    "language_info": {
      "codemirror_mode": {
        "name": "ipython",
        "version": 3
      },
      "file_extension": ".py",
      "mimetype": "text/x-python",
      "name": "python",
      "nbconvert_exporter": "python",
      "pygments_lexer": "ipython3",
      "version": "3.11.7"
    }
  },
  "nbformat": 4,
  "nbformat_minor": 5
}
