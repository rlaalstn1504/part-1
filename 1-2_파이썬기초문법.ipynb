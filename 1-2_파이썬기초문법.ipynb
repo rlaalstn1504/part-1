{
  "cells": [
    {
      "cell_type": "markdown",
      "id": "5afd6123",
      "metadata": {},
      "source": [
        "# 파이썬 기초 문법"
      ]
    },
    {
      "cell_type": "markdown",
      "id": "c12b27a0",
      "metadata": {},
      "source": [
        "## 1. 변수와 자료형\n",
        "\n",
        "### 1) 변수란 무엇인가?\n",
        "- **변수(variable)** 는 **값(데이터)을 저장해두는 상자**와 같음  \n",
        "- 컴퓨터가 기억해야 할 값을 이름을 붙여 보관하는 것\n",
        "- 한 번 저장해두면, 필요할 때 변수 이름을 불러서 재사용할 수 있음\n",
        "\n",
        "예시:  \n",
        "- 수학에서 `x = 5` 라고 하면, `x`라는 이름에 5라는 값이 들어있다고 이해  \n",
        "- 프로그래밍에서도 같은 개념으로 `x`에 5를 넣고, 나중에 다시 꺼내 쓸 수 있음\n"
      ]
    },
    {
      "cell_type": "markdown",
      "id": "5231d806",
      "metadata": {},
      "source": [
        "### 2) 파이썬 변수 사용법\n",
        "- 변수 이름 = 저장할 값  \n",
        "- `=` 기호는 **같다(equal)** 가 아니라 **저장한다(assign)** 의 의미  \n",
        "\n",
        "```python\n",
        "x = 5       # 숫자 5를 x라는 변수에 저장\n",
        "y = 10      # 숫자 10을 y라는 변수에 저장\n",
        "name = \"철수\"  # 문자열 \"철수\"를 name이라는 변수에 저장\n",
        "\n",
        "print(x)       # 5 출력\n",
        "print(name)    # 철수 출력"
      ]
    },
    {
      "cell_type": "markdown",
      "id": "64e8e4ed",
      "metadata": {},
      "source": [
        "### 3) 파이썬의 자료형 (Data Type)\n",
        "\n",
        "변수에는 다양한 형태의 데이터가 저장될 수 있음. 대표적인 자료형은 다음과 같음:\n",
        "\n",
        "- int : 정수형 (예: 10, -3)\n",
        "- float : 실수형, 소수점 포함 (예: 3.14, -2.5)\n",
        "- str : 문자열, 문자들의 집합 (예: \"Hello\", \"Python\")\n",
        "- bool : 불리언, 참(True) 또는 거짓(False)"
      ]
    },
    {
      "cell_type": "markdown",
      "id": "497aba6a",
      "metadata": {},
      "source": [
        "### 4) 자료형 변환 (Type Casting)\n",
        "\n",
        "서로 다른 자료형을 변환할 수 있음.\n",
        "\n",
        "- int() : 정수형으로 변환\n",
        "- float() : 실수형으로 변환\n",
        "- str() : 문자열로 변환\n",
        "- bool() : 불리언으로 변환"
      ]
    },
    {
      "cell_type": "code",
      "execution_count": null,
      "id": "21896123",
      "metadata": {},
      "outputs": [],
      "source": [
        "# 변수 예시\n",
        "a = 10        # 정수\n",
        "b = 3.14      # 실수\n",
        "c = \"Hello\"   # 문자열\n",
        "d = True      # 불리언\n",
        "\n",
        "print(a, b, c, d)\n",
        "print(type(a), type(b), type(c), type(d))"
      ]
    },
    {
      "cell_type": "code",
      "execution_count": null,
      "id": "dbef3cb2",
      "metadata": {},
      "outputs": [],
      "source": [
        "x = \"100\"     # 문자열\n",
        "y = int(x)    # 문자열을 정수로 변환\n",
        "z = float(x)  # 문자열을 실수로 변환\n",
        "\n",
        "print(x, type(x))  # \"100\" <class 'str'>\n",
        "print(y, type(y))  # 100 <class 'int'>\n",
        "print(z, type(z))  # 100.0 <class 'float'>"
      ]
    },
    {
      "cell_type": "markdown",
      "id": "7f60212b",
      "metadata": {},
      "source": [
        "## 2. 연산자\n",
        "- 산술 연산자: `+`, `-`, `*`, `/`, `//`, `%`, `**`\n",
        "- 비교 연산자: `==`, `!=`, `>`, `<`, `>=`, `<=`\n",
        "- 논리 연산자: `and`, `or`, `not`"
      ]
    },
    {
      "cell_type": "code",
      "execution_count": null,
      "id": "df0cf473",
      "metadata": {},
      "outputs": [],
      "source": [
        "x, y = 7, 3\n",
        "\n",
        "print(x + y)   # 덧셈\n",
        "print(x // y)  # 몫\n",
        "print(x % y)   # 나머지\n",
        "print(x ** y)  # 제곱\n",
        "\n",
        "print(x > y)   # 비교\n",
        "print(x == y)\n",
        "\n",
        "print((x > 5) and (y < 5))  # 논리 연산"
      ]
    },
    {
      "cell_type": "markdown",
      "id": "5dc0b0c4",
      "metadata": {},
      "source": [
        "### ✍️ 복습 문제"
      ]
    },
    {
      "cell_type": "markdown",
      "id": "6312c48c",
      "metadata": {},
      "source": [
        "### 문제 1. 변수 할당\n",
        "파이썬에서 변수 `x`에 숫자 10을 할당하고 출력하세요.  \n",
        "\n",
        "<details>\n",
        "<summary>정답 보기</summary>\n",
        "\n",
        "```python\n",
        "x = 10\n",
        "print(x)\n",
        "````"
      ]
    },
    {
      "cell_type": "code",
      "execution_count": null,
      "id": "907300dd",
      "metadata": {},
      "outputs": [],
      "source": [
        "# 여기에 코드를 작성하세요"
      ]
    },
    {
      "cell_type": "markdown",
      "id": "5f075fe7",
      "metadata": {},
      "source": [
        "### 문제 2. 여러 변수 동시 할당\n",
        "\n",
        "파이썬에서 변수 a, b에 각각 5와 15를 동시에 할당하세요.\n",
        "\n",
        "<details> <summary>정답 보기</summary>\n",
        "\n",
        "a, b = 5, 15  \n",
        "print(a, b)\n",
        "\n",
        "</details>"
      ]
    },
    {
      "cell_type": "code",
      "execution_count": null,
      "id": "b353d9b7",
      "metadata": {},
      "outputs": [],
      "source": [
        "# 여기에 코드를 작성하세요"
      ]
    },
    {
      "cell_type": "markdown",
      "id": "f6a4ab25",
      "metadata": {},
      "source": [
        "### 문제 3. 변수 선언과 출력\n",
        "아래 조건에 맞게 변수를 만들고 출력해보세요.  \n",
        "- 정수 변수 `age`에 본인의 나이를 저장  \n",
        "- 문자열 변수 `name`에 본인의 이름을 저장  \n",
        "- 두 변수를 함께 출력하여 `\"저는 OOO이고, 나이는 XX살입니다.\"` 형태로 나오도록 하세요."
      ]
    },
    {
      "cell_type": "code",
      "execution_count": null,
      "id": "59682b2b",
      "metadata": {},
      "outputs": [],
      "source": [
        "# 여기에 코드를 작성하세요"
      ]
    },
    {
      "cell_type": "markdown",
      "id": "bfe2ea0f",
      "metadata": {},
      "source": [
        "### 문제 4. 자료형 확인\n",
        "\n",
        "변수 s = \"Python\"의 자료형을 확인하세요.\n",
        "\n",
        "<details> <summary>정답 보기</summary>\n",
        "\n",
        "```python\n",
        "s = \"Python\"\n",
        "print(type(s))\n",
        "```\n",
        "</details>"
      ]
    },
    {
      "cell_type": "code",
      "execution_count": null,
      "id": "7bb6d8ac",
      "metadata": {},
      "outputs": [],
      "source": []
    },
    {
      "cell_type": "markdown",
      "id": "70a50b1f",
      "metadata": {},
      "source": [
        "### 문제 5. 자료형 변환\n",
        "\n",
        "변수 num = \"123\"을 정수형으로 변환하세요.\n",
        "\n",
        "<details> <summary>정답 보기</summary>\n",
        "\n",
        "```python\n",
        "num = \"123\"\n",
        "num = int(num)\n",
        "print(num, type(num))\n",
        "```\n",
        "</details>"
      ]
    },
    {
      "cell_type": "code",
      "execution_count": null,
      "id": "d6080af8",
      "metadata": {},
      "outputs": [],
      "source": [
        "# 여기에 코드를 작성하세요\n",
        "num = 123"
      ]
    },
    {
      "cell_type": "markdown",
      "id": "cd348203",
      "metadata": {},
      "source": [
        "### 문제 6. 연산자 연습\n",
        "정수 변수 `a = 15`, `b = 4`를 선언한 후, 아래 결과를 출력하세요.  \n",
        "1. a를 b로 나눈 **몫**  \n",
        "2. a를 b로 나눈 **나머지**  \n",
        "3. a가 b보다 큰지 비교한 결과 (True/False)  "
      ]
    },
    {
      "cell_type": "code",
      "execution_count": null,
      "id": "f79d4018",
      "metadata": {},
      "outputs": [],
      "source": [
        "# 여기에 코드를 작성하세요"
      ]
    },
    {
      "cell_type": "markdown",
      "id": "dac941b5",
      "metadata": {},
      "source": [
        "### 문제 7. 비교 연산자\n",
        "\n",
        "변수 x = 10, y = 20일 때, x < y와 x == y의 결과를 출력하세요.\n",
        "\n",
        "<details> <summary>정답 보기</summary>\n",
        "\n",
        "```python\n",
        "x, y = 10, 20\n",
        "print(x < y)\n",
        "print(x == y)\n",
        "```\n",
        "</details>"
      ]
    },
    {
      "cell_type": "markdown",
      "id": "91c2cbf3",
      "metadata": {},
      "source": [
        "### 문제 8. 논리 연산자 활용\n",
        "\n",
        "변수 `x = 10`, `y = 20`일 때, 아래 식의 결과를 구해보세요.  \n",
        "\n",
        "1. (x > 5) and (y > 15)  \n",
        "2. (x < 5) or (y == 20)  \n",
        "3. not(x == 10)  \n"
      ]
    },
    {
      "cell_type": "code",
      "execution_count": null,
      "id": "bbab62a2",
      "metadata": {},
      "outputs": [],
      "source": [
        "# 여기에 코드를 작성하세요"
      ]
    },
    {
      "cell_type": "markdown",
      "id": "35e5c76a",
      "metadata": {},
      "source": [
        "### 문제 9. 문자열 연산\n",
        "\n",
        "문자열 \"Hello\"와 \"World\"를 공백 하나를 두고 이어붙이세요.\n",
        "\n",
        "<details> <summary>정답 보기</summary>\n",
        "\n",
        "```python\n",
        "s1 = \"Hello\"\n",
        "s2 = \"World\"\n",
        "result = s1 + \" \" + s2\n",
        "print(result)\n",
        "```\n",
        "</details>"
      ]
    },
    {
      "cell_type": "code",
      "execution_count": null,
      "id": "6bd2273e",
      "metadata": {},
      "outputs": [],
      "source": []
    },
    {
      "cell_type": "markdown",
      "id": "837b538d",
      "metadata": {},
      "source": [
        "## 3. 조건문 (if 문)\n",
        "### 1) 조건문이란?\n",
        "- 프로그램이 **상황에 따라 다른 행동**을 하도록 만드는 문장.\n",
        "- 어떤 **조건식**이 참(True)이면 특정 코드를 실행하고, 거짓(False)이면 건너뜁니다.\n",
        "\n",
        "### 2) 기본 문법(형식)\n",
        "\n",
        "```python\n",
        "if 조건식:\n",
        "    # 조건식이 True일 때 실행되는 코드 블록\n",
        "elif 다른_조건식:\n",
        "    # 위 if가 False이고, 이 조건이 True일 때 실행\n",
        "else:\n",
        "    # 위 모든 조건이 False일 때 실행\n",
        "```\n",
        "\n",
        "- : (콜론)을 잊지 말 것.\n",
        "- 들여쓰기(Indentation): 블록은 보통 공백 4칸으로 들여쓰기. 탭/스페이스 혼용 금지.\n",
        "- if, elif, else는 필요한 만큼 쓸 수 있지만, else는 0개 또는 1개만 사용합니다."
      ]
    },
    {
      "cell_type": "markdown",
      "id": "c076ece1",
      "metadata": {},
      "source": [
        "### 핵심 정리\n",
        "- 기본 구조: `if` → (필요 시) `elif` → (선택) `else`\n",
        "- `:`(콜론)과 **들여쓰기(공백 4칸)** 필수\n",
        "- 간단한 분기는 **조건부 표현식**으로 한 줄에 가능: `A if 조건 else B`\n",
        "- 자주 하는 실수: `=`(대입) vs `==`(비교), 콜론 누락, 들여쓰기 오류"
      ]
    },
    {
      "cell_type": "code",
      "execution_count": null,
      "id": "186da542",
      "metadata": {},
      "outputs": [],
      "source": [
        "score = 85\n",
        "\n",
        "if score >= 90:\n",
        "    print(\"A 학점\")\n",
        "elif score >= 80:\n",
        "    print(\"B 학점\")\n",
        "else:\n",
        "    print(\"C 학점 이하\")\n"
      ]
    },
    {
      "cell_type": "markdown",
      "id": "0bbf5b74",
      "metadata": {},
      "source": [
        "### 조건문 복습 문제\n",
        "\n",
        "### 문제 1. 배수 판별 (단일 if)\n",
        "정수 `n`이 주어졌을 때,  \n",
        "- `n`이 3의 배수면 `\"3의 배수입니다\"`  \n",
        "- `n`이 5의 배수면 `\"5의 배수입니다\"`  \n",
        "를 각각 출력하세요.  \n",
        "(단, 공배수는 고려하지 않고, 해당하는 조건만 따로 출력)\n",
        "\n",
        "예시)  \n",
        "- n = 9 → \"3의 배수입니다\"  \n",
        "- n = 10 → \"5의 배수입니다\""
      ]
    },
    {
      "cell_type": "code",
      "execution_count": null,
      "id": "2bdaff8c",
      "metadata": {},
      "outputs": [],
      "source": [
        "# 여기에 코드를 작성하세요\n",
        "n = int(input())"
      ]
    },
    {
      "cell_type": "markdown",
      "id": "3b9c0832",
      "metadata": {},
      "source": [
        "### 문제 2. 배수 판별 (공배수 고려, 중첩 if)\n",
        "정수 `n`이 주어졌을 때,  \n",
        "- `n`이 3과 5의 **공배수**라면 `\"3과 5의 공배수입니다\"`  \n",
        "- 그렇지 않고 3의 배수라면 `\"3의 배수입니다\"`  \n",
        "- 그렇지 않고 5의 배수라면 `\"5의 배수입니다\"`  \n",
        "를 출력하세요.  \n",
        "\n",
        "힌트: `if` 안에 `if`를 넣어 중첩 조건문을 사용해보세요."
      ]
    },
    {
      "cell_type": "code",
      "execution_count": null,
      "id": "abfc6c9d",
      "metadata": {},
      "outputs": [],
      "source": [
        "# 여기에 코드를 작성하세요\n",
        "n = int(input())"
      ]
    },
    {
      "cell_type": "markdown",
      "id": "5291a2b3",
      "metadata": {},
      "source": [
        "### 문제 3. 응용: 점수 등급 판별\n",
        "\n",
        "점수 `score`가 주어졌을 때, 다음 기준으로 학점을 출력하세요.  \n",
        "- 90점 이상: \"A 학점\"  \n",
        "- 80점 이상: \"B 학점\"  \n",
        "- 70점 이상: \"C 학점\"  \n",
        "- 그 외: \"D 학점 이하\"\n"
      ]
    },
    {
      "cell_type": "code",
      "execution_count": null,
      "id": "5eb78f7b",
      "metadata": {},
      "outputs": [],
      "source": [
        "# 여기에 코드를 작성하세요\n",
        "score = int(input())"
      ]
    },
    {
      "cell_type": "markdown",
      "id": "da9eac13",
      "metadata": {},
      "source": [
        "### 한 줄 if문 (조건부 표현식)\n",
        "\n",
        "파이썬에서는 조건문을 간단하게 한 줄로 표현할 수 있습니다.  \n",
        "형식은 다음과 같습니다:\n",
        "\n",
        "```python\n",
        "값_if_참일때 if 조건 else 값_if_거짓일때\n",
        "```\n",
        "\n",
        "즉, 조건이 참(True) 이면 앞의 값을, 거짓(False) 이면 뒤의 값을 반환합니다.\n",
        "일반적인 if-else 문을 짧게 줄여 쓸 때 유용합니다.\n",
        "\n",
        "예시 : \n",
        "```python\n",
        "a = 2\n",
        "print(True if a>3 else False) # 출력 : False\n",
        "```"
      ]
    },
    {
      "cell_type": "markdown",
      "id": "076877fd",
      "metadata": {},
      "source": [
        "### 문제 4. 한 줄 if문 기본\n",
        "\n",
        "변수 x = 7일 때, x가 10 이상이면 \"크다\", 아니면 \"작다\"를 출력하는 한 줄 if문을 작성하세요.\n",
        "\n",
        "<details> <summary>정답 보기</summary>\n",
        "\n",
        "```python\n",
        "x = 7\n",
        "print(\"크다\" if x >= 10 else \"작다\")\n",
        "```\n",
        "</details>"
      ]
    },
    {
      "cell_type": "code",
      "execution_count": null,
      "id": "c5b986b4",
      "metadata": {},
      "outputs": [],
      "source": [
        "# 여기에 코드를 작성하세요\n",
        "x = 7"
      ]
    },
    {
      "cell_type": "markdown",
      "id": "312ea8c0",
      "metadata": {},
      "source": [
        "### 문제 5. 홀짝 판별\n",
        "\n",
        "변수 n = 13일 때, n이 짝수면 \"Even\", 홀수면 \"Odd\"를 출력하는 한 줄 if문을 작성하세요.\n",
        "\n",
        "<details> <summary>정답 보기</summary>\n",
        "\n",
        "```python\n",
        "n = 13\n",
        "print(\"Even\" if n % 2 == 0 else \"Odd\")\n",
        "```\n",
        "</details>"
      ]
    },
    {
      "cell_type": "code",
      "execution_count": null,
      "id": "64c645cf",
      "metadata": {},
      "outputs": [],
      "source": [
        "# 여기에 코드를 작성하세요\n",
        "n = 13"
      ]
    },
    {
      "cell_type": "markdown",
      "id": "9b586214",
      "metadata": {},
      "source": [
        "## 4. 반복문\n",
        "### 1) 반복문이란?\n",
        "- 프로그램에서 **같은 동작을 여러 번 반복**하고 싶을 때 사용.\n",
        "- 일일이 코드를 여러 줄 작성하지 않고, 반복문을 이용하면 짧고 효율적으로 작성 가능.\n",
        "\n",
        "예시:  \n",
        "- \"안녕하세요\"를 5번 출력하기  \n",
        "- 1부터 10까지 숫자 합 구하기  \n",
        "- 리스트 안의 모든 원소를 하나씩 처리하기\n",
        "\n",
        "\n",
        "#### for 문\n",
        "- **정해진 횟수**만큼 반복할 때 사용.\n",
        "- `range()` 함수와 함께 자주 사용.\n",
        "\n",
        "#### 기본 문법\n",
        "```python\n",
        "for 변수 in 반복할_대상:\n",
        "    실행할 코드\n",
        "```\n",
        "\n",
        "- 반복할_대상에는 리스트, 문자열, range() 등이 올 수 있음.\n",
        "- 매 반복마다 변수가 순서대로 바뀌며 실행됨."
      ]
    },
    {
      "cell_type": "code",
      "execution_count": null,
      "id": "c437a021",
      "metadata": {},
      "outputs": [],
      "source": [
        "# 1부터 5까지 출력\n",
        "for i in range(1, 6):   # 1 이상 6 미만\n",
        "    print(i)\n",
        "\n",
        "# 리스트 순회\n",
        "fruits = [\"apple\", \"banana\", \"cherry\"]\n",
        "for f in fruits:\n",
        "    print(f)"
      ]
    },
    {
      "cell_type": "markdown",
      "id": "dbf1789d",
      "metadata": {},
      "source": [
        "#### 3) while 문\n",
        "\n",
        "조건식이 True인 동안 계속 반복.\n",
        "\n",
        "조건이 False가 되면 반복 종료.\n",
        "\n",
        "```python\n",
        "while 조건식:\n",
        "    실행할 코드\n",
        "```\n",
        "\n",
        "**조건을 잘못 주면 무한 루프에 빠질 수 있으니 주의.**\n",
        "\n",
        "#### 예시\n",
        "```python\n",
        "n = 1\n",
        "while n <= 5:\n",
        "    print(\"카운트:\", n)\n",
        "    n += 1   # n이 계속 커져야 반복이 끝남\n",
        "```"
      ]
    },
    {
      "cell_type": "markdown",
      "id": "09ab3a6e",
      "metadata": {},
      "source": [
        "### 4) 반복 제어 키워드\n",
        "\n",
        "break : 반복문을 즉시 종료\n",
        "\n",
        "continue : 이번 반복만 건너뛰고 다음 반복으로 진행\n",
        "\n",
        "```python\n",
        "# break 예시\n",
        "for i in range(1, 10):\n",
        "    if i == 5:\n",
        "        break\n",
        "    print(i)   # 1, 2, 3, 4만 출력\n",
        "\n",
        "# continue 예시\n",
        "for i in range(1, 6):\n",
        "    if i == 3:\n",
        "        continue\n",
        "    print(i)   # 1, 2, 4, 5 출력\n",
        "```"
      ]
    },
    {
      "cell_type": "markdown",
      "id": "dfbbd308",
      "metadata": {},
      "source": [
        "#### 5) 참고 : for vs while 선택 기준\n",
        "\n",
        "**반복 횟수가 명확히 정해진 경우 → for**  \n",
        "**조건에 따라 반복을 계속해야 하는 경우 → while**\n",
        "\n",
        "-> 반드시 위 내용대로 정할 필요는 없음"
      ]
    },
    {
      "cell_type": "markdown",
      "id": "e9ff5ccc",
      "metadata": {},
      "source": [
        "#### 6) 자주 하는 실수\n",
        "\n",
        "while에서 증가식/종료 조건을 빼먹어 무한 루프 발생\n",
        "\n",
        "range(1, 6)은 1~6까지가 아니라 1 이상 6 미만\n",
        "\n",
        "for문에서 들여쓰기 실수 → 반복 안 되거나 에러 발생"
      ]
    },
    {
      "cell_type": "markdown",
      "id": "6da7e130",
      "metadata": {},
      "source": [
        "### 반복문 복습 문제\n",
        "\n",
        "### 문제 1. 구구단 출력 (for 문)\n",
        "정수 `n`을 입력받아, 해당 구구단을 출력하세요.  \n",
        "예시) n = 3  \n",
        "3 x 1 = 3  \n",
        "3 x 2 = 6  \n",
        "...\n",
        "3 x 9 = 27 "
      ]
    },
    {
      "cell_type": "code",
      "execution_count": null,
      "id": "4e6d1f80",
      "metadata": {},
      "outputs": [],
      "source": [
        "# 여기에 코드를 작성하세요\n",
        "n = 3"
      ]
    },
    {
      "cell_type": "markdown",
      "id": "fc370089",
      "metadata": {},
      "source": [
        "### 문제 2. 짝수의 합 구하기 (while 문)\n",
        "1부터 100까지의 정수 중에서 **짝수의 합**을 while 문으로 구하세요.  \n",
        "출력 예시) `1부터 100까지 짝수의 합은 2550입니다.`\n"
      ]
    },
    {
      "cell_type": "markdown",
      "id": "62ca6e70",
      "metadata": {},
      "source": [
        "### 문제 3. break와 continue 연습\n",
        "1부터 10까지 숫자를 출력하는데,  \n",
        "- 5에서 멈추도록(`break`) 하세요.  \n",
        "- 단, 3은 건너뛰고(`continue`) 출력하지 않도록 하세요.  \n"
      ]
    },
    {
      "cell_type": "code",
      "execution_count": null,
      "id": "aa5509b8",
      "metadata": {},
      "outputs": [],
      "source": [
        "# 여기에 코드를 작성하세요\n",
        "n = 3"
      ]
    },
    {
      "cell_type": "markdown",
      "id": "64dce530",
      "metadata": {},
      "source": [
        "## 5. 함수\n",
        "### 1) 함수란 무엇인가?\n",
        "- **반복되는 코드를 묶어서 이름을 붙여둔 것**\n",
        "- 한 번 정의해두면 필요할 때마다 **호출(call)** 해서 재사용 가능\n",
        "- 코드를 **짧고 간결**하게 만들고, **유지보수**도 쉬워짐\n",
        "\n",
        "### 2) 함수 정의와 호출\n",
        "\n",
        "#### 기본 문법\n",
        "```python\n",
        "def 함수이름(매개변수):\n",
        "    실행할 코드\n",
        "    return 결과값\n",
        "```\n",
        "\n",
        "- `def` : 함수를 정의할 때 사용하는 키워드\n",
        "\n",
        "- `매개변수(parameter)` : 함수에 전달되는 값(선택적)\n",
        "\n",
        "- `return`: 결과를 함수 바깥으로 돌려줌 (없으면 None 반환)\n",
        "\n",
        "\n",
        "\n",
        "<img src=\"image/function.png\">  \n",
        "\n",
        "이미지 출처 : https://www.houseofmath.com/encyclopedia/functions/theory-of-functions/fundamentals-of-functions/what-is-the-definition-of-a-function\n",
        "\n",
        "\n",
        "#### 자주 하는 실수\n",
        "\n",
        "return을 빼먹고 함수 내부에서 출력만 함  \n",
        "→ 출력은 되지만 결과값은 None 반환\n",
        "\n",
        "함수 정의만 하고 호출을 안 함  \n",
        "→ 함수는 실행되지 않음\n",
        "\n",
        "들여쓰기 오류  \n",
        "→ 함수 내부 코드는 반드시 들여쓰기 필요"
      ]
    },
    {
      "cell_type": "code",
      "execution_count": null,
      "id": "28eaf6d5",
      "metadata": {},
      "outputs": [],
      "source": [
        "# 예시\n",
        "def add(x, y):\n",
        "    return x + y\n",
        "\n",
        "print(add(3, 5))\n",
        "print(add(10, 20))\n",
        "\n",
        "def greet(name):\n",
        "    return f\"안녕하세요, {name}님!\"\n",
        "\n",
        "print(greet(\"철수\"))"
      ]
    },
    {
      "cell_type": "markdown",
      "id": "17a3566e",
      "metadata": {},
      "source": [
        "### 3) 익명 함수 (lambda)\n",
        "\n",
        "이름 없는 간단한 함수 정의할 때 사용\n",
        "\n",
        "lambda 매개변수: 표현식"
      ]
    },
    {
      "cell_type": "code",
      "execution_count": null,
      "id": "21bc6925",
      "metadata": {},
      "outputs": [],
      "source": [
        "# 예시\n",
        "square = lambda x: x**2\n",
        "print(square(5))   # 25"
      ]
    },
    {
      "cell_type": "markdown",
      "id": "19a66d66",
      "metadata": {},
      "source": [
        "### 4) 여러 인자를 받는 *, ** 문법\n",
        "\n",
        "파이썬에서는 함수가 가변 개수의 인자를 받을 수 있도록 *args, **kwargs 문법을 제공합니다.\n",
        "\n",
        "`*args`\n",
        "\n",
        "여러 개의 위치 인자를 튜플(tuple) 형태로 받음\n",
        "\n",
        "인자의 개수를 미리 정하지 않아도 됨\n",
        "\n",
        "```python\n",
        "def add_all(*args):\n",
        "    return sum(args)\n",
        "\n",
        "print(add_all(1, 2, 3))       # 6\n",
        "print(add_all(4, 5, 6, 7, 8)) # 30\n",
        "```\n",
        "\n",
        "`**kwargs`\n",
        "\n",
        "여러 개의 키워드 인자를 딕셔너리(dict) 형태로 받음\n",
        "\n",
        "함수 호출 시 key=value 형식으로 전달\n",
        "```python\n",
        "def print_info(**kwargs):\n",
        "    for key, value in kwargs.items():\n",
        "        print(f\"{key} : {value}\")\n",
        "\n",
        "print_info(name=\"Alice\", age=25, city=\"Seoul\")\n",
        "# name : Alice\n",
        "# age : 25\n",
        "# city : Seoul\n",
        "```\n",
        "\n",
        "👉 *args와 **kwargs를 함께 쓰면, 위치 인자와 키워드 인자를 동시에 유연하게 처리할 수 있음."
      ]
    },
    {
      "cell_type": "markdown",
      "id": "074d6c24",
      "metadata": {},
      "source": [
        "### ✍️함수 복습 문제\n",
        "\n",
        "### 문제 1. 함수 기본\n",
        "두 숫자를 입력받아 더한 값을 반환하는 함수 `add_numbers(a, b)`를 작성하세요.  \n",
        "함수를 정의하고, 임의의 두 숫자로 호출하여 결과를 출력하세요.\n",
        "\n",
        "<details> <summary>정답 보기</summary>\n",
        "\n",
        "```python\n",
        "def add_numbers(a,b):\n",
        "    return a+b\n",
        "\n",
        "print(add_numbers(2,3))\n",
        "```\n",
        "</details>"
      ]
    },
    {
      "cell_type": "code",
      "execution_count": null,
      "id": "e187ab48",
      "metadata": {},
      "outputs": [],
      "source": [
        "# 여기에 코드를 작성하세요"
      ]
    },
    {
      "cell_type": "markdown",
      "id": "cefaac1c",
      "metadata": {},
      "source": [
        "### 문제 2. 제곱 계산\n",
        "람다함수를 이용하여 입력된 숫자의 제곱을 계산하는 함수를 작성하고, 임의의 숫자로 실행하세요.  \n",
        "\n",
        "<details>\n",
        "<summary>정답 보기</summary>\n",
        "\n",
        "```python\n",
        "square = lambda x: x**2\n",
        "print(square(6))\n",
        "```\n",
        "</details>"
      ]
    },
    {
      "cell_type": "code",
      "execution_count": null,
      "id": "f11ddac4",
      "metadata": {},
      "outputs": [],
      "source": []
    },
    {
      "cell_type": "markdown",
      "id": "9c30516f",
      "metadata": {},
      "source": [
        "### 문제 3. 문자열 길이 함수\n",
        "\n",
        "문자열을 입력받아 문자열의 길이를 반환하는 함수 str_length(s)를 작성하세요.\n",
        "\n",
        "<details> <summary>정답 보기</summary>\n",
        "\n",
        "```python\n",
        "def str_length(s):\n",
        "    return len(s)\n",
        "\n",
        "print(str_length(\"Python\"))\n",
        "```\n",
        "</details>"
      ]
    },
    {
      "cell_type": "code",
      "execution_count": null,
      "id": "26146d2b",
      "metadata": {},
      "outputs": [],
      "source": [
        "# 여기에 코드를 작성하세요"
      ]
    },
    {
      "cell_type": "markdown",
      "id": "22c22221",
      "metadata": {},
      "source": [
        "### 문제 4. 조건부 표현\n",
        "\n",
        "숫자를 입력받아 짝수면 \"Even\", 홀수면 \"Odd\"를 반환하는 람다함수를 작성하세요.\n",
        "\n",
        "<details> <summary>정답 보기</summary>\n",
        "\n",
        "```python\n",
        "even_odd = lambda n: \"Even\" if n % 2 == 0 else \"Odd\"\n",
        "print(even_odd(11))\n",
        "```\n",
        "</details>"
      ]
    },
    {
      "cell_type": "code",
      "execution_count": null,
      "id": "1eb7ad15",
      "metadata": {},
      "outputs": [],
      "source": [
        "# 여기에 코드를 작성하세요"
      ]
    },
    {
      "cell_type": "markdown",
      "id": "983974a9",
      "metadata": {},
      "source": [
        "### 문제 5. 가변 인자 합계\n",
        "`*args`를 사용하여 여러 숫자를 받아 모두 더한 결과를 반환하는 함수 `add_all`을 작성하세요.  \n",
        "단, 함수는 `lambda`를 사용해 구현하세요.  \n",
        "\n",
        "<details>\n",
        "<summary>정답 보기</summary>\n",
        "\n",
        "```python\n",
        "add_all = lambda *args: sum(args)\n",
        "print(add_all(1, 2, 3, 4, 5))\n",
        "```\n",
        "</details>"
      ]
    },
    {
      "cell_type": "markdown",
      "id": "7486700e",
      "metadata": {},
      "source": [
        "### 문제 6. 최댓값 찾기\n",
        "가변 인자 *args로 여러 숫자를 입력받아 그중 최댓값을 반환하는 람다 함수를 작성하세요.\n",
        "\n",
        "<details> <summary>정답 보기</summary>\n",
        "\n",
        "```python\n",
        "max_value = lambda *args: max(args)\n",
        "print(max_value(3, 7, 2, 9, 5))\n",
        "```\n",
        "</details>"
      ]
    },
    {
      "cell_type": "code",
      "execution_count": null,
      "id": "37731de0",
      "metadata": {},
      "outputs": [],
      "source": [
        "# 여기에 코드를 작성하세요\n",
        "max_value = None\n",
        "print(max_value(3, 7, 2, 9, 5))"
      ]
    },
    {
      "cell_type": "markdown",
      "id": "eab58b41",
      "metadata": {},
      "source": [
        "### 문제 7. 딕셔너리 병합\n",
        "\n",
        "**args를 사용하여 여러 개의 키워드 인자를 받아 딕셔너리로 반환하는 함수 merge_dicts를 작성하세요.\n",
        "동일한 키가 들어오면 나중 값으로 덮어쓰세요.\n",
        "\n",
        "<details> <summary>정답 보기</summary>\n",
        "\n",
        "```python\n",
        "def merge_dicts(**args):\n",
        "    return args\n",
        "\n",
        "print(merge_dicts(a=1, b=2, c=3))\n",
        "print(merge_dicts(name=\"Bob\", age=30, city=\"Busan\"))\n",
        "```\n",
        "</details> "
      ]
    },
    {
      "cell_type": "code",
      "execution_count": null,
      "id": "d8ae4189",
      "metadata": {},
      "outputs": [],
      "source": [
        "# 여기에 코드를 작성하세요"
      ]
    },
    {
      "cell_type": "markdown",
      "id": "049a5b18",
      "metadata": {},
      "source": [
        "### 문제 1. 키워드 인자 소개  \n",
        "`**args`를 사용하여 전달된 키워드 인자들을 `\"key : value\"` 형식으로 한 줄씩 출력하는 함수 `print_info`를 작성하세요.  \n",
        "\n",
        "<details>\n",
        "<summary>정답 보기</summary>\n",
        "\n",
        "```python\n",
        "def print_info(**args):\n",
        "    for key, value in args.items():\n",
        "        print(f\"{key} : {value}\")\n",
        "\n",
        "print_info(name=\"Alice\", age=25, city=\"Seoul\")\n",
        "# name : Alice\n",
        "# age : 25\n",
        "# city : Seoul\n",
        "```"
      ]
    },
    {
      "cell_type": "code",
      "execution_count": null,
      "id": "42e2fe62",
      "metadata": {},
      "outputs": [],
      "source": [
        "# 여기에 코드를 작성하세요\n",
        "def print_info():\n",
        "    None\n",
        "\n",
        "print_info(name=\"Alice\", age=25, city=\"Seoul\")"
      ]
    },
    {
      "cell_type": "markdown",
      "id": "5c100f09",
      "metadata": {},
      "source": [
        "## 6. 리스트, 딕셔너리, 튜플\n",
        "\n",
        "### 1) 리스트(List)\n",
        "- 여러 값을 하나의 변수에 순서대로 저장할 수 있는 자료형\n",
        "- 대괄호 `[ ]`로 묶어 표현\n",
        "- 순서(인덱스)가 있어서 **위치로 접근** 가능 (인덱스는 0부터 시작)\n",
        "\n",
        "#### 주요 메서드\n",
        "- `append(값)` : 맨 뒤에 값 추가\n",
        "- `insert(위치, 값)` : 원하는 위치에 값 삽입\n",
        "- `remove(값)` : 해당 값을 찾아 삭제 (첫 번째 것만 삭제)\n",
        "- `pop([위치])` : 특정 위치의 값을 꺼내고 삭제 (인덱스 미지정 시 마지막 원소 제거)\n",
        "- `count(값)` : 리스트 안에서 해당 값의 개수를 반환\n",
        "- `sort()` : 오름차순 정렬 (내림차순 정렬은 sort(reverse=True))\n",
        "\n",
        "#### 인덱싱(Indexing)과 슬라이싱(Slicing)\n",
        "\n",
        "인덱싱 : 특정 위치(인덱스)의 값을 가져오기 → 리스트[위치]\n",
        "\n",
        "슬라이싱 : 리스트의 일부 구간을 잘라내기 → 리스트[시작:끝:간격]"
      ]
    },
    {
      "cell_type": "code",
      "execution_count": null,
      "id": "ff3ee7ab",
      "metadata": {},
      "outputs": [],
      "source": [
        "# 리스트 생성\n",
        "fruits = [\"apple\", \"banana\", \"cherry\", \"apple\", \"banana\", \"grape\"]\n",
        "print(\"처음 리스트:\", fruits)"
      ]
    },
    {
      "cell_type": "code",
      "execution_count": null,
      "id": "cf99a4cc",
      "metadata": {},
      "outputs": [],
      "source": [
        "# 인덱스로 접근 (Indexing)\n",
        "print(\"첫 번째 원소:\", fruits[0])    # apple\n",
        "print(\"마지막 원소:\", fruits[-1])   # grape"
      ]
    },
    {
      "cell_type": "code",
      "execution_count": null,
      "id": "ba4f3fa5",
      "metadata": {},
      "outputs": [],
      "source": [
        "# 슬라이싱 (Slicing)\n",
        "print(\"0~2번 인덱스:\", fruits[0:3])   # ['apple', 'banana', 'cherry']\n",
        "print(\"2번 이후:\", fruits[2:])       # ['cherry', 'apple', 'banana', 'grape']\n",
        "print(\"0~끝까지 2칸 간격:\", fruits[::2])  # ['apple', 'cherry', 'banana']\n"
      ]
    },
    {
      "cell_type": "code",
      "execution_count": null,
      "id": "49b0d5bd",
      "metadata": {},
      "outputs": [],
      "source": [
        "# append : 맨 뒤에 추가\n",
        "fruits.append(\"melon\")\n",
        "print(\"append 후:\", fruits)"
      ]
    },
    {
      "cell_type": "code",
      "execution_count": null,
      "id": "5e228b7b",
      "metadata": {},
      "outputs": [],
      "source": [
        "# insert : 원하는 위치에 삽입\n",
        "fruits.insert(1, \"orange\")\n",
        "print(\"insert 후:\", fruits)"
      ]
    },
    {
      "cell_type": "code",
      "execution_count": null,
      "id": "cc509316",
      "metadata": {},
      "outputs": [],
      "source": [
        "# remove : 특정 값 삭제\n",
        "fruits.remove(\"banana\")  # 첫 번째 \"banana\" 삭제\n",
        "print(\"remove 후:\", fruits)"
      ]
    },
    {
      "cell_type": "code",
      "execution_count": null,
      "id": "dce71309",
      "metadata": {},
      "outputs": [],
      "source": [
        "# pop : 외부로 값 꺼내기\n",
        "item = fruits.pop()   # 마지막 원소 제거\n",
        "print(\"pop으로 꺼낸 값:\", item)\n",
        "print(\"pop 후:\", fruits)"
      ]
    },
    {
      "cell_type": "code",
      "execution_count": null,
      "id": "c1cb7190",
      "metadata": {},
      "outputs": [],
      "source": [
        "# del : 특정 위치 삭제\n",
        "del fruits[0]    # 0번 인덱스 삭제\n",
        "print(\"del 후:\", fruits)"
      ]
    },
    {
      "cell_type": "code",
      "execution_count": null,
      "id": "0a6386ce",
      "metadata": {},
      "outputs": [],
      "source": [
        "# count : 특정 값 개수 세기\n",
        "print(\"apple 개수:\", fruits.count(\"apple\"))"
      ]
    },
    {
      "cell_type": "code",
      "execution_count": null,
      "id": "617d57b5",
      "metadata": {},
      "outputs": [],
      "source": [
        "# sort : 정렬\n",
        "numbers = [5, 2, 9, 1, 7]\n",
        "numbers.sort()\n",
        "print(\"오름차순 정렬:\", numbers)\n",
        "numbers.sort(reverse=True)\n",
        "print(\"내림차순 정렬:\", numbers)"
      ]
    },
    {
      "cell_type": "markdown",
      "id": "dd834a86",
      "metadata": {},
      "source": [
        "### 2) 딕셔너리(Dictionary)\n",
        "- 데이터를 **키(key) : 값(value)** 형태로 저장\n",
        "- 중괄호 `{ }`로 표현\n",
        "- 키를 이용해 값에 접근\n",
        "\n",
        "#### 특징\n",
        "- 리스트는 \"순서\"로 값에 접근, 딕셔너리는 \"이름(키)\"로 값에 접근\n",
        "- 키는 고유해야 하며, 중복 불가\n"
      ]
    },
    {
      "cell_type": "code",
      "execution_count": null,
      "id": "f1bf8fe3",
      "metadata": {},
      "outputs": [],
      "source": [
        "# 딕셔너리 생성\n",
        "student = {\"name\": \"홍길동\", \"age\": 20, \"major\": \"컴퓨터공학\"}\n",
        "print(\"딕셔너리 전체:\", student)\n",
        "\n",
        "# 키로 값 접근\n",
        "print(\"이름:\", student[\"name\"])\n",
        "\n",
        "# 값 수정\n",
        "student[\"age\"] = 21\n",
        "print(\"나이 수정 후:\", student)\n",
        "\n",
        "# 새로운 키-값 추가\n",
        "student[\"grade\"] = \"A\"\n",
        "print(\"새 항목 추가 후:\", student)\n",
        "\n",
        "# 특정 키 삭제\n",
        "del student[\"major\"]\n",
        "print(\"삭제 후:\", student)\n"
      ]
    },
    {
      "cell_type": "markdown",
      "id": "059bf3fe",
      "metadata": {},
      "source": [
        "### 3) 튜플(Tuple)\n",
        "- 리스트와 비슷하지만, **한 번 정의하면 변경 불가능(immutable)**  \n",
        "- 소괄호 `( )`로 묶어 표현  \n",
        "- 값 수정, 추가, 삭제 불가 → 주로 고정된 데이터를 저장할 때 사용  \n",
        "\n",
        "```python\n",
        "# 튜플 생성\n",
        "numbers = (1, 2, 3, 4)\n",
        "\n",
        "# 인덱스로 접근\n",
        "print(\"첫 번째 원소:\", numbers[0])   # 1\n",
        "\n",
        "# 변경 불가능 확인\n",
        "# numbers[0] = 10   # 오류 발생 (튜플은 수정 불가)\n",
        "\n",
        "# 튜플 언패킹\n",
        "a, b, c, d = numbers\n",
        "print(\"언패킹:\", a, b, c, d)\n",
        "```"
      ]
    },
    {
      "cell_type": "markdown",
      "id": "7427bda8",
      "metadata": {},
      "source": [
        "### ✅ 핵심 정리\n",
        "- **리스트** : `[ ]`, 순서가 있고 인덱스로 접근  \n",
        "  → 주요 메서드 : `append`, `insert`, `remove`  \n",
        "\n",
        "- **딕셔너리** : `{ }`, 키-값 쌍으로 저장, 키로 접근  \n",
        "  → 수정, 추가, 삭제 가능  \n",
        "\n",
        "- **튜플** : `( )`, 순서가 있으나 **값 변경 불가**  \n",
        "  → 주로 변경되면 안 되는 데이터 저장  "
      ]
    },
    {
      "cell_type": "markdown",
      "id": "6534a6f1",
      "metadata": {},
      "source": [
        "### ✍️ 리스트 & 딕셔너리 복습 문제"
      ]
    },
    {
      "cell_type": "markdown",
      "id": "b1abd5ae",
      "metadata": {},
      "source": [
        "### 문제 1. 리스트 생성과 인덱싱  \n",
        "다음 리스트를 생성하고, 인덱스를 이용해 값을 출력하시오.  \n",
        "\n",
        "```python\n",
        "fruits = [\"apple\", \"banana\", \"cherry\", \"grape\"]\n",
        "```\n",
        "- 첫 번째 원소 출력  \n",
        "- 마지막 원소 출력  \n",
        "- 2번째 원소(`banana`)를 출력  \n",
        "\n",
        "<details>\n",
        "<summary>정답 보기</summary>\n",
        "\n",
        "```python\n",
        "print(fruits[0])   # apple\n",
        "print(fruits[-1])  # grape\n",
        "print(fruits[1])   # banana\n",
        "```\n",
        "</details>\n"
      ]
    },
    {
      "cell_type": "code",
      "execution_count": null,
      "id": "6a3d46dc",
      "metadata": {},
      "outputs": [],
      "source": [
        "# 여기에 코드를 작성하세요\n",
        "fruits = [\"apple\", \"banana\", \"cherry\", \"grape\"]"
      ]
    },
    {
      "cell_type": "markdown",
      "id": "82353c03",
      "metadata": {},
      "source": [
        "### 문제 2. 리스트 조작\n",
        "다음 단계에 맞게 리스트를 완성하세요.  \n",
        "\n",
        "1. 빈 리스트 `numbers`를 만든다.  \n",
        "2. `append`를 사용하여 10, 20, 30을 차례대로 추가한다.  \n",
        "3. `insert`를 사용하여 1번 위치에 15를 추가한다.  \n",
        "4. `remove`를 사용하여 20을 삭제한다.  \n",
        "5. 최종 결과를 출력한다.  \n",
        "\n",
        "<details>\n",
        "<summary>정답</summary>\n",
        "\n",
        "```python\n",
        "numbers = []\n",
        "\n",
        "numbers.append(10)\n",
        "numbers.append(20)\n",
        "numbers.append(30)\n",
        "numbers.insert(1, 15)\n",
        "numbers.remove(20)\n",
        "\n",
        "print(numbers)   # 실행 예시: [10, 15, 30]\n",
        "```"
      ]
    },
    {
      "cell_type": "code",
      "execution_count": null,
      "id": "13ad5872",
      "metadata": {},
      "outputs": [],
      "source": [
        "# 여기에 코드를 작성하세요\n",
        "numbers = []"
      ]
    },
    {
      "cell_type": "markdown",
      "id": "181c7217",
      "metadata": {},
      "source": [
        "### 문제 3. 딕셔너리 정보 관리\n",
        "학생 정보를 딕셔너리로 만들어보세요.  \n",
        "\n",
        "1. `student`라는 딕셔너리를 만들고, 이름(name), 나이(age), 전공(major)을 저장한다.  \n",
        "2. 나이를 1 증가시킨다.  \n",
        "3. 새로운 키 `grade`를 추가하고 `\"A\"`를 저장한다.  \n",
        "4. 딕셔너리를 출력한다.  \n",
        "\n",
        "<details>\n",
        "<summary> 정답</summary>\n",
        "\n",
        "```python  \n",
        "# 딕셔너리 생성\n",
        "student = {\"name\": \"홍길동\", \"age\": 20, \"major\": \"컴퓨터공학\"}\n",
        "print(\"딕셔너리 전체:\", student)\n",
        "\n",
        "# 키로 값 접근\n",
        "print(\"이름:\", student[\"name\"])\n",
        "\n",
        "# 값 수정\n",
        "student[\"age\"] = 21\n",
        "print(\"나이 수정 후:\", student)\n",
        "\n",
        "# 새로운 키-값 추가\n",
        "student[\"grade\"] = \"A\"\n",
        "print(\"새 항목 추가 후:\", student)\n",
        "\n",
        "# 특정 키 삭제\n",
        "del student[\"major\"]\n",
        "print(\"삭제 후:\", student)\n",
        "```"
      ]
    },
    {
      "cell_type": "code",
      "execution_count": null,
      "id": "cb47a2cc",
      "metadata": {},
      "outputs": [],
      "source": [
        "# 여기에 코드를 작성하세요\n",
        "student ={} # 딕셔너리 생성"
      ]
    },
    {
      "cell_type": "markdown",
      "id": "2cd1b314",
      "metadata": {},
      "source": [
        "### 문제 4. 리스트 슬라이싱  \n",
        "다음 리스트에서 슬라이싱을 이용하여 부분 리스트를 출력하시오.  \n",
        "\n",
        "```python\n",
        "numbers = [10, 20, 30, 40, 50, 60]\n",
        "```\n",
        "\n",
        "- 인덱스 1~3 범위 출력  \n",
        "- 처음부터 4번째 원소까지 출력  \n",
        "- 전체 리스트에서 2칸 간격으로 출력  \n",
        "\n",
        "<details>\n",
        "<summary>정답 보기</summary>\n",
        "\n",
        "```python\n",
        "print(numbers[1:4])   # [20, 30, 40]\n",
        "print(numbers[:4])    # [10, 20, 30, 40]\n",
        "print(numbers[::2])   # [10, 30, 50]\n",
        "```\n",
        "</details>"
      ]
    },
    {
      "cell_type": "code",
      "execution_count": null,
      "id": "86a670e3",
      "metadata": {},
      "outputs": [],
      "source": [
        "# 여기에 코드를 작성하세요\n",
        "numbers = [10, 20, 30, 40, 50, 60]"
      ]
    },
    {
      "cell_type": "markdown",
      "id": "d062ec1c",
      "metadata": {},
      "source": [
        "### 문제 5. 리스트 메서드 활용  \n",
        "다음 리스트에 대해 메서드를 사용하여 조작하시오.  \n",
        "\n",
        "```python\n",
        "fruits = [\"apple\", \"banana\", \"cherry\"]\n",
        "```\n",
        "\n",
        "- `append`를 사용해 `\"grape\"` 추가  \n",
        "- `insert`를 사용해 1번 위치에 `\"orange\"` 삽입  \n",
        "- `remove`를 사용해 `\"banana\"` 삭제  \n",
        "\n",
        "<details>\n",
        "<summary>정답 보기</summary>\n",
        "\n",
        "```python\n",
        "fruits.append(\"grape\")\n",
        "fruits.insert(1, \"orange\")\n",
        "fruits.remove(\"banana\")\n",
        "print(fruits)  # ['apple', 'orange', 'cherry', 'grape']\n",
        "```\n",
        "</details>"
      ]
    },
    {
      "cell_type": "code",
      "execution_count": null,
      "id": "e7180f77",
      "metadata": {},
      "outputs": [],
      "source": [
        "# 여기에 코드를 작성하세요\n",
        "fruits = [\"apple\", \"banana\", \"cherry\"]"
      ]
    },
    {
      "cell_type": "markdown",
      "id": "43ee39a4",
      "metadata": {},
      "source": [
        "### 문제 6. pop과 del  \n",
        "다음 리스트를 이용해 `pop`과 `del`을 연습하시오.  \n",
        "\n",
        "```python\n",
        "items = [1, 2, 3, 4, 5]\n",
        "```\n",
        "\n",
        "- `pop()`을 이용해 마지막 원소를 꺼내 출력  \n",
        "- `del`을 이용해 첫 번째 원소를 삭제  \n",
        "\n",
        "<details>\n",
        "<summary>정답 보기</summary>\n",
        "\n",
        "```python\n",
        "print(items.pop())  # 5\n",
        "del items[0]\n",
        "print(items)        # [2, 3, 4]\n",
        "```\n",
        "</details>"
      ]
    },
    {
      "cell_type": "code",
      "execution_count": null,
      "id": "873ddd97",
      "metadata": {},
      "outputs": [],
      "source": [
        "# 여기에 코드를 작성하세요\n",
        "items = [1, 2, 3, 4, 5]"
      ]
    },
    {
      "cell_type": "markdown",
      "id": "1bbf19e1",
      "metadata": {},
      "source": [
        "### 문제 7. count와 sort  \n",
        "다음 리스트에 대해 `count`와 `sort`를 사용하시오.  \n",
        "\n",
        "```python\n",
        "numbers = [4, 2, 7, 4, 9, 4, 1]\n",
        "```\n",
        "\n",
        "- 숫자 `4`가 몇 개 있는지 출력  \n",
        "- 리스트를 오름차순으로 정렬  \n",
        "- 리스트를 내림차순으로 정렬  \n",
        "\n",
        "<details>\n",
        "<summary>정답 보기</summary>\n",
        "\n",
        "```python\n",
        "print(numbers.count(4))   # 3\n",
        "numbers.sort()\n",
        "print(numbers)            # [1, 2, 4, 4, 4, 7, 9]\n",
        "numbers.sort(reverse=True)\n",
        "print(numbers)            # [9, 7, 4, 4, 4, 2, 1]\n",
        "```\n",
        "</details>\n"
      ]
    },
    {
      "cell_type": "markdown",
      "id": "eeff40b1",
      "metadata": {},
      "source": [
        "## 7. 문자열 다루기\n",
        "\n",
        "### 1) 문자열이란?\n",
        "- 문자들을 나열한 데이터, `\" \"` 또는 `' '` 로 묶어 표현\n",
        "- 예: `\"Hello\"`, `'Python'`\n",
        "- 문자열도 **인덱스(위치 번호)** 로 접근 가능 (0부터 시작)\n",
        "\n",
        "\n",
        "### 2) 인덱싱(Indexing)과 슬라이싱(Slicing)\n",
        "- **인덱싱**: 문자열에서 특정 위치의 문자 1개를 꺼냄\n",
        "- **슬라이싱**: 문자열의 일부분을 잘라서 가져옴\n",
        "\n",
        "```python\n",
        "text = \"Python\"\n",
        "print(text[0])     # 'P' (0번 인덱스)\n",
        "print(text[-1])    # 'n' (뒤에서 첫 글자)\n",
        "print(text[0:4])   # 'Pyth' (0번부터 3번까지)\n",
        "print(text[2:])    # 'thon' (2번부터 끝까지)\n",
        "print(text[:3])    # 'Pyt' (처음부터 2번까지)\n",
        "```"
      ]
    },
    {
      "cell_type": "markdown",
      "id": "e2116053",
      "metadata": {},
      "source": [
        "| 메서드             | 설명                         | 예시                                        |\n",
        "| --------------- | -------------------------- | ----------------------------------------- |\n",
        "| `upper()`       | 대문자로 변환                    | `\"hello\".upper()` → `\"HELLO\"`             |\n",
        "| `lower()`       | 소문자로 변환                    | `\"HELLO\".lower()` → `\"hello\"`             |\n",
        "| `strip()`       | 양쪽 공백 제거                   | `\" hello \".strip()` → `\"hello\"`           |\n",
        "| `replace(a, b)` | 문자열 a를 b로 교체               | `\"banana\".replace(\"a\", \"o\")` → `\"bonono\"` |\n",
        "| `split()`       | 공백(또는 지정한 기준)으로 나눠 리스트로 반환 | `\"a b c\".split()` → `['a','b','c']`       |\n",
        "| `join(list)`    | 리스트를 특정 구분자로 이어 문자열로 반환    | `\"-\".join([\"a\",\"b\",\"c\"])` → `\"a-b-c\"`     |\n"
      ]
    },
    {
      "cell_type": "markdown",
      "id": "15b452c8",
      "metadata": {},
      "source": [
        "4) 문자열 포맷팅\n",
        "- 문자열 안에 변수를 넣는 방법"
      ]
    },
    {
      "cell_type": "code",
      "execution_count": null,
      "id": "574034cf",
      "metadata": {},
      "outputs": [],
      "source": [
        "name = \"철수\"\n",
        "age = 20\n",
        "\n",
        "# f-string (가장 많이 사용)\n",
        "print(f\"안녕하세요, 제 이름은 {name}이고 나이는 {age}살입니다.\")"
      ]
    },
    {
      "cell_type": "code",
      "execution_count": null,
      "id": "4c0da14a",
      "metadata": {},
      "outputs": [],
      "source": [
        "text = \"Hello Python\"\n",
        "\n",
        "print(text[0])       # 첫 글자\n",
        "print(text[0:5])     # 슬라이싱\n",
        "print(text.upper())  # 대문자 변환\n",
        "print(text.replace(\"Python\", \"World\"))"
      ]
    },
    {
      "cell_type": "markdown",
      "id": "18c36866",
      "metadata": {},
      "source": [
        "### ✍️ 복습 문제\n",
        "\n",
        "### 문제 1. 인덱싱과 슬라이싱\n",
        "문자열 `word = \"Programming\"`에서  \n",
        "1. 첫 글자와 마지막 글자를 출력하세요.  \n",
        "2. 처음 5글자를 잘라서 출력하세요.  "
      ]
    },
    {
      "cell_type": "code",
      "execution_count": null,
      "id": "0c5c5c40",
      "metadata": {},
      "outputs": [],
      "source": []
    },
    {
      "cell_type": "markdown",
      "id": "9a972680",
      "metadata": {},
      "source": [
        "### 문제 2. 문자열 메서드 활용\n",
        "문자열 `text = \"   I love Python!   \"`이 있을 때,  \n",
        "1. 앞뒤 공백을 제거하세요.  \n",
        "2. 모두 소문자로 바꾸세요.  \n",
        "3. `\"Python\"`을 `\"Java\"`로 바꾸세요.  \n",
        "\n",
        "<details> <summary> 정답 </summary>\n",
        "\n",
        "```python\n",
        "text = \"   I love Python!   \"\n",
        "\n",
        "print(text.strip())\n",
        "print(text.lower())\n",
        "print(text.replace(\"Python\", \"Java\"))\n",
        "```"
      ]
    },
    {
      "cell_type": "code",
      "execution_count": null,
      "id": "18b08090",
      "metadata": {},
      "outputs": [],
      "source": []
    },
    {
      "cell_type": "markdown",
      "id": "e80b8d30",
      "metadata": {},
      "source": [
        "### 문제 3. 문자열 포맷팅\n",
        "이름을 변수 `name`, 나이를 변수 `age`에 저장하고,  \n",
        "아래와 같이 출력되도록 f-string을 사용하세요.  \n",
        "\n",
        "출력 예시:  \n",
        "`안녕하세요, 제 이름은 영희이고 나이는 22살입니다.`\n",
        "\n",
        "\n",
        "<details> <summary> 정답 </summary>\n",
        "\n",
        "```python\n",
        "name = \"영희\"\n",
        "age = 22\n",
        "\n",
        "print(f\"안녕하세요, 제 이름은 {name}이고 나이는 {age}살입니다.\")\n",
        "```"
      ]
    },
    {
      "cell_type": "code",
      "execution_count": null,
      "id": "2a1cef43",
      "metadata": {},
      "outputs": [],
      "source": [
        "# 여기에 코드를 작성하세요\n"
      ]
    },
    {
      "cell_type": "markdown",
      "id": "fc41f576",
      "metadata": {},
      "source": [
        "### 문제 4. 리스트 메서드 활용\n",
        "다음 코드를 실행했을 때 최종적으로 출력되는 리스트를 쓰세요.\n",
        "\n",
        "```python\n",
        "nums = [1, 3, 5]\n",
        "nums.append(7)\n",
        "nums.insert(1, 2)\n",
        "nums.remove(5)\n",
        "x = nums.pop()\n",
        "print(nums, x)\n",
        "```\n",
        "<details> <summary> 정답 </summary>\n",
        "\n",
        "```python \n",
        "# nums = [1, 2, 3] , x = 7\n",
        "[1, 2, 3] 7\n",
        "```\n",
        "</details>"
      ]
    },
    {
      "cell_type": "code",
      "execution_count": null,
      "id": "82763cde",
      "metadata": {},
      "outputs": [],
      "source": [
        "# 여기에 코드를 작성하세요\n"
      ]
    },
    {
      "cell_type": "markdown",
      "id": "b73b3f2b",
      "metadata": {},
      "source": [
        "### 문제 5. 조건문 응용\n",
        "사용자로부터 정수를 입력받아 3의 배수이면서 5의 배수이면 \"FizzBuzz\",\n",
        "3의 배수이면 \"Fizz\", 5의 배수이면 \"Buzz\", 그 외에는 입력값을 출력하는 프로그램을 작성하세요.\n",
        "\n",
        "<details> <summary> 정답 </summary>\n",
        "\n",
        "```python \n",
        "n = int(input())\n",
        "\n",
        "if n % 3 == 0 and n % 5 == 0:\n",
        "    print(\"FizzBuzz\")\n",
        "elif n % 3 == 0:\n",
        "    print(\"Fizz\")\n",
        "elif n % 5 == 0:\n",
        "    print(\"Buzz\")\n",
        "else:\n",
        "    print(n)\n",
        "```\n",
        "</details>"
      ]
    },
    {
      "cell_type": "code",
      "execution_count": null,
      "id": "14b3eb5e",
      "metadata": {},
      "outputs": [],
      "source": [
        "# 여기에 코드를 작성하세요\n"
      ]
    },
    {
      "cell_type": "markdown",
      "id": "e1c2a1d0",
      "metadata": {},
      "source": [
        "### 문제 6. 리스트 내포\n",
        "1부터 10까지의 숫자 중 짝수의 제곱을 리스트로 생성하세요.\n",
        "\n",
        "<details> <summary> 정답 </summary>\n",
        "\n",
        "```python \n",
        "squares = [x**2 for x in range(1, 11) if x % 2 == 0]\n",
        "print(squares)\n",
        "```\n",
        "</details>\n"
      ]
    },
    {
      "cell_type": "code",
      "execution_count": null,
      "id": "7be3f7a0",
      "metadata": {},
      "outputs": [],
      "source": [
        "# 여기에 코드를 작성하세요\n"
      ]
    },
    {
      "cell_type": "markdown",
      "id": "895fac44",
      "metadata": {},
      "source": [
        "### 문제 7. 딕셔너리 기초\n",
        "다음 딕셔너리에서 \"math\" 점수를 5점 올리고, \"science\" 항목을 삭제하세요.\n",
        "\n",
        "```python \n",
        "scores = {\"math\": 80, \"english\": 75, \"science\": 92}\n",
        "```\n",
        "\n",
        "<details> <summary> 정답 </summary>\n",
        "\n",
        "```python \n",
        "scores[\"math\"] += 5\n",
        "del scores[\"science\"]\n",
        "print(scores)\n",
        "```\n",
        "</details>\n"
      ]
    },
    {
      "cell_type": "code",
      "execution_count": null,
      "id": "159f8465",
      "metadata": {},
      "outputs": [],
      "source": [
        "# 여기에 코드를 작성하세요\n"
      ]
    },
    {
      "cell_type": "markdown",
      "id": "73cb8ac0",
      "metadata": {},
      "source": [
        "### 문제 8. 함수 작성\n",
        "정수를 인자로 받아 절댓값을 반환하는 함수를 직접 작성하세요. (abs 내장 함수 사용 금지)\n",
        "\n",
        "<details> <summary> 정답 </summary>\n",
        "\n",
        "```python \n",
        "def my_abs(x):\n",
        "    if x < 0:\n",
        "        return -x\n",
        "    return x\n",
        "\n",
        "print(my_abs(-5))  # 5\n",
        "```\n",
        "</details>\n"
      ]
    },
    {
      "cell_type": "code",
      "execution_count": null,
      "id": "88e834da",
      "metadata": {},
      "outputs": [],
      "source": [
        "# 여기에 코드를 작성하세요\n"
      ]
    },
    {
      "cell_type": "markdown",
      "id": "43f8d017",
      "metadata": {},
      "source": [
        "### 문제 9. 리스트와 조건문\n",
        "다음 리스트에서 양수만 새로운 리스트로 담으세요.\n",
        "\n",
        "```python \n",
        "nums = [-5, 3, 0, -2, 7, 8, -1]\n",
        "```\n",
        "<details> <summary> 정답 </summary>\n",
        "\n",
        "```python \n",
        "positive = [x for x in nums if x > 0]\n",
        "print(positive)\n",
        "```\n",
        "</details>\n"
      ]
    },
    {
      "cell_type": "code",
      "execution_count": null,
      "id": "3f748d72",
      "metadata": {},
      "outputs": [],
      "source": [
        "# 여기에 코드를 작성하세요\n"
      ]
    },
    {
      "cell_type": "markdown",
      "id": "67494bf3",
      "metadata": {},
      "source": [
        "### 문제 10. 함수와 기본값\n",
        "함수를 작성하세요.\n",
        "\n",
        "이름: greet\n",
        "\n",
        "매개변수: name, msg=\"안녕하세요\"\n",
        "\n",
        "출력: \"안녕하세요, name!\"\n",
        "\n",
        "<details> <summary> 정답 </summary>\n",
        "\n",
        "```python \n",
        "def greet(name, msg=\"안녕하세요\"):\n",
        "    print(f\"{msg}, {name}!\")\n",
        "\n",
        "greet(\"철수\")\n",
        "greet(\"영희\", \"반가워요\")\n",
        "```\n",
        "</details>\n"
      ]
    },
    {
      "cell_type": "code",
      "execution_count": null,
      "id": "c5e47abe",
      "metadata": {},
      "outputs": [],
      "source": [
        "# 여기에 코드를 작성하세요\n"
      ]
    },
    {
      "cell_type": "markdown",
      "id": "68ae1df2",
      "metadata": {},
      "source": [
        "### 문제 11. 리스트와 pop\n",
        "아래 코드의 실행 결과를 쓰세요.\n",
        "\n",
        "```python \n",
        "nums = [10, 20, 30, 40]\n",
        "a = nums.pop()\n",
        "b = nums.pop(0)\n",
        "print(nums, a, b)\n",
        "```\n",
        "<details> <summary> 정답 </summary>\n",
        "\n",
        "```python \n",
        "# nums = [20, 30], a = 40, b = 10\n",
        "[20, 30] 40 10\n",
        "```\n",
        "</details>\n"
      ]
    },
    {
      "cell_type": "code",
      "execution_count": null,
      "id": "f614561d",
      "metadata": {},
      "outputs": [],
      "source": [
        "# 여기에 코드를 작성하세요\n"
      ]
    },
    {
      "cell_type": "markdown",
      "id": "bfc61f14",
      "metadata": {},
      "source": [
        "### 문제 12. 조건문과 리스트\n",
        "사용자로부터 점수(0~100)를 입력받아\n",
        "90 이상: \"A\"\n",
        "80 이상: \"B\"\n",
        "70 이상: \"C\"\n",
        "그 외: \"F\"\n",
        "를 출력하는 프로그램을 작성하세요.\n",
        "\n",
        "<details> <summary> 정답 </summary>\n",
        "\n",
        "```python \n",
        "score = int(input())\n",
        "\n",
        "if score >= 90:\n",
        "    print(\"A\")\n",
        "elif score >= 80:\n",
        "    print(\"B\")\n",
        "elif score >= 70:\n",
        "    print(\"C\")\n",
        "else:\n",
        "    print(\"F\")\n",
        "```\n",
        "</details>\n"
      ]
    },
    {
      "cell_type": "code",
      "execution_count": null,
      "id": "f82edb9e",
      "metadata": {},
      "outputs": [],
      "source": [
        "# 여기에 코드를 작성하세요\n"
      ]
    },
    {
      "cell_type": "markdown",
      "id": "0f5fab64",
      "metadata": {},
      "source": [
        "### 문제 13. 리스트 중첩\n",
        "다음 2차원 리스트에서 모든 원소를 하나의 리스트로 합치세요.\n",
        "\n",
        "```python \n",
        "matrix = [[1, 2], [3, 4], [5, 6]]\n",
        "```\n",
        "<details> <summary> 정답 </summary>\n",
        "\n",
        "```python \n",
        "flat = [x for row in matrix for x in row]\n",
        "print(flat)\n",
        "```\n",
        "</details>\n"
      ]
    },
    {
      "cell_type": "code",
      "execution_count": null,
      "id": "330c5d4f",
      "metadata": {},
      "outputs": [],
      "source": [
        "# 여기에 코드를 작성하세요\n"
      ]
    },
    {
      "cell_type": "markdown",
      "id": "03a09615",
      "metadata": {},
      "source": [
        "### 문제 14. 딕셔너리 생성\n",
        "리스트 두 개를 이용하여 딕셔너리를 만드세요.\n",
        "\n",
        "```python \n",
        "keys = [\"name\", \"age\", \"city\"]\n",
        "values = [\"Tom\", 20, \"Seoul\"]\n",
        "```\n",
        "\n",
        "<details> <summary> 정답 </summary>\n",
        "\n",
        "```python \n",
        "person = dict(zip(keys, values))\n",
        "print(person)\n",
        "```\n",
        "</details>\n"
      ]
    },
    {
      "cell_type": "code",
      "execution_count": null,
      "id": "e72f034a",
      "metadata": {},
      "outputs": [],
      "source": [
        "# 여기에 코드를 작성하세요\n"
      ]
    },
    {
      "cell_type": "markdown",
      "id": "b77eb328",
      "metadata": {},
      "source": [
        "### 문제 15. 람다와 정렬\n",
        "다음 리스트를 문자열 길이에 따라 정렬하세요.\n",
        "\n",
        "```python \n",
        "words = [\"apple\", \"kiwi\", \"banana\", \"cherry\"]\n",
        "```\n",
        "<details> <summary> 정답 </summary>\n",
        " \n",
        "```python \n",
        "words.sort(key=lambda x: len(x))\n",
        "print(words)\n",
        "```\n",
        "</details>"
      ]
    },
    {
      "cell_type": "code",
      "execution_count": null,
      "id": "49935439",
      "metadata": {},
      "outputs": [],
      "source": [
        "words = [\"apple\", \"kiwi\", \"banana\", \"cherry\"]"
      ]
    },
    {
      "cell_type": "markdown",
      "id": "9b35ca09",
      "metadata": {},
      "source": [
        "### 문제 16. 반복문과 합계\n",
        "1부터 100까지 홀수의 합을 구하는 프로그램을 작성하세요.\n",
        "\n",
        "<details> <summary> 정답 </summary>\n",
        "```python  \n",
        "total = 0\n",
        "for i in range(1, 101, 2):\n",
        "    total += i\n",
        "print(total)\n",
        "```\n",
        "</details>\n"
      ]
    },
    {
      "cell_type": "code",
      "execution_count": null,
      "id": "d4540894",
      "metadata": {},
      "outputs": [],
      "source": [
        "# 여기에 코드를 작성하세요\n"
      ]
    },
    {
      "cell_type": "markdown",
      "id": "5980ea09",
      "metadata": {},
      "source": [
        "### 문제 17. 람다 함수\n",
        "리스트 [1, 2, 3, 4, 5]에서 각 원소를 제곱한 새로운 리스트를 map과 lambda를 사용하여 만드세요.\n",
        "\n",
        "<details> <summary> 정답 </summary>\n",
        "\n",
        "```python \n",
        "nums = [1, 2, 3, 4, 5]\n",
        "squares = list(map(lambda x: x**2, nums))\n",
        "print(squares)\n",
        "```\n",
        "</details>"
      ]
    },
    {
      "cell_type": "code",
      "execution_count": null,
      "id": "c6614586",
      "metadata": {},
      "outputs": [],
      "source": [
        "# 여기에 코드를 작성하세요\n"
      ]
    },
    {
      "cell_type": "markdown",
      "id": "04f9011d",
      "metadata": {},
      "source": [
        "### 문제 18. 딕셔너리 반복문\n",
        "다음 딕셔너리를 이용해 \"이름: 점수\" 형식으로 출력하세요.\n",
        "\n",
        "```python \n",
        "scores = {\"Kim\": 90, \"Lee\": 85, \"Park\": 95}\n",
        "```\n",
        "\n",
        "<details> <summary> 정답 </summary>\n",
        "\n",
        "```python\n",
        "for name, score in scores.items():\n",
        "    print(f\"{name}: {score}\")\n",
        "```\n",
        "</details>\n"
      ]
    },
    {
      "cell_type": "code",
      "execution_count": null,
      "id": "473ded42",
      "metadata": {},
      "outputs": [],
      "source": [
        "# 여기에 코드를 작성하세요\n"
      ]
    }
  ],
  "metadata": {
    "encoded_email": [
      "cmxhYWxzdG4xNTA0QG5hdmVyLmNvbQ=="
    ],
    "filename": "MS0yX+2MjOydtOyNrOq4sOy0iOusuOuylS5pcHluYg==",
    "inserted_date": [
      "2025-09-19"
    ],
    "kernelspec": {
      "display_name": "base",
      "language": "python",
      "name": "python3"
    },
    "language_info": {
      "codemirror_mode": {
        "name": "ipython",
        "version": 3
      },
      "file_extension": ".py",
      "mimetype": "text/x-python",
      "name": "python",
      "nbconvert_exporter": "python",
      "pygments_lexer": "ipython3",
      "version": "3.11.7"
    }
  },
  "nbformat": 4,
  "nbformat_minor": 5
}
