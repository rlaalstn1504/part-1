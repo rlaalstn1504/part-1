{
 "cells": [
  {
   "cell_type": "markdown",
   "id": "0e850b46",
   "metadata": {},
   "source": [
    "# 데이터 사이언스 Toolkit"
   ]
  },
  {
   "cell_type": "markdown",
   "id": "8f8904b4",
   "metadata": {},
   "source": [
    "### 수업 목표\n",
    "- 데이터 과학의 핵심 라이브러리 생태계(Numpy, Pandas, Matplotlib)를 **큰 그림**에서 이해한다.\n",
    "- Numpy로 수치 데이터를 **효율적으로** 생성, 조작, 연산할 수 있다.\n",
    "- 선형대수학의 기초 개념(벡터, 행렬, 연산, 전치/역행렬)을 **넘파이 코드로 구현**할 수 있다.\n",
    "\n",
    "### 왜 Numpy, Pandas, Matplotlib 인가\n",
    "- Numpy: 파이썬에서 **고성능 수치 연산**을 담당하는 **배열 엔진**. ML/DL의 전처리와 수치 연산의 기반.\n",
    "- Pandas: **표 형식 데이터프레임**으로 정리·가공·집계에 최적. 실무 데이터 핸들링의 표준.\n",
    "- Matplotlib: 분석 결과를 **시각화**하여 패턴을 발견하고 의사결정을 돕는다."
   ]
  },
  {
   "cell_type": "markdown",
   "id": "986ac681",
   "metadata": {},
   "source": [
    "![image.png](image/numpy.png)\n",
    "### Numpy의 특징\n",
    "\n",
    "- **빠른 배열 연산**  \n",
    "  - 파이썬의 기본 리스트보다 훨씬 빠른 속도로 벡터와 행렬 연산을 수행한다.  \n",
    "  - 내부적으로 C 언어로 구현되어 있어 반복문을 직접 작성하지 않아도 된다.  \n",
    "\n",
    "- **다양한 수학 함수 제공**  \n",
    "  - 합계, 평균, 표준편차 같은 기본 통계부터, 선형대수(행렬 곱, 역행렬 등), 푸리에 변환까지 지원한다.  \n",
    "\n",
    "- **브로드캐스팅(Broadcasting)**  \n",
    "  - 크기가 다른 배열끼리도 규칙에 따라 자동으로 맞춰 연산할 수 있다.  \n",
    "  - 예: 행렬 전체에 상수 더하기, 벡터를 행렬 각 행에 더하기. \n",
    "  \n",
    "  - ![image-2.png](image/Broadcasting.png)  \n",
    "  출처 : http://www.astroml.org/book_figures/appendix/fig_broadcast_visual.html\n",
    "\n",
    "\n",
    "- **머신러닝/딥러닝의 기반**  \n",
    "  - 텐서플로우(TensorFlow), 파이토치(PyTorch) 같은 딥러닝 프레임워크도 내부 연산을 Numpy와 유사한 구조로 수행한다.  \n",
    "  - 즉, **Numpy 배열을 자유자재로 다룰 수 있어야 ML/DL의 연산 원리를 이해할 수 있다.**"
   ]
  },
  {
   "cell_type": "markdown",
   "id": "2a23b039",
   "metadata": {},
   "source": [
    "## 0. 선형대수학 기초\n",
    "\n",
    "### 0.1 벡터(Vector)\n",
    "- 벡터는 여러 숫자를 **순서대로 나열한 것**  \n",
    "- 흔히 화살표(방향과 크기) 또는 좌표처럼 생각할 수 있다.  \n",
    "- 벡터는 \"차원(dimension)\"의 개수에 따라 구분된다.  \n",
    "\n",
    "\n",
    "#### 1차원 벡터 (1D Vector)\n",
    "- 숫자 1개만 가지는 벡터\n",
    "- 단순히 **실수축 위의 한 점**  \n",
    "- $\\vec{v} = \\begin{bmatrix} 3 \\end{bmatrix}$ \n",
    "- ---●--------→ x\n",
    "\n",
    "\n",
    "#### 2차원 벡터 (2D Vector)\n",
    "- 숫자 2개 (x, y)  \n",
    "- 평면 위의 점 혹은 \"화살표\"  \n",
    "- $\\vec{v} = \\begin{bmatrix} 2 \\\\ 3 \\end{bmatrix}$\n",
    "```yaml\n",
    "y ↑\n",
    "|\n",
    "3 | ● (2,3)\n",
    "|\n",
    "|—2—————→ x\n",
    "```\n",
    "\n",
    "#### 3차원 벡터 (3D Vector)\n",
    "- 숫자 3개 (x, y, z)  \n",
    "- 공간(입체) 속의 한 점  \n",
    "- $\\vec{v} = \\begin{bmatrix} 1 \\\\ 2 \\\\ 3 \\end{bmatrix}$\n",
    "- \n",
    "- 좌표 (1,2,3) 은 \"x축으로 1, y축으로 2, z축으로 3 이동한 점\"을 의미한다.  "
   ]
  },
  {
   "cell_type": "markdown",
   "id": "2e11fe43",
   "metadata": {},
   "source": [
    "####  벡터의 연산\n",
    "- 덧셈: \n",
    "$$\n",
    "\\begin{bmatrix} 1 \\\\ 2 \\end{bmatrix} +\n",
    "\\begin{bmatrix} 3 \\\\ 4 \\end{bmatrix} =\n",
    "\\begin{bmatrix} 4 \\\\ 6 \\end{bmatrix}\n",
    "$$\n",
    "\n",
    "- 스칼라 곱: \n",
    "$$\n",
    "2 \\times \\begin{bmatrix} 1 \\\\ 2 \\end{bmatrix} =\n",
    "\\begin{bmatrix} 2 \\\\ 4 \\end{bmatrix}\n",
    "$$"
   ]
  },
  {
   "cell_type": "markdown",
   "id": "8a7f8e9d",
   "metadata": {},
   "source": [
    "\n",
    "### 0.2 행렬(Matrix)\n",
    "\n",
    "- 행렬은 숫자를 **직사각형 모양**으로 배열한 것  \n",
    "- 여러 벡터를 모아 만든 \"데이터 표\"  \n",
    "\n",
    "예:  \n",
    "$$\n",
    "A =\n",
    "\\begin{bmatrix}\n",
    "1 & 2 \\\\\n",
    "3 & 4 \\\\\n",
    "5 & 6\n",
    "\\end{bmatrix}\n",
    "$$\n",
    "\n",
    "- 크기: 3행 2열 (3×2 행렬)\n",
    "#### 💡 행렬의 의미\n",
    "- **데이터 표**: 행 = 샘플, 열 = 변수  \n",
    "- **벡터의 집합**: 여러 벡터(2개 이상)의 모음\n",
    "- **선형 변환**: 벡터를 입력하면, 특정 규칙(행렬 곱)에 따라 새로운 벡터로 바꿔주는 과정\n",
    "→ 마치 벡터를 \"회전, 확대/축소, 반사\"시키는 것처럼 생각할 수 있다."
   ]
  },
  {
   "cell_type": "markdown",
   "id": "465e69c3",
   "metadata": {},
   "source": [
    "\n",
    "### 0.3 행렬 연산\n",
    "\n",
    "1. **덧셈/뺄셈**  \n",
    "   - 같은 크기의 행렬끼리만 가능  \n",
    "   $$\n",
    "   \\begin{bmatrix} 1 & 2 \\\\ 3 & 4 \\end{bmatrix} +\n",
    "   \\begin{bmatrix} 5 & 6 \\\\ 7 & 8 \\end{bmatrix} =\n",
    "   \\begin{bmatrix} 6 & 8 \\\\ 10 & 12 \\end{bmatrix}\n",
    "   $$\n",
    "\n",
    "2. **스칼라 곱**  \n",
    "   - 모든 원소에 같은 수 곱하기  \n",
    "   $$\n",
    "   2 \\times \\begin{bmatrix} 1 & 2 \\\\ 3 & 4 \\end{bmatrix} =\n",
    "   \\begin{bmatrix} 2 & 4 \\\\ 6 & 8 \\end{bmatrix}\n",
    "   $$\n",
    "\n",
    "3. **행렬 곱**  \n",
    "   - \"앞 행렬의 행 × 뒤 행렬의 열\"  \n",
    "   - (m×n) × (n×p) = (m×p)  \n",
    "   $$\n",
    "   \\begin{bmatrix} 1 & 2 \\\\ 3 & 4 \\end{bmatrix}\n",
    "   \\times\n",
    "   \\begin{bmatrix} 5 \\\\ 6 \\end{bmatrix}\n",
    "   =\n",
    "   \\begin{bmatrix} 17 \\\\ 39 \\end{bmatrix}\n",
    "   $$\n"
   ]
  },
  {
   "cell_type": "markdown",
   "id": "a087ef41",
   "metadata": {},
   "source": [
    "### 0.4 전치/단위/역행렬\n",
    "\n",
    "- **전치행렬 (Transpose)**: 행과 열을 뒤바꾼 행렬  \n",
    "  $$\n",
    "  \\begin{bmatrix} 1 & 2 & 3 \\\\ 4 & 5 & 6 \\end{bmatrix}^T =\n",
    "  \\begin{bmatrix} 1 & 4 \\\\ 2 & 5 \\\\ 3 & 6 \\end{bmatrix}\n",
    "  $$\n",
    "\n",
    "- **단위행렬 (Identity)**: 대각선이 1, 나머지는 0  \n",
    "  $$\n",
    "  I = \\begin{bmatrix} 1 & 0 \\\\ 0 & 1 \\end{bmatrix}\n",
    "  $$\n",
    "\n",
    "- **역행렬 (Inverse)**: A와 곱했을 때 단위행렬이 되는 행렬  \n",
    "  $$\n",
    "  A \\times A^{-1} = I\n",
    "  $$"
   ]
  },
  {
   "cell_type": "markdown",
   "id": "81c8ef06",
   "metadata": {},
   "source": [
    "### 0.5 선형시스템 (Ax = b)\n",
    "\n",
    "- 연립방정식을 행렬과 벡터로 표현할 수 있다.\n",
    "\n",
    "예:  \n",
    "$$\n",
    "2x + y = 4 \\\\\n",
    "x - y = 1\n",
    "$$\n",
    "\n",
    "- → 행렬 표현: \n",
    "\n",
    "    $$\n",
    "    \\begin{bmatrix}\n",
    "    2 & 1 \\\\\n",
    "    1 & -1\n",
    "    \\end{bmatrix}\n",
    "    \\begin{bmatrix}\n",
    "    x \\\\\n",
    "    y\n",
    "    \\end{bmatrix}\n",
    "    =\n",
    "    \\begin{bmatrix}\n",
    "    4 \\\\\n",
    "    1\n",
    "    \\end{bmatrix}\n",
    "    $$\n",
    "\n",
    "👉 연립방정식을 간단히 \\(Ax = b\\) 꼴로 표현할 수 있다.\n",
    "\n",
    "\n",
    "\n",
    "### 체크포인트\n",
    "- **벡터**는 숫자의 나열이며, 1D/2D/3D로 구분된다.  \n",
    "- **행렬**은 여러 벡터를 모아둔 2차원 구조다.  \n",
    "- 행렬 곱은 \"행 × 열\" 규칙으로 계산한다.  \n",
    "- 전치, 단위, 역행렬은 행렬의 기본 개념이다.  \n",
    "- 연립방정식은 \\(Ax = b\\) 로 표현할 수 있다.\n"
   ]
  },
  {
   "cell_type": "markdown",
   "id": "f1131aa8",
   "metadata": {},
   "source": [
    "## 1. Numpy 기초\n",
    "\n",
    "#### 배열이란?\n",
    "- **배열(array)** 은 같은 종류의 데이터를 일정한 모양(행렬 형태)으로 모아놓은 것\n",
    "- 파이썬 기본 리스트(list)와 달리, 배열은 **모든 원소가 같은 자료형**을 가지며 **고속 연산**이 가능\n",
    "- 데이터 과학에서 다루는 데이터(표, 이미지, 시계열)는 대부분 \"숫자들의 모음\" → 배열로 표현하면 효율적\n",
    "\n",
    "예시:\n",
    "- 1차원 배열: `[1, 2, 3, 4]` (벡터)\n",
    "- 2차원 배열: `[[1, 2], [3, 4]]` (행렬)\n",
    "- 3차원 배열: 이미지(높이 × 너비 × 색상 채널)\n",
    "\n",
    "#### 배열 생성 방법\n",
    "\n",
    "- `np.array(리스트)` : 파이썬 리스트를 배열로 변환\n",
    "- `np.arange(시작, 끝, 간격)` : 특정 범위의 정수를 순차적으로 생성\n",
    "- `np.zeros(크기)` : 0으로 채운 배열 생성\n",
    "- `np.ones(크기)` : 1로 채운 배열 생성\n",
    "- `np.linspace(시작, 끝, 개수)` : 지정한 구간을 일정 간격으로 나눈 값 생성"
   ]
  },
  {
   "cell_type": "markdown",
   "id": "95e3c931",
   "metadata": {},
   "source": [
    "#### 자료형 (dtype)\n",
    "\n",
    "- 배열의 모든 원소는 **같은 자료형(dtype)** 을 가짐\n",
    "- 기본적으로는 입력 데이터에 따라 자동 결정되지만, 직접 지정 가능\n",
    "- 주요 자료형: int32, float64, bool, str\n",
    "- `dtype` 로 자료형 지정 및 확인 가능\n",
    "\n",
    "👉 여기서 `int32`의 **32**는 \"32비트 정수\"라는 뜻  \n",
    "- **비트(bit)** = 컴퓨터가 정보를 저장하는 최소 단위 (0 또는 1)  \n",
    "- **32비트 정수**는 32개의 0/1로 수를 표현 → 약 ±21억까지 표현 가능  \n",
    "- **64비트 정수**는 더 많은 비트를 쓰기 때문에 훨씬 더 큰 수까지 표현 가능  \n",
    "- 마찬가지로 `float32`, `float64`는 소수점 실수를 32비트 / 64비트로 저장  \n",
    "  → 64비트는 더 정밀한 소수 계산 가능  \n",
    "\n",
    "즉, 숫자가 커지거나 정밀도가 필요할수록 더 많은 비트를 사용하는 자료형을 선택한다."
   ]
  },
  {
   "cell_type": "code",
   "execution_count": null,
   "id": "16b41be6",
   "metadata": {},
   "outputs": [],
   "source": [
    "import numpy as np\n",
    "\n",
    "a = np.array([1, 2, 3])                 # 기본 배열\n",
    "b = np.arange(0, 10, 2)                 # 0,2,4,6,8\n",
    "z = np.zeros((2, 3), dtype=np.float32)  # 2x3 영행렬\n",
    "o = np.ones((3, 1))                     # 3x1 일행렬\n",
    "l = np.linspace(0, 1, 5)                # 0~1 구간 5등분\n",
    "\n",
    "print(a.dtype, z.shape, l)"
   ]
  },
  {
   "cell_type": "markdown",
   "id": "5376f61e",
   "metadata": {},
   "source": [
    "## 2. 인덱싱(Indexing)과 슬라이싱(Slicing)\n",
    "\n",
    "#### 배열에서 값 꺼내기 (Indexing)\n",
    "- 배열의 특정 위치에 접근할 때는 **인덱스(index)** 사용\n",
    "- 파이썬과 Numpy는 **0부터 시작**\n",
    "- 음수 인덱스는 뒤에서부터 세기"
   ]
  },
  {
   "cell_type": "code",
   "execution_count": null,
   "id": "1c442ded",
   "metadata": {},
   "outputs": [],
   "source": [
    "arr = np.array([10, 20, 30, 40, 50])\n",
    "\n",
    "print(arr[0])   # 첫 번째 원소 → 10\n",
    "print(arr[-1])  # 마지막 원소 → 50"
   ]
  },
  {
   "cell_type": "markdown",
   "id": "16cff9b4",
   "metadata": {},
   "source": [
    "#### 배열의 일부 꺼내기 (Slicing)\n",
    "\n",
    "- 시작:끝 형태로 잘라내기 (끝은 포함되지 않음)\n",
    "- 시작:끝:간격 으로 일정 간격으로 추출 가능"
   ]
  },
  {
   "cell_type": "code",
   "execution_count": null,
   "id": "97d4510c",
   "metadata": {},
   "outputs": [],
   "source": [
    "arr = np.array([0, 1, 2, 3, 4, 5, 6, 7, 8, 9])\n",
    "\n",
    "print(arr[2:5])    # 인덱스 2~4 → [2 3 4]\n",
    "print(arr[:4])     # 처음~3까지 → [0 1 2 3]\n",
    "print(arr[5:])     # 5부터 끝까지 → [5 6 7 8 9]\n",
    "print(arr[::2])    # 2칸씩 건너뛰기 → [0 2 4 6 8]"
   ]
  },
  {
   "cell_type": "markdown",
   "id": "74d27631",
   "metadata": {},
   "source": [
    "#### 2차원 배열에서 인덱싱/슬라이싱\n",
    "- [행, 열] 형태로 접근\n",
    "- 슬라이싱은 각각의 차원에 적용 가능"
   ]
  },
  {
   "cell_type": "code",
   "execution_count": null,
   "id": "828bf7ca",
   "metadata": {},
   "outputs": [],
   "source": [
    "mat = np.array([[1, 2, 3],\n",
    "                [4, 5, 6],\n",
    "                [7, 8, 9]])\n",
    "\n",
    "print(mat[0, 0])     # (0행, 0열) → 1\n",
    "print(mat[1, :])     # 1행 전체 → [4 5 6]\n",
    "print(mat[:, 2])     # 모든 행의 2열 → [3 6 9]\n",
    "print(mat[0:2, 1:3]) # 부분 배열(0~1행, 1~2열)"
   ]
  },
  {
   "cell_type": "markdown",
   "id": "09aef08b",
   "metadata": {},
   "source": [
    "### 연습 문제\n",
    "\n",
    "### 문제 1\n",
    "1부터 10까지의 정수를 원소로 가지는 배열을 만들고,  \n",
    "- 첫 번째 원소  \n",
    "- 마지막 원소  \n",
    "- 인덱스 3~6 구간 (즉, 4번째부터 7번째까지)  \n",
    "\n",
    "를 각각 출력하세요.\n",
    "\n"
   ]
  },
  {
   "cell_type": "code",
   "execution_count": null,
   "id": "2699d60c",
   "metadata": {},
   "outputs": [],
   "source": [
    "# 여기에 문제 1 작성하세요\n"
   ]
  },
  {
   "cell_type": "markdown",
   "id": "e9973a2a",
   "metadata": {},
   "source": [
    "### 문제 2\n",
    "다음 배열이 있을 때  \n",
    "```python\n",
    "arr = np.array([[10, 20, 30],\n",
    "                [40, 50, 60],\n",
    "                [70, 80, 90]])\n",
    "```\n",
    "- 2행 전체를 출력하세요.\n",
    "- 1열(세로 방향)을 출력하세요.\n",
    "- 부분 배열 [[20, 30], [50, 60]] 을 슬라이싱으로 꺼내보세요."
   ]
  },
  {
   "cell_type": "code",
   "execution_count": null,
   "id": "fc88a99f-e5db-4893-bbb4-205b14219f1e",
   "metadata": {},
   "outputs": [],
   "source": [
    "arr = np.array([[10, 20, 30],\n",
    "                [40, 50, 60],\n",
    "                [70, 80, 90]])\n"
   ]
  },
  {
   "cell_type": "markdown",
   "id": "44f5e655",
   "metadata": {},
   "source": [
    "## 3. 불린 인덱싱\n",
    "**불린 인덱싱이란?**\n",
    "- 배열에서 **조건을 만족하는 원소만** 골라내는 방법\n",
    "- 조건식을 쓰면 True/False 로 된 \"마스크(mask)\" 배열이 만들어지고,\n",
    "  이 마스크를 원래 배열에 적용하면 True인 원소만 선택됨"
   ]
  },
  {
   "cell_type": "code",
   "execution_count": null,
   "id": "908fd3d4-0801-467a-b438-6e63e0800daa",
   "metadata": {},
   "outputs": [],
   "source": [
    "y = np.array([3, 6, 9, 12, 15])\n",
    "mask = (y % 6 == 0)\n",
    "print(mask)     # [False  True False  True False]\n",
    "print(y[mask])  # [ 6 12] "
   ]
  },
  {
   "cell_type": "markdown",
   "id": "7fb51119",
   "metadata": {},
   "source": [
    "#### 여러 조건 결합\n",
    "- `&` (and), `|` (or), `~` (not) 를 이용해 조건을 결합할 수 있음\n"
   ]
  },
  {
   "cell_type": "code",
   "execution_count": null,
   "id": "bab5cb97-cb20-4e4c-b191-266fdc7922e4",
   "metadata": {},
   "outputs": [],
   "source": [
    "arr = np.array([10, 15, 20, 25, 30])\n",
    "\n",
    "# 15 이상이고 30 미만인 원소만\n",
    "print(arr[(arr >= 15) & (arr < 30)])   # [15 20 25]"
   ]
  },
  {
   "cell_type": "code",
   "execution_count": null,
   "id": "8395a921-d087-4dc3-8663-82e41f92ea25",
   "metadata": {},
   "outputs": [],
   "source": [
    "# 20이 아닌 원소만\n",
    "print(arr[arr != 20]) # [10 15 25 30]"
   ]
  },
  {
   "cell_type": "markdown",
   "id": "ec317072",
   "metadata": {},
   "source": [
    "### 불린 인덱싱의 장점\n",
    "- 반복문 없이 조건에 맞는 데이터를 빠르게 추출 가능\n",
    "- 데이터 분석에서 \"필터링\"할 때 매우 유용\n",
    "\n",
    "#### ✅ 체크포인트\n",
    "- 불린 인덱싱은 **조건식 → True/False 배열 → True만 선택** 과정이다.\n",
    "- 조건을 결합할 때는 `and/or` 대신 `&` 와 `|` 를 쓴다.\n",
    "- `~` 는 조건을 반대로 뒤집는다.\n"
   ]
  },
  {
   "cell_type": "markdown",
   "id": "73ae7b08",
   "metadata": {},
   "source": [
    "### 연습 문제\n",
    "\n",
    "### 문제 1\n",
    "아래 배열이 있을 때,\n",
    "- 15보다 큰 원소만 출력하세요.\n",
    "- 10 이상 25 이하인 원소만 출력하세요.\n",
    "```python\n",
    "arr = np.array([5, 10, 15, 20, 25, 30])\n",
    "```"
   ]
  },
  {
   "cell_type": "code",
   "execution_count": null,
   "id": "6180d5ea",
   "metadata": {},
   "outputs": [],
   "source": [
    "# 여기에 문제 1 작성하세요\n",
    "arr = np.array([5, 10, 15, 20, 25, 30])\n"
   ]
  },
  {
   "cell_type": "markdown",
   "id": "ca7c4127",
   "metadata": {},
   "source": [
    "### 문제 2\n",
    "다음 배열이 있을 때,\n",
    "- 3의 배수이면서 2의 배수인 원소만 출력하세요.\n",
    "- 10보다 작거나 15보다 큰 원소만 출력하세요.\n",
    "\n",
    "```python\n",
    "arr = np.array([3, 6, 9, 12, 15, 18])\n",
    "```"
   ]
  },
  {
   "cell_type": "code",
   "execution_count": null,
   "id": "d4bba2d6",
   "metadata": {},
   "outputs": [],
   "source": [
    "# 여기에 문제 2 작성하세요\n",
    "arr = np.array([3, 6, 9, 12, 15, 18])\n"
   ]
  },
  {
   "cell_type": "markdown",
   "id": "39b053cb",
   "metadata": {},
   "source": [
    "## 4. 기본 연산 (Arithmetic & Aggregation)\n",
    "\n",
    "### 1) 스칼라 연산\n",
    "- 배열과 숫자(스칼라)를 더하거나 빼면, 모든 원소에 연산이 적용됨\n",
    "- 반복문을 쓰지 않아도 자동으로 전체 원소에 반영됨"
   ]
  },
  {
   "cell_type": "code",
   "execution_count": null,
   "id": "689b39ce",
   "metadata": {},
   "outputs": [],
   "source": [
    "import numpy as np\n",
    "\n",
    "arr = np.array([1, 2, 3, 4, 5])\n",
    "print(arr + 10)   # [11 12 13 14 15]\n",
    "print(arr * 2)    # [ 2  4  6  8 10]"
   ]
  },
  {
   "cell_type": "markdown",
   "id": "a2a0872a",
   "metadata": {},
   "source": [
    "### 2) 배열 간 연산\n",
    "- 같은 크기의 배열끼리는 원소별로 연산이 수행됨\n",
    "- (행렬 곱이 아니라, 원소별 곱이라는 점에 주의!)\n"
   ]
  },
  {
   "cell_type": "code",
   "execution_count": null,
   "id": "346c3b81",
   "metadata": {},
   "outputs": [],
   "source": [
    "import numpy as np\n",
    "\n",
    "a = np.array([1, 2, 3])\n",
    "b = np.array([10, 20, 30])\n",
    "\n",
    "print(a + b)   # [11 22 33]\n",
    "print(a * b)   # [10 40 90]\n",
    "print(a ** 2)  # [1 4 9]"
   ]
  },
  {
   "cell_type": "markdown",
   "id": "4297000d",
   "metadata": {},
   "source": [
    "### 3) 집계 함수 (Aggregation)\n",
    "- 배열 전체의 합계, 평균, 최댓값 등을 한 번에 계산\n",
    "- 자주 쓰이는 함수: `sum`, `mean`, `max`, `min`, `argmax`, `argmin`"
   ]
  },
  {
   "cell_type": "code",
   "execution_count": null,
   "id": "eabe200f",
   "metadata": {},
   "outputs": [],
   "source": [
    "import numpy as np\n",
    "\n",
    "x = np.array([5, 7, 3, 9])\n",
    "\n",
    "print(x.sum())      # 24 (합계)\n",
    "print(x.mean())     # 6.0 (평균)\n",
    "print(x.max())      # 9 (최댓값)\n",
    "print(x.min())      # 3 (최솟값)\n",
    "print(x.argmax())   # 3 (최댓값의 위치)\n",
    "print(x.argmin())   # 2 (최솟값의 위치)"
   ]
  },
  {
   "cell_type": "markdown",
   "id": "c3895b20",
   "metadata": {},
   "source": [
    "### 4) 다차원 배열에서의 집계\n",
    "- `axis` 옵션을 이용하면 행/열 방향으로 집계를 낼 수 있음\n",
    "- `axis=0`: 세로 방향(열 단위)\n",
    "- `axis=1`: 가로 방향(행 단위)"
   ]
  },
  {
   "cell_type": "code",
   "execution_count": null,
   "id": "6b4555b2",
   "metadata": {},
   "outputs": [],
   "source": [
    "mat = np.array([[1, 2, 3],\n",
    "                [4, 5, 6]])\n",
    "\n",
    "print(mat.sum())         # 21 (전체 합)\n",
    "print(mat.sum(axis=0))   # [5 7 9] (열별 합)\n",
    "print(mat.sum(axis=1))   # [6 15]  (행별 합)\n"
   ]
  },
  {
   "cell_type": "markdown",
   "id": "28acbe53",
   "metadata": {},
   "source": [
    "### ✅ 체크포인트\n",
    "- 스칼라 연산: 배열의 모든 원소에 동일하게 적용된다.\n",
    "- 배열 간 연산: 같은 위치끼리 원소별 연산을 수행한다.\n",
    "- 집계 함수: 전체/행/열 단위로 합계, 평균, 최댓값 등을 계산할 수 있다.\n"
   ]
  },
  {
   "cell_type": "markdown",
   "id": "11fc28de",
   "metadata": {},
   "source": [
    "### 연습 문제\n",
    "\n",
    "### 문제 1\n",
    "배열 arr = np.array([2, 4, 6, 8, 10])에 대해:\n",
    "\n",
    "1. 모든 원소를 제곱한 결과를 출력하세요.\n",
    "2. 모든 원소의 평균을 출력하세요.\n",
    "\n",
    "<details>\n",
    "<summary>정답</summary>\n",
    "\n",
    "```python\n",
    "import numpy as np\n",
    "\n",
    "arr = np.array([2, 4, 6, 8, 10])\n",
    "print(arr ** 2)     # [  4  16  36  64 100]\n",
    "print(arr.mean())   # 6.0\n",
    "\n",
    "</details>"
   ]
  },
  {
   "cell_type": "code",
   "execution_count": null,
   "id": "476ee7f8",
   "metadata": {},
   "outputs": [],
   "source": [
    "# 여기에 작성하세요\n",
    "import numpy as np\n",
    "arr = np.array([2, 4, 6, 8, 10])"
   ]
  },
  {
   "cell_type": "markdown",
   "id": "1dced024",
   "metadata": {},
   "source": [
    "### 문제 2\n",
    "\n",
    "아래 2차원 배열에 대해 \n",
    "- 전체 합계를 구하세요.\n",
    "- 각 열의 최댓값을 구하세요.\n",
    "- 각 행의 평균을 구하세요.\n",
    "```python \n",
    "mat = np.array([[10, 20, 30],\n",
    "                [40, 50, 60]])\n",
    "```\n",
    "\n",
    "<details>\n",
    "<summary>정답</summary>\n",
    "\n",
    "```python\n",
    "import numpy as np\n",
    "\n",
    "mat = np.array([[10, 20, 30],\n",
    "                [40, 50, 60]])\n",
    "\n",
    "print(mat.sum())        # 210\n",
    "print(mat.max(axis=0))  # [40 50 60]\n",
    "print(mat.mean(axis=1)) # [20. 50.]\n",
    "```\n",
    "\n",
    "</details>"
   ]
  },
  {
   "cell_type": "code",
   "execution_count": null,
   "id": "ea5092ba",
   "metadata": {},
   "outputs": [],
   "source": [
    "# 여기에 작성하세요\n",
    "import numpy as np"
   ]
  },
  {
   "cell_type": "markdown",
   "id": "5e4e99a1",
   "metadata": {},
   "source": [
    "## 5. Numpy 심화\n",
    "\n",
    "### 1) 배열 결합 (Concatenate, Stack)\n",
    "\n",
    "#### 배열 합치기 (concatenate)\n",
    "- 여러 배열을 하나로 이어 붙이는 기능\n",
    "- `axis=0`: 행(세로)로 붙이기  \n",
    "- `axis=1`: 열(가로)로 붙이기"
   ]
  },
  {
   "cell_type": "code",
   "execution_count": null,
   "id": "b4cf9fe1",
   "metadata": {},
   "outputs": [],
   "source": [
    "import numpy as np\n",
    "\n",
    "a = np.array([[1, 2],\n",
    "              [3, 4]])\n",
    "b = np.array([[5, 6]])\n",
    "\n",
    "print(np.concatenate([a, b], axis=0))\n",
    "# [[1 2]\n",
    "#  [3 4]\n",
    "#  [5 6]]"
   ]
  },
  {
   "cell_type": "markdown",
   "id": "41c27930",
   "metadata": {},
   "source": [
    "#### 배열 쌓기 (stack)\n",
    "- 차원을 하나 늘려서 쌓음\n",
    "- np.stack([a, b], axis=0) → 새로운 축 생성"
   ]
  },
  {
   "cell_type": "code",
   "execution_count": null,
   "id": "6ae55416",
   "metadata": {},
   "outputs": [],
   "source": [
    "x = np.array([1, 2, 3])\n",
    "y = np.array([4, 5, 6])\n",
    "\n",
    "print(np.stack([x, y], axis=0))\n",
    "# [[1 2 3]\n",
    "#  [4 5 6]]"
   ]
  },
  {
   "cell_type": "markdown",
   "id": "59b4c284",
   "metadata": {},
   "source": [
    "### 2) 3.2 브로드캐스팅 (Broadcasting)\n",
    "- 크기가 다른 배열끼리 연산할 때, 작은 배열을 자동으로 확장해 맞추는 기능\n",
    "- 규칙: 뒤에서부터 차원을 비교 → 1 또는 같은 크기면 연산 가능\n",
    "\n",
    "  <img src=\"image/Broadcasting.png\">\n"
   ]
  },
  {
   "cell_type": "code",
   "execution_count": null,
   "id": "a26555ad",
   "metadata": {},
   "outputs": [],
   "source": [
    "np.ones((3, 4))"
   ]
  },
  {
   "cell_type": "code",
   "execution_count": null,
   "id": "35cfc7a0",
   "metadata": {},
   "outputs": [],
   "source": [
    "M = np.ones((3, 4))   # (3행 4열)\n",
    "row = np.array([1, 2, 3, 4])   # (4,)\n",
    "\n",
    "print(M + row)\n",
    "# 각 행에 row가 더해짐"
   ]
  },
  {
   "cell_type": "code",
   "execution_count": null,
   "id": "58da92df",
   "metadata": {},
   "outputs": [],
   "source": [
    "col = np.array([[10],\n",
    "                [20],\n",
    "                [30]])  # (3행 1열)\n",
    "\n",
    "print(M + col)\n",
    "# 각 열에 col이 더해짐"
   ]
  },
  {
   "cell_type": "markdown",
   "id": "ceb64b67",
   "metadata": {},
   "source": [
    "### 연습 문제\n",
    "\n",
    "### 문제 1\n",
    "아래 두 배열을 이어 붙여 새로운 배열을 만들어보세요.\n",
    "\n",
    "```python\n",
    "a = np.array([[1, 2],\n",
    "              [3, 4]])\n",
    "b = np.array([[5, 6]])\n",
    "```\n",
    "\n",
    "- axis=0 방향으로 합치기\n",
    "- axis=1 방향으로 합치기\n",
    "\n",
    "<details>\n",
    "<summary>정답</summary>\n",
    "\n",
    "```python\n",
    "a = np.array([[1, 2],\n",
    "              [3, 4]])\n",
    "b = np.array([[5, 6]])\n",
    "\n",
    "print(np.concatenate([a, b], axis=0))\n",
    "# [[1 2]\n",
    "#  [3 4]\n",
    "#  [5 6]]\n",
    "\n",
    "print(np.concatenate([a, b.T], axis=1))\n",
    "# [[1 2 5]\n",
    "#  [3 4 6]]\n",
    "```\n",
    "</details>"
   ]
  },
  {
   "cell_type": "markdown",
   "id": "e59b7843",
   "metadata": {},
   "source": [
    "### 체크포인트\n",
    "- `concatenate`: 배열을 이어붙인다. (axis=0: 세로, axis=1: 가로)\n",
    "\n",
    "- `stack`: 새로운 차원을 추가해서 배열을 쌓는다.\n",
    "\n",
    "- **브로드캐스팅**: 크기가 맞지 않는 배열도 규칙에 따라 자동 확장하여 연산 가능하다."
   ]
  },
  {
   "cell_type": "code",
   "execution_count": null,
   "id": "379c1a9b",
   "metadata": {},
   "outputs": [],
   "source": [
    "### 여기에 작성하세요\n",
    "a = np.array([[1, 2],\n",
    "              [3, 4]])\n",
    "b = np.array([[5, 6]])"
   ]
  },
  {
   "cell_type": "markdown",
   "id": "8ba4d6e3",
   "metadata": {},
   "source": [
    "### 문제 2\n",
    "\n",
    "다음 배열이 있을 때, 브로드캐스팅을 이용해 계산하세요.\n",
    "\n",
    "```python\n",
    "M = np.array([[1, 2, 3],\n",
    "              [4, 5, 6]])\n",
    "v = np.array([10, 20, 30])\n",
    "```\n",
    "\n",
    "M + v 의 결과를 출력하세요.\n",
    "\n",
    "<details> <summary>정답</summary>\n",
    "\n",
    "```python\n",
    "import numpy as np\n",
    "\n",
    "M = np.array([[1, 2, 3],\n",
    "              [4, 5, 6]])\n",
    "v = np.array([10, 20, 30])\n",
    "\n",
    "print(M + v)\n",
    "# [[11 22 33]\n",
    "#  [14 25 36]]\n",
    "```\n",
    "</details>"
   ]
  },
  {
   "cell_type": "code",
   "execution_count": null,
   "id": "f50e8b63",
   "metadata": {},
   "outputs": [],
   "source": [
    "### 여기에 작성하세요\n",
    "M = np.array([[1, 2, 3],\n",
    "              [4, 5, 6]])\n",
    "v = np.array([10, 20, 30])"
   ]
  },
  {
   "cell_type": "markdown",
   "id": "39b0642e",
   "metadata": {},
   "source": [
    "### 문제 3\n",
    "\n",
    "길이 3 벡터 x = [1, 2, 3], y = [4, 5, 6]를\n",
    "\n",
    "- stack을 이용해 (2행 3열) 배열로 만들기\n",
    "- stack을 이용해 (3행 2열) 배열로 만들기\n",
    "\n",
    "<details><summary>정답</summary>\n",
    "\n",
    "```python\n",
    "import numpy as np\n",
    "\n",
    "x = np.array([1, 2, 3])\n",
    "y = np.array([4, 5, 6])\n",
    "\n",
    "print(np.stack([x, y], axis=0))\n",
    "# [[1 2 3]\n",
    "#  [4 5 6]]\n",
    "\n",
    "print(np.stack([x, y], axis=1))\n",
    "# [[1 4]\n",
    "#  [2 5]\n",
    "#  [3 6]]\n",
    "```\n",
    "</details> "
   ]
  },
  {
   "cell_type": "code",
   "execution_count": null,
   "id": "53febc7d",
   "metadata": {},
   "outputs": [],
   "source": [
    "### 여기에 작성하세요\n",
    "x = np.array([1, 2, 3])\n",
    "y = np.array([4, 5, 6])"
   ]
  },
  {
   "cell_type": "markdown",
   "id": "323edce4",
   "metadata": {},
   "source": [
    "### 문제 4\n",
    "아래 배열에서 짝수만 골라내는 코드를 작성하세요.\n",
    "\n",
    "```python\n",
    "arr = np.array([1, 2, 3, 4, 5, 6, 7, 8, 9, 10])\n",
    "```\n",
    "\n",
    "<details><summary>정답</summary>\n",
    "\n",
    "```python\n",
    "print(arr[arr % 2 == 0])\n",
    "# [ 2  4  6  8 10]\n",
    "```\n",
    "</details>"
   ]
  },
  {
   "cell_type": "code",
   "execution_count": null,
   "id": "563785ab",
   "metadata": {},
   "outputs": [],
   "source": [
    "### 여기에 작성하세요\n",
    "arr = np.array([1, 2, 3, 4, 5, 6, 7, 8, 9, 10])"
   ]
  },
  {
   "cell_type": "markdown",
   "id": "bbef8709",
   "metadata": {},
   "source": [
    "### 문제 5\n",
    "아래 배열의 평균, 표준편차, 분산을 구하세요.\n",
    "\n",
    "```python\n",
    "arr = np.array([1, 2, 3, 4, 5])\n",
    "```\n",
    "\n",
    "<details><summary>정답</summary>\n",
    "\n",
    "```python\n",
    "print(np.mean(arr))  # 3.0\n",
    "print(np.std(arr))   # 1.4142135623730951\n",
    "print(np.var(arr))   # 2.0\n",
    "```\n",
    "</details>"
   ]
  },
  {
   "cell_type": "code",
   "execution_count": null,
   "id": "34cf0074",
   "metadata": {},
   "outputs": [],
   "source": [
    "### 여기에 작성하세요\n",
    "arr = np.array([1, 2, 3, 4, 5])"
   ]
  },
  {
   "cell_type": "markdown",
   "id": "fcf08664",
   "metadata": {},
   "source": [
    "### 문제 6\n",
    "0부터 19까지의 정수로 이루어진 1차원 배열을 만들고, 이를 (4, 5) 모양으로 재구성하세요.\n",
    "\n",
    "<details><summary>정답</summary>\n",
    "\n",
    "```python\n",
    "arr = np.arange(20)\n",
    "print(arr.reshape(4, 5))\n",
    "# [[ 0  1  2  3  4]\n",
    "#  [ 5  6  7  8  9]\n",
    "#  [10 11 12 13 14]\n",
    "#  [15 16 17 18 19]]\n",
    "```\n",
    "</details>"
   ]
  },
  {
   "cell_type": "code",
   "execution_count": null,
   "id": "54115c71",
   "metadata": {},
   "outputs": [],
   "source": [
    "### 여기에 작성하세요"
   ]
  },
  {
   "cell_type": "markdown",
   "id": "3a79cb64",
   "metadata": {},
   "source": [
    "### 문제 7\n",
    "아래 배열의 각 행의 합과 각 열의 합을 구하세요.\n",
    "\n",
    "```python\n",
    "arr = np.array([[1, 2, 3],\n",
    "                [4, 5, 6],\n",
    "                [7, 8, 9]])\n",
    "```\n",
    "\n",
    "<details><summary>정답</summary>\n",
    "\n",
    "```python\n",
    "print(np.sum(arr, axis=1))  # [ 6 15 24]\n",
    "print(np.sum(arr, axis=0))  # [12 15 18]\n",
    "```\n",
    "</details>"
   ]
  },
  {
   "cell_type": "code",
   "execution_count": null,
   "id": "13a6cbdf",
   "metadata": {},
   "outputs": [],
   "source": [
    "### 여기에 작성하세요\n",
    "arr = np.array([[1, 2, 3],\n",
    "                [4, 5, 6],\n",
    "                [7, 8, 9]])"
   ]
  },
  {
   "cell_type": "markdown",
   "id": "35fbd551",
   "metadata": {},
   "source": [
    "### 문제 8\n",
    "아래 배열에서 최댓값과 최솟값, 그리고 각각의 위치(인덱스)를 구하세요.\n",
    "\n",
    "```python\n",
    "arr = np.array([10, 50, 30, 70, 20])\n",
    "```\n",
    "\n",
    "<details><summary>정답</summary>\n",
    "\n",
    "```python\n",
    "print(np.max(arr))        # 70\n",
    "print(np.min(arr))        # 10\n",
    "print(np.argmax(arr))     # 3\n",
    "print(np.argmin(arr))     # 0\n",
    "```\n",
    "</details>"
   ]
  },
  {
   "cell_type": "code",
   "execution_count": null,
   "id": "d2407615",
   "metadata": {},
   "outputs": [],
   "source": [
    "### 여기에 작성하세요\n",
    "arr = np.array([10, 50, 30, 70, 20])"
   ]
  },
  {
   "cell_type": "markdown",
   "id": "bf0226bb-f6fd-4664-a917-a0c579f00db4",
   "metadata": {},
   "source": [
    "### 문제 9\n",
    "아래 배열을 1차원으로 평탄화하세요.\n",
    "\n",
    "```python\n",
    "arr = np.array([[1, 2, 3],\n",
    "                [4, 5, 6]])\n",
    "```\n",
    "\n",
    "<details><summary>정답</summary>\n",
    "\n",
    "```python\n",
    "print(arr.flatten())\n",
    "# [1 2 3 4 5 6]\n",
    "```\n",
    "</details>"
   ]
  },
  {
   "cell_type": "code",
   "execution_count": null,
   "id": "02586896-5aae-4ead-99d0-59981b1b5080",
   "metadata": {},
   "outputs": [],
   "source": [
    "### 여기에 작성하세요\n",
    "arr = np.array([[1, 2, 3],\n",
    "                [4, 5, 6]])"
   ]
  },
  {
   "cell_type": "markdown",
   "id": "881f455d-ad14-45f6-a832-c12c3b80fb45",
   "metadata": {},
   "source": [
    "### 문제 10\n",
    "0과 1 사이의 난수를 원소로 가지는 (3, 3) 배열을 만드세요.\n",
    "\n",
    "<details><summary>정답</summary>\n",
    "\n",
    "```python\n",
    "arr = np.random.rand(3, 3)\n",
    "print(arr)\n",
    "```\n",
    "</details>"
   ]
  },
  {
   "cell_type": "code",
   "execution_count": null,
   "id": "51ab9332-e7fc-4bfe-908d-8312eeb913e0",
   "metadata": {},
   "outputs": [],
   "source": [
    "# 여기에 작성하세요\n"
   ]
  },
  {
   "cell_type": "markdown",
   "id": "f2233144",
   "metadata": {},
   "source": [
    "### 문제 11\n",
    "아래 배열을 전치(transpose)하세요.\n",
    "\n",
    "```python\n",
    "arr = np.array([[1, 2],\n",
    "                [3, 4],\n",
    "                [5, 6]])\n",
    "```\n",
    "\n",
    "<details><summary>정답</summary>\n",
    "\n",
    "```python\n",
    "print(arr.T)\n",
    "# [[1 3 5]\n",
    "#  [2 4 6]]\n",
    "```\n",
    "</details>"
   ]
  },
  {
   "cell_type": "code",
   "execution_count": null,
   "id": "71f02c9f",
   "metadata": {},
   "outputs": [],
   "source": [
    "### 여기에 작성하세요"
   ]
  },
  {
   "cell_type": "markdown",
   "id": "7da1f8c6",
   "metadata": {},
   "source": [
    "### 문제 12\n",
    "아래 배열에서 5보다 큰 값만 0으로 바꾸세요.\n",
    "\n",
    "```python\n",
    "arr = np.array([1, 6, 3, 8, 5, 10])\n",
    "```\n",
    "\n",
    "<details><summary>정답</summary>\n",
    "\n",
    "```python\n",
    "arr[arr > 5] = 0\n",
    "print(arr)\n",
    "# [1 0 3 0 5 0]\n",
    "```\n",
    "</details>"
   ]
  },
  {
   "cell_type": "code",
   "execution_count": null,
   "id": "d19ed5bd",
   "metadata": {},
   "outputs": [],
   "source": [
    "### 여기에 작성하세요\n",
    "arr = np.array([1, 6, 3, 8, 5, 10])"
   ]
  },
  {
   "cell_type": "markdown",
   "id": "b3055bba",
   "metadata": {},
   "source": [
    "### 문제 13\n",
    "아래 배열에서 두 번째 행과 세 번째 열만 추출하세요.\n",
    "\n",
    "```python\n",
    "arr = np.array([[1, 2, 3],\n",
    "                [4, 5, 6],\n",
    "                [7, 8, 9]])\n",
    "```\n",
    "\n",
    "<details><summary>정답</summary>\n",
    "\n",
    "```python\n",
    "print(arr[1, :])   # [4 5 6]\n",
    "print(arr[:, 2])   # [3 6 9]\n",
    "```\n",
    "</details>"
   ]
  },
  {
   "cell_type": "code",
   "execution_count": null,
   "id": "0b40b8e7",
   "metadata": {},
   "outputs": [],
   "source": [
    "### 여기에 작성하세요\n",
    "arr = np.array([[1, 2, 3],\n",
    "                [4, 5, 6],\n",
    "                [7, 8, 9]])"
   ]
  },
  {
   "cell_type": "markdown",
   "id": "901f925a",
   "metadata": {},
   "source": [
    "### 문제 14\n",
    "아래 배열을 이용하여 행렬 곱셈을 수행하세요.\n",
    "\n",
    "```python\n",
    "a = np.array([[1, 2],\n",
    "              [3, 4]])\n",
    "b = np.array([[5, 6],\n",
    "              [7, 8]])\n",
    "```\n",
    "\n",
    "<details><summary>정답</summary>\n",
    "\n",
    "```python\n",
    "print(np.matmul(a, b))\n",
    "# [[19 22]\n",
    "#  [43 50]]\n",
    "```\n",
    "</details>"
   ]
  },
  {
   "cell_type": "code",
   "execution_count": null,
   "id": "5eed31a1",
   "metadata": {},
   "outputs": [],
   "source": [
    "### 여기에 작성하세요\n",
    "a = np.array([[1, 2],\n",
    "              [3, 4]])\n",
    "b = np.array([[5, 6],\n",
    "              [7, 8]])"
   ]
  },
  {
   "cell_type": "markdown",
   "id": "b63909b8",
   "metadata": {},
   "source": [
    "#### 난수 시드 설정\n",
    "\n",
    "**난수 시드 설정이란?**\n",
    "\n",
    "- NumPy에서 난수(랜덤 숫자)를 생성할 때, 결과의 재현 가능성을 보장하기 위해 사용하는 초기값 설정 방법\n",
    "- 난수 생성은 기본적으로 예측 불가능하지만, 시드를 설정하면 동일한 난수 시퀀스를 반복적으로 얻을 수 있음\n",
    "- 주로 실험 재현, 디버깅, 테스트 등에서 사용됨\n",
    "\n",
    "`예시`\n",
    "\n",
    "```python\n",
    "시드 설정 없이 난수 생성\n",
    "pythonimport numpy as np\n",
    "print(np.random.rand(3))  # 매번 다른 난수 출력, 예: [0.123, 0.456, 0.789]\n",
    "print(np.random.rand(3))  # 또 다른 난수 출력, 예: [0.321, 0.654, 0.987]\n",
    "\n",
    "시드 설정 후 난수 생성\n",
    "pythonimport numpy as np\n",
    "np.random.seed(42)  # 시드값 42 설정\n",
    "print(np.random.rand(3))  # 출력: [0.37454012, 0.95071431, 0.73199394]\n",
    "np.random.seed(42)  # 동일한 시드값 재설정\n",
    "print(np.random.rand(3))  # 출력: [0.37454012, 0.95071431, 0.73199394] (동일)\n",
    "```"
   ]
  },
  {
   "cell_type": "markdown",
   "id": "cdb84876",
   "metadata": {},
   "source": [
    "### 문제 15\n",
    "난수 시드를 42로 고정한 뒤, (2, 5) 크기의 정수 배열을 0~9 범위에서 무작위로 생성하세요.\n",
    "\n",
    "<details><summary>정답</summary>\n",
    "\n",
    "```python\n",
    "np.random.seed(42)\n",
    "arr = np.random.randint(0, 10, (2, 5))\n",
    "print(arr)\n",
    "```\n",
    "</details>"
   ]
  },
  {
   "cell_type": "code",
   "execution_count": null,
   "id": "ab8a4d9d",
   "metadata": {},
   "outputs": [],
   "source": [
    "### 여기에 작성하세요"
   ]
  },
  {
   "cell_type": "markdown",
   "id": "89504bb9",
   "metadata": {},
   "source": [
    "### 문제 16\n",
    "아래 배열의 각 원소에 제곱을 취한 배열을 만드세요.\n",
    "\n",
    "```python\n",
    "arr = np.array([1, 2, 3, 4, 5])\n",
    "```\n",
    "\n",
    "<details><summary>정답</summary>\n",
    "\n",
    "```python\n",
    "print(np.square(arr))\n",
    "# [ 1  4  9 16 25]\n",
    "```\n",
    "</details>"
   ]
  },
  {
   "cell_type": "code",
   "execution_count": null,
   "id": "5ae9c9e4",
   "metadata": {},
   "outputs": [],
   "source": [
    "### 여기에 작성하세요\n",
    "arr = np.array([1, 2, 3, 4, 5])"
   ]
  },
  {
   "cell_type": "markdown",
   "id": "f4365e17",
   "metadata": {},
   "source": [
    "### 문제 17\n",
    "아래 배열에서 유일한 값(중복 제거된 값)들을 오름차순으로 출력하세요.\n",
    "\n",
    "```python\n",
    "arr = np.array([1, 2, 3, 2, 4, 1, 5, 3])\n",
    "```\n",
    "\n",
    "<details><summary>정답</summary>\n",
    "\n",
    "```python\n",
    "print(np.unique(arr))\n",
    "# [1 2 3 4 5]\n",
    "```\n",
    "</details>"
   ]
  },
  {
   "cell_type": "code",
   "execution_count": null,
   "id": "153d1264",
   "metadata": {},
   "outputs": [],
   "source": [
    "### 여기에 작성하세요"
   ]
  },
  {
   "cell_type": "markdown",
   "id": "88629d03",
   "metadata": {},
   "source": [
    "### 문제 18\n",
    "아래 배열을 정규화(평균=0, 표준편차=1)하세요.\n",
    "\n",
    "```python\n",
    "arr = np.array([1, 2, 3, 4, 5])\n",
    "```\n",
    "정규화 공식 (x - mean(x)) / std(x)\n",
    "<details><summary>정답</summary>\n",
    "\n",
    "```python\n",
    "normalized = (arr - np.mean(arr)) / np.std(arr)\n",
    "print(normalized)\n",
    "# [-1.41421356 -0.70710678  0.          0.70710678  1.41421356]\n",
    "```\n",
    "</details>"
   ]
  },
  {
   "cell_type": "code",
   "execution_count": null,
   "id": "57997d21",
   "metadata": {},
   "outputs": [],
   "source": [
    "### 여기에 작성하세요\n",
    "arr = np.array([1, 2, 3, 4, 5])\n"
   ]
  },
  {
   "cell_type": "markdown",
   "id": "89748aa1",
   "metadata": {},
   "source": [
    "### 문제 19\n",
    "아래 배열을 슬라이싱해서 (2, 2) 크기의 부분 배열을 만드세요.\n",
    "\n",
    "```python\n",
    "arr = np.array([[1, 2, 3],\n",
    "                [4, 5, 6],\n",
    "                [7, 8, 9]])\n",
    "```\n",
    "\n",
    "<details><summary>정답</summary>\n",
    "\n",
    "```python\n",
    "print(arr[0:2, 1:3])\n",
    "# [[2 3]\n",
    "#  [5 6]]\n",
    "```\n",
    "</details>"
   ]
  },
  {
   "cell_type": "code",
   "execution_count": null,
   "id": "6dd99ee9",
   "metadata": {},
   "outputs": [],
   "source": [
    "### 여기에 작성하세요\n",
    "arr = np.array([[1, 2, 3],\n",
    "                [4, 5, 6],\n",
    "                [7, 8, 9]])"
   ]
  },
  {
   "cell_type": "markdown",
   "id": "89c0c54c",
   "metadata": {},
   "source": [
    "### 문제 20\n",
    "아래 배열에서 각 열의 최댓값을 구하세요.\n",
    "\n",
    "```python\n",
    "arr = np.array([[1, 7, 3],\n",
    "                [4, 5, 9],\n",
    "                [2, 8, 6]])\n",
    "```\n",
    "\n",
    "<details><summary>정답</summary>\n",
    "\n",
    "```python\n",
    "print(np.max(arr, axis=0))\n",
    "# [4 8 9]\n",
    "```\n",
    "</details>"
   ]
  },
  {
   "cell_type": "code",
   "execution_count": null,
   "id": "9266853c",
   "metadata": {},
   "outputs": [],
   "source": [
    "### 여기에 작성하세요\n",
    "arr = np.array([[1, 7, 3],\n",
    "                [4, 5, 9],\n",
    "                [2, 8, 6]])"
   ]
  },
  {
   "cell_type": "markdown",
   "id": "03997a02",
   "metadata": {},
   "source": [
    "### 문제 21\n",
    "아래 배열에서 3의 배수는 `\"Fizz\"`, 5의 배수는 `\"Buzz\"`, 15의 배수는 `\"FizzBuzz\"`로 바꾸고 출력하세요.  \n",
    "\n",
    "```python\n",
    "arr = np.arange(1, 21)\n",
    "```\n",
    "\n",
    "<details><summary>정답</summary>\n",
    "\n",
    "```python\n",
    "arr_str = arr.astype(\"object\")\n",
    "\n",
    "arr_str[arr % 15 == 0] = \"FizzBuzz\"\n",
    "arr_str[(arr % 3 == 0) & (arr % 15 != 0)] = \"Fizz\"\n",
    "arr_str[(arr % 5 == 0) & (arr % 15 != 0)] = \"Buzz\"\n",
    "\n",
    "print(arr_str)\n",
    "# [1 2 'Fizz' 4 'Buzz' 'Fizz' 7 8 'Fizz' 'Buzz' 11 'Fizz' 13 14 'FizzBuzz'\n",
    "#  16 17 'Fizz' 19 'Buzz']\n",
    "```\n",
    "</details>\n"
   ]
  },
  {
   "cell_type": "code",
   "execution_count": null,
   "id": "c4e77792",
   "metadata": {},
   "outputs": [],
   "source": [
    "arr = np.arange(1, 21)"
   ]
  },
  {
   "cell_type": "markdown",
   "id": "339c5cea",
   "metadata": {},
   "source": [
    "### 문제 22\n",
    "0과 1 사이의 난수로 이루어진 (5, 5) 배열을 만들고,  \n",
    "`0.3 ≤ 값 ≤ 0.7` 인 원소는 모두 0으로 바꾸세요.  \n",
    "\n",
    "<details><summary>정답</summary>\n",
    "\n",
    "```python\n",
    "np.random.seed(42)\n",
    "arr = np.random.rand(5, 5)\n",
    "arr[(arr >= 0.3) & (arr <= 0.7)] = 0\n",
    "print(arr)\n",
    "```\n",
    "</details>\n"
   ]
  },
  {
   "cell_type": "code",
   "execution_count": null,
   "id": "9e4248e0",
   "metadata": {},
   "outputs": [],
   "source": [
    "### 여기에 작성하세요\n"
   ]
  },
  {
   "cell_type": "markdown",
   "id": "f8351ae7",
   "metadata": {},
   "source": [
    "### 문제 23\n",
    "1부터 100까지의 숫자로 이루어진 배열을 (10, 10) 모양으로 만들고,  \n",
    "짝수는 그대로 두고 홀수는 모두 -1로 바꾸세요.  \n",
    "\n",
    "<details><summary>정답</summary>\n",
    "\n",
    "```python\n",
    "arr = np.arange(1, 101).reshape(10, 10)\n",
    "arr[arr % 2 == 1] = -1\n",
    "print(arr)\n",
    "```\n",
    "</details>"
   ]
  },
  {
   "cell_type": "code",
   "execution_count": null,
   "id": "3df386ec",
   "metadata": {},
   "outputs": [],
   "source": [
    "### 여기에 작성하세요\n"
   ]
  },
  {
   "cell_type": "markdown",
   "id": "08dcfdf0",
   "metadata": {},
   "source": [
    "### 문제 24\n",
    "1부터 1,000,000까지의 숫자를 제곱한 결과를 각각 파이썬 리스트와 넘파이 배열을 이용해 계산하고,\n",
    "두 방법의 실행 시간을 각각 출력하여 비교하세요.\n",
    "\n",
    "<details><summary>정답</summary>\n",
    "\n",
    "```python\n",
    "import time\n",
    "import numpy as np\n",
    "\n",
    "# 리스트 연산\n",
    "start = time.time()\n",
    "list_result = [x**2 for x in range(1, 1_000_001)]\n",
    "end = time.time()\n",
    "print(\"리스트 연산 시간:\", end - start)\n",
    "\n",
    "# 넘파이 연산\n",
    "arr = np.arange(1, 1_000_001)\n",
    "start = time.time()\n",
    "np_result = arr ** 2\n",
    "end = time.time()\n",
    "print(\"넘파이 연산 시간:\", end - start)\n",
    "```\n",
    "</details>\n"
   ]
  },
  {
   "cell_type": "code",
   "execution_count": null,
   "id": "9908a405",
   "metadata": {},
   "outputs": [],
   "source": [
    "### 여기에 작성하세요\n"
   ]
  },
  {
   "cell_type": "markdown",
   "id": "35745f9b",
   "metadata": {},
   "source": [
    "### 심화문제"
   ]
  },
  {
   "cell_type": "markdown",
   "id": "2f74c9ec",
   "metadata": {},
   "source": [
    "### 심화 1\n",
    "\n",
    "아래 이미지를 넘파이 배열로 읽어서 (이미지 경로 : image/dog_gray.jpg)  \n",
    "① 모든 원소 값을 절반으로 줄이고,  \n",
    "② 배열의 가운데 20×20 영역만 밝기를 0으로 만들어라.  \n",
    "\n",
    "이미지 출처 : https://pixabay.com/ko/photos/%ED%9D%91%EB%B0%B1-%EC%9D%B4%EB%AF%B8%EC%A7%80-%EA%B2%80%EC%A0%95%EC%83%89%EA%B3%BC-%ED%9D%B0%EC%83%89-8598798/\n",
    "\n",
    "<details><summary>정답</summary>\n",
    "\n",
    "```python\n",
    "import matplotlib.pyplot as plt\n",
    "arr = plt.imread('image/dog_gray.jpg')\n",
    "plt.imshow(arr, cmap='gray')\n",
    "\n",
    "# ① 전체 밝기를 절반으로 줄이기\n",
    "arr_half = arr // 2\n",
    "\n",
    "# ② 가운데 50x50 영역만 0으로 만들기\n",
    "h, w = arr_half.shape\n",
    "center_h, center_w = h // 2, w // 2\n",
    "arr_half[center_h-10:center_h+10, center_w-10:center_w+10] = 0\n",
    "\n",
    "# 결과 출력\n",
    "plt.imshow(arr_half, cmap='gray')\n",
    "plt.axis(\"off\")\n",
    "plt.show()\n",
    "\n",
    "```\n",
    "</details>\n"
   ]
  },
  {
   "cell_type": "code",
   "execution_count": null,
   "id": "6b862319",
   "metadata": {},
   "outputs": [],
   "source": [
    "import matplotlib.pyplot as plt\n",
    "arr = plt.imread('image/dog_gray.jpg')\n",
    "plt.imshow(arr, cmap='gray')"
   ]
  },
  {
   "cell_type": "markdown",
   "id": "a1583e2a",
   "metadata": {},
   "source": [
    "### 심화 2\n",
    "몬테카를로 방법으로 원주율 π를 근사하라.\n",
    "단, 1,000,000개의 난수를 생성하고, [0,1]×[0,1] 정사각형 안에 난수를 뿌린 후,\n",
    "원의 1/4 내부에 들어온 점들의 비율을 이용해 π를 추정하라.\n",
    "\n",
    "<details><summary>정답</summary>\n",
    "\n",
    "```python\n",
    "import numpy as np\n",
    "\n",
    "N = 1_000_000\n",
    "\n",
    "# 난수 생성\n",
    "x = np.random.rand(N)\n",
    "y = np.random.rand(N)\n",
    "\n",
    "# 원 내부 조건 (x^2 + y^2 <= 1)\n",
    "inside = (x**2 + y**2) <= 1\n",
    "\n",
    "# 비율 계산\n",
    "pi_est = (inside.sum() / N) * 4\n",
    "\n",
    "print(\"추정한 원주율:\", pi_est)\n",
    "\n",
    "```\n",
    "</details>\n"
   ]
  },
  {
   "cell_type": "code",
   "execution_count": null,
   "id": "1a28d1aa",
   "metadata": {},
   "outputs": [],
   "source": [
    "import numpy as np\n",
    "\n",
    "N = 1_000_000\n",
    "\n",
    "# 난수 생성\n",
    "x = np.random.rand(N)\n",
    "y = np.random.rand(N)"
   ]
  },
  {
   "cell_type": "markdown",
   "id": "8f554917",
   "metadata": {},
   "source": [
    "### 심화 3\n",
    "1부터 1000까지의 숫자로 이루어진 곱셈표(1000×1000 행렬)를 생성하라.\n",
    "단, 이중 for문을 쓰지 말고 넘파이의 브로드캐스팅을 활용하여 구현하라.\n",
    "\n",
    "```\n",
    "array([[      1,       2,       3, ...,     998,     999,    1000],\n",
    "       [      2,       4,       6, ...,    1996,    1998,    2000],\n",
    "       [      3,       6,       9, ...,    2994,    2997,    3000],\n",
    "       ...,\n",
    "       [    998,    1996,    2994, ...,  996004,  997002,  998000],\n",
    "       [    999,    1998,    2997, ...,  997002,  998001,  999000],\n",
    "       [   1000,    2000,    3000, ...,  998000,  999000, 1000000]])\n",
    "```\n",
    "<details><summary>정답</summary>\n",
    "\n",
    "```python\n",
    "import numpy as np\n",
    "\n",
    "arr = np.arange(1, 1001)\n",
    "table = arr[:, None] * arr[None, :]   # 브로드캐스팅\n",
    "\n",
    "print(table)\n",
    "\n",
    "```\n",
    "</details>\n"
   ]
  },
  {
   "cell_type": "code",
   "execution_count": null,
   "id": "78865efb",
   "metadata": {},
   "outputs": [],
   "source": []
  }
 ],
 "metadata": {
  "encoded_email": [
   "cmxhYWxzdG4xNTA0QG5hdmVyLmNvbQ=="
  ],
  "filename": "MS01X+uNsOydtO2EsF/sgqzsnbTslrjsiqRfVG9vbGtpdC5pcHluYg==",
  "inserted_date": [
   "2025-09-19"
  ],
  "kernelspec": {
   "display_name": "Python 3 (ipykernel)",
   "language": "python",
   "name": "python3"
  },
  "language_info": {
   "codemirror_mode": {
    "name": "ipython",
    "version": 3
   },
   "file_extension": ".py",
   "mimetype": "text/x-python",
   "name": "python",
   "nbconvert_exporter": "python",
   "pygments_lexer": "ipython3",
   "version": "3.11.7"
  },
  "widgets": {
   "application/vnd.jupyter.widget-state+json": {
    "state": {},
    "version_major": 2,
    "version_minor": 0
   }
  }
 },
 "nbformat": 4,
 "nbformat_minor": 5
}
